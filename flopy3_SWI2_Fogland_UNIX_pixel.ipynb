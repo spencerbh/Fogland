{
 "cells": [
  {
   "cell_type": "markdown",
   "metadata": {},
   "source": [
    "## Fogland Point, RI \n",
    "### MODFLOW, SWI2, Flopy\n",
    "### This notebook has been tested in an ubuntu-xenial based linux distro\n",
    "\n",
    "-Spencer Harris  \n",
    "-spharris@sas.upenn.edu"
   ]
  },
  {
   "cell_type": "markdown",
   "metadata": {},
   "source": [
    "This model simulates transient movement of the freshwater-seawater interface beneath Fogland Point, a peninsula in the Narragansett Bay, Rhode Island. in response to recharge and groundwater withdrawals. One XX-ft thick aquifer that extends below sea level. The aquifer is unconfined, storage changes are not considered (all MODFLOW stress periods are steady-state).\n",
    "\n",
    "The domain is discretized into 100 columns, 100 rows, and 2 layers, with respective cell dimensions of 25 ft (`DELR`), 25 ft (`DELC`), and XX. A total of 230 years is simulated using three stress periods with lengths of 200, 12, and 18 years, with constant time steps of 0.2, 0.1, and 0.1 years, respectively. \n",
    "\n",
    "The horizontal and vertical hydraulic conductivity of the fractured rock aquifer is 10$^{-7}$ ft/d and 10$^{-8}$ ft/d**?**, respectively. The effective porosity is 0.0015. The model is extended offshore along all sides and the ocean boundary is represented as a general head boundary condition (GHB). A freshwater head of (Bay depth\\* -0.025) ft is specified for the Bay in all general head boundaries. The GHB conductance that controls outflow from the aquifer into the ocean is 15.6 ft$^{2}$/d and corresponds to a leakance of 0.025 d$^{-1}$ (or a resistance of 40 days).**may change?**\n",
    "\n",
    "The groundwater is divided into a freshwater zone and a seawater zone, separated by an active ZETA surface between the zones (`NSRF=1`) that approximates the 50-percent seawater salinity contour. Fluid density is represented using the stratified density option (`ISTRAT=1`). The dimensionless density difference ($\\nu$) between freshwater and saltwater is 0.025. The tip and toe tracking parameters are a `TOESLOPE` and `TIPSLOPE` of 0.1, a default `ALPHA` of 0.1, and a default `BETA` of 0.1. Initially, the interface between freshwater and saltwater is 1 m below MSL (0ft) on the island and at the top of the upper aquifer offshore. The SWI2 `ISOURCE` parameter is set to -2 in cells having GHBs so that water that infiltrates into the aquifer from the GHB cells is saltwater (zone 2), whereas water that flows out of the model at the GHB cells is identical to water at the top of the aquifer. ~~`ISOURCE` in layer X, row XX, column XX is set to 2 so that a saltwater well may be simulated in the third stress period of simulation 2.~~ In all other cells, the SWI2 `ISOURCE` parameter is set to 0, indicating boundary conditions have water that is identical to water at the top of the aquifer and can be either freshwater or saltwater, depending on the elevation of the active `ZETA` surface in the cell.\n",
    "\n",
    "A constant recharge rate of 0.00479 feet per day (ft/d) is used in all three stress periods. The development of the freshwater lens is simulated for 200 years\n",
    "\n",
    "-------------------------------------------------current stage-------------------------------------------------\n",
    "\n",
    "\n",
    ", after which a pumping well having a withdrawal rate of XXX ft$^3$/d is started in layer X, row XX, column XX. For the first simulation (simulation 1), the well pumps for XX years, after which the interface almost reaches the top of the upper aquifer layer. In the second simulation (simulation 2), an additional well withdrawing\n",
    "saltwater at a rate of 25 m$^3$/d is simulated below the freshwater well in layer 2 , row 31, column 36, 12 years after the freshwater groundwater withdrawal begins in the well in layer 1. The saltwater well is intended to prevent the interface from\n",
    "upconing into the upper aquifer (model layer).\n",
    "\n",
    "### Based off the Flopy notebook of SWI2 Example 4. Upconing Below a Pumping Well in a Two-Aquifer Island System in the [SWI2 documentation] (http://pubs.usgs.gov/tm/6a46/) \n"
   ]
  },
  {
   "cell_type": "markdown",
   "metadata": {},
   "source": [
    "Import `numpy` and `matplotlib`, set all figures to be inline, import `flopy.modflow` and `flopy.utils`."
   ]
  },
  {
   "cell_type": "code",
   "execution_count": 1,
   "metadata": {},
   "outputs": [
    {
     "name": "stdout",
     "output_type": "stream",
     "text": [
      "3.6.2 |Continuum Analytics, Inc.| (default, Jul 20 2017, 13:51:32) \n",
      "[GCC 4.4.7 20120313 (Red Hat 4.4.7-1)]\n",
      "numpy version: 1.13.1\n",
      "matplotlib version: 2.0.2\n",
      "flopy version: 3.2.6\n",
      "operating system: Linux\n"
     ]
    }
   ],
   "source": [
    "%matplotlib inline\n",
    "%config InlineBackend.figure_format = 'retina'\n",
    "import sys\n",
    "import os\n",
    "import platform\n",
    "import shutil\n",
    "import numpy as np\n",
    "import matplotlib as mpl\n",
    "import matplotlib.pyplot as plt\n",
    "\n",
    "\n",
    "# run installed version of flopy or add local path\n",
    "try:\n",
    "    import flopy\n",
    "except:\n",
    "    fpth = os.path.abspath(os.path.join('..', '..'))\n",
    "    sys.path.append(fpth)\n",
    "    import flopy\n",
    "\n",
    "\n",
    "from flopy.utils.reference import SpatialReference\n",
    "import flopy.utils.binaryfile as bf\n",
    "\n",
    "\n",
    "print(sys.version)\n",
    "print('numpy version: {}'.format(np.__version__))\n",
    "print('matplotlib version: {}'.format(mpl.__version__))\n",
    "print('flopy version: {}'.format(flopy.__version__))\n",
    "print('operating system: {}'.format(platform.system()))"
   ]
  },
  {
   "cell_type": "markdown",
   "metadata": {},
   "source": [
    "Define model name of your model and the location of MODFLOW executable. All MODFLOW files and output will be stored in the subdirectory defined by the workspace. Create a model named `ml` and specify that this is a MODFLOW-2005 model."
   ]
  },
  {
   "cell_type": "markdown",
   "metadata": {},
   "source": [
    "#### Little extra work to make sure we've tracked down the executable"
   ]
  },
  {
   "cell_type": "code",
   "execution_count": 2,
   "metadata": {
    "scrolled": true
   },
   "outputs": [
    {
     "name": "stdout",
     "output_type": "stream",
     "text": [
      "../../bin/mf2005.nix\n",
      "/home/sbhgeo/Documents/Fogland/bin/mf2005.nix\n",
      "if this =>  \" True \"  prints true, that means executable is in the correct spot\n"
     ]
    }
   ],
   "source": [
    "if platform.system() == 'Linux':\n",
    "    exe_name = os.path.join(\"..\", \"..\", \"bin\", \"mf2005.nix\") # adds path to mf2005.nix, which will be our executeable, to mfexe\n",
    "    abspath = os.path.abspath(exe_name) # assigns absolute path of mfexe to abspath, double checking\n",
    "    print(exe_name) #printing the variables\n",
    "    print(abspath)\n",
    "    print('if this =>  \\\"', os.path.isfile(exe_name),'\\\"  prints true, that means executable is in the correct spot')"
   ]
  },
  {
   "cell_type": "code",
   "execution_count": 3,
   "metadata": {
    "collapsed": true
   },
   "outputs": [],
   "source": [
    "#Set name of MODFLOW exe\n",
    "#  assumes executable is in users path statement\n",
    "\n",
    "if platform.system() == 'Linux':\n",
    "    exe_name = abspath\n",
    "\n",
    "if platform.system() == 'Windows':\n",
    "    exe_name = 'mf2005.exe'\n",
    "\n",
    "workspace = os.path.join('data')\n",
    "#make sure workspace directory exists\n",
    "if not os.path.exists(workspace):\n",
    "    os.makedirs(workspace)\n",
    "    \n",
    "outpath = 'data'\n",
    "if os.path.isdir(outpath):\n",
    "    shutil.rmtree(outpath)\n",
    "os.mkdir(outpath)"
   ]
  },
  {
   "cell_type": "markdown",
   "metadata": {},
   "source": [
    "Define the number of layers, rows and columns. The heads are computed quasi-steady state (hence a steady MODFLOW run) while the interface will move. There are three stress periods with a length of 200, 12, and 18 years and 1,000, 120, and 180 steps. "
   ]
  },
  {
   "cell_type": "code",
   "execution_count": 4,
   "metadata": {
    "collapsed": true
   },
   "outputs": [],
   "source": [
    "nrow, ncol = 100, 100\n",
    "xll, yll = 403877, 172913 # origin of the model (lower left corner)\n",
    "dxdy = 25 # grid spacing (in model units)\n",
    "rot = 0 # rotation (positive counterclockwise)\n",
    "\n",
    "\n",
    "# http://epsg.io/6568\n",
    "#model_epsg = 6568\n",
    "\n",
    "# alternatively, a proj4 string can be supplied\n",
    "# https://svn.osgeo.org/metacrs/proj/trunk/proj/nad/epsg\n",
    "# figure out a way not to hard code this\n",
    "model_proj4 = '+proj=tmerc +lat_0=41.08333333333334 +lon_0=-71.5 +k=0.99999375 +x_0=99999.99998983997 +y_0=0 +ellps=GRS80 +units=us-ft +no_defs'\n",
    "\n",
    "# row and column spacings\n",
    "# (note that delc is column spacings along a row; delr the row spacings along a column)\n",
    "delc = np.ones(nrow, dtype=float) * dxdy\n",
    "delr = np.ones(ncol, dtype=float) * dxdy\n",
    "\n",
    "\n",
    "sr = SpatialReference(delr=delr, delc=delc, xll=xll, yll=yll, rotation=rot, proj4_str= model_proj4, units = 'feet')"
   ]
  },
  {
   "cell_type": "code",
   "execution_count": 5,
   "metadata": {},
   "outputs": [
    {
     "name": "stdout",
     "output_type": "stream",
     "text": [
      "DELR = 25.0\n",
      "DELC = 25.0\n"
     ]
    }
   ],
   "source": [
    "print('DELR =', delr[0])\n",
    "print('DELC =', delc[0])"
   ]
  },
  {
   "cell_type": "code",
   "execution_count": 6,
   "metadata": {},
   "outputs": [
    {
     "data": {
      "text/plain": [
       "xul:403877; yul:175413; rotation:0; proj4_str:+proj=tmerc +lat_0=41.08333333333334 +lon_0=-71.5 +k=0.99999375 +x_0=99999.99998983997 +y_0=0 +ellps=GRS80 +units=us-ft +no_defs; units:feet; lenuni:1; length_multiplier:1.0"
      ]
     },
     "execution_count": 6,
     "metadata": {},
     "output_type": "execute_result"
    }
   ],
   "source": [
    "sr"
   ]
  },
  {
   "cell_type": "markdown",
   "metadata": {},
   "source": [
    "X,Y of lower left corner"
   ]
  },
  {
   "cell_type": "code",
   "execution_count": 7,
   "metadata": {},
   "outputs": [
    {
     "data": {
      "text/plain": [
       "(403877.0, 172913.0)"
      ]
     },
     "execution_count": 7,
     "metadata": {},
     "output_type": "execute_result"
    }
   ],
   "source": [
    "sr.xll, sr.yll"
   ]
  },
  {
   "cell_type": "markdown",
   "metadata": {},
   "source": [
    "Grid bounds"
   ]
  },
  {
   "cell_type": "code",
   "execution_count": 8,
   "metadata": {},
   "outputs": [
    {
     "data": {
      "text/plain": [
       "(403877.0, 172913.0, 406377.0, 175413.0)"
      ]
     },
     "execution_count": 8,
     "metadata": {},
     "output_type": "execute_result"
    }
   ],
   "source": [
    "sr.bounds"
   ]
  },
  {
   "cell_type": "markdown",
   "metadata": {},
   "source": [
    "Shapefile of grid"
   ]
  },
  {
   "cell_type": "code",
   "execution_count": 9,
   "metadata": {
    "collapsed": true
   },
   "outputs": [],
   "source": [
    "# sr.write_shapefile(os.path.join(outpath, 'grid2.shp'))"
   ]
  },
  {
   "cell_type": "markdown",
   "metadata": {},
   "source": [
    "----------------\n",
    "Define the `DIS` package"
   ]
  },
  {
   "cell_type": "code",
   "execution_count": 10,
   "metadata": {
    "collapsed": true
   },
   "outputs": [],
   "source": [
    "#ncol = 100     already assinged in Spatial Reference Module\n",
    "#nrow = 100     already assinged in Spatial Reference Module\n",
    "nlay = 2\n",
    "\n",
    "nper = 3\n",
    "perlen = [365.25 * 200., 365.25 * 12., 365.25 * 18.]\n",
    "nstp = [1000, 120, 180]\n",
    "save_head = [200, 60, 60]\n",
    "steady = True"
   ]
  },
  {
   "cell_type": "markdown",
   "metadata": {},
   "source": [
    "Import Elevation CSV, (created in QGIS) for top of layer 1 with sea level as 0 feet"
   ]
  },
  {
   "cell_type": "code",
   "execution_count": 11,
   "metadata": {
    "scrolled": true
   },
   "outputs": [
    {
     "name": "stdout",
     "output_type": "stream",
     "text": [
      "(100, 100) <class 'numpy.ndarray'>\n"
     ]
    }
   ],
   "source": [
    "lay1top = np.loadtxt('./importdata/lay1top.csv', delimiter=',', skiprows=1)\n",
    "lay1top = lay1top[:,6]\n",
    "lay1top = lay1top.reshape(100,100)\n",
    "\n",
    "lay1top = np.flipud(lay1top) \n",
    "#new line flipping array because CSV was made with grid origin in upper left instead of lowerleft\n",
    "\n",
    "print(lay1top.shape, type(lay1top))"
   ]
  },
  {
   "cell_type": "code",
   "execution_count": 12,
   "metadata": {
    "collapsed": true
   },
   "outputs": [],
   "source": [
    "# dis data\n",
    "#delr, delc = 25.0, 25.0 #defined above\n",
    "top = lay1top\n",
    "botm = np.array([-43., -200.])"
   ]
  },
  {
   "cell_type": "markdown",
   "metadata": {},
   "source": [
    "Define the `IBOUND` array and starting heads for the `BAS` package. The corners of the model are defined to be inactive."
   ]
  },
  {
   "cell_type": "code",
   "execution_count": 13,
   "metadata": {},
   "outputs": [
    {
     "data": {
      "text/plain": [
       "(2, 100, 100)"
      ]
     },
     "execution_count": 13,
     "metadata": {},
     "output_type": "execute_result"
    }
   ],
   "source": [
    "# bas data\n",
    "# ibound - active except for the corners\n",
    "ibound = np.ones((nlay, nrow, ncol), dtype= np.int)\n",
    "ibound[:, 0, 0] = 0\n",
    "ibound[:, 0, -1] = 0\n",
    "ibound[:, -1, 0] = 0\n",
    "ibound[:, -1, -1] = 0\n",
    "# initial head data\n",
    "ihead = np.zeros((nlay, nrow, ncol), dtype=np.float)\n",
    "ihead.shape"
   ]
  },
  {
   "cell_type": "markdown",
   "metadata": {},
   "source": [
    "Define the layers to be confined and define the horizontal and vertical hydraulic conductivity of the aquifer for the `LPF` package."
   ]
  },
  {
   "cell_type": "code",
   "execution_count": 101,
   "metadata": {
    "collapsed": true
   },
   "outputs": [],
   "source": [
    "# lpf data\n",
    "#laytyp = np.array([1,0])\n",
    "laytyp = np.array([0,0])\n",
    "hk = 0.000001 #changed\n",
    "vka = 0.0000001 #changed"
   ]
  },
  {
   "cell_type": "code",
   "execution_count": 102,
   "metadata": {},
   "outputs": [],
   "source": [
    "#laytyp.shape"
   ]
  },
  {
   "cell_type": "markdown",
   "metadata": {},
   "source": [
    "Define the boundary condition data for the model"
   ]
  },
  {
   "cell_type": "markdown",
   "metadata": {},
   "source": [
    "Pulling in data in for GHB "
   ]
  },
  {
   "cell_type": "code",
   "execution_count": 103,
   "metadata": {},
   "outputs": [
    {
     "name": "stdout",
     "output_type": "stream",
     "text": [
      "(100, 100) <class 'numpy.ndarray'>\n",
      "(100, 100) <class 'numpy.ndarray'>\n"
     ]
    }
   ],
   "source": [
    "seawater_GHB = np.loadtxt('./importdata/bay_heads_GHB_ft.csv', delimiter=',', skiprows=1)\n",
    "index = seawater_GHB[:,5]\n",
    "index = index.reshape(100,100)\n",
    "\n",
    "index = np.flipud(index) \n",
    "#new line flipping array because CSV was made with grid origin in upper left instead of lowerleft\n",
    "\n",
    "print(index.shape, type(index))\n",
    "\n",
    "seawater_heads = seawater_GHB[:,4]\n",
    "seawater_heads= seawater_heads.reshape(100,100)\n",
    "print(seawater_heads.shape, type(seawater_heads))"
   ]
  },
  {
   "cell_type": "code",
   "execution_count": 104,
   "metadata": {
    "collapsed": true
   },
   "outputs": [],
   "source": [
    "# boundary condition data\n",
    "# ghb data\n",
    "colcell, rowcell = np.meshgrid(np.arange(0, ncol), np.arange(0, nrow))\n",
    "# making an grid of where GHB is active, 1 = active, 0 = inactive\n",
    "\n",
    "nghb = int(np.sum(index))\n",
    "lrchc = np.zeros((nghb, 5))\n",
    "lrchc[:, 0] = 0\n",
    "lrchc[:, 1] = rowcell[index == 1]\n",
    "lrchc[:, 2] = colcell[index == 1]\n",
    "lrchc[:, 3] = seawater_heads[index == 1]\n",
    "lrchc[:, 4] = dxdy * dxdy / 40.0 #resistance time of 40 days\n",
    "# create ghb dictionary\n",
    "ghb_data = {0:lrchc}\n",
    "\n",
    "# recharge data\n",
    "rch = np.zeros((nrow, ncol), dtype=np.float)\n",
    "rch[index == 0] = 0.001 #in\n",
    "# need to recalculate recharge.....\n",
    "# create recharge dictionary\n",
    "rch_data = {0: rch}\n",
    "\n",
    "# well data\n",
    "nwells = 2\n",
    "lrcq = np.zeros((nwells, 4))\n",
    "lrcq[0, :] = np.array((0, 30, 35, 0))\n",
    "lrcq[1, :] = np.array([1, 30, 35, 0])\n",
    "lrcqw = lrcq.copy()\n",
    "lrcqw[0, 3] = -250\n",
    "lrcqsw = lrcq.copy()\n",
    "lrcqsw[0, 3] = -250.\n",
    "lrcqsw[1, 3] = -25.\n",
    "# create well dictionary\n",
    "base_well_data = {0:lrcq, 1:lrcqw}\n",
    "swwells_well_data = {0:lrcq, 1:lrcqw, 2:lrcqsw}"
   ]
  },
  {
   "cell_type": "code",
   "execution_count": 105,
   "metadata": {
    "collapsed": true
   },
   "outputs": [],
   "source": [
    "# swi2 data\n",
    "nadptmx = 10\n",
    "nadptmn = 1\n",
    "nu = [0, 0.025]\n",
    "numult = 0.250\n",
    "toeslope = nu[1] / numult  #0.1\n",
    "tipslope = nu[1] / numult  #0.1\n",
    "z1 = 0.0 * np.ones((nrow, ncol))\n",
    "z1[index == 0] = -1.0\n",
    "z = np.array([[z1,z1]])\n",
    "iso = np.zeros((nlay, nrow, ncol), dtype=np.int)\n",
    "iso[0, :, :][index == 0] = 1\n",
    "iso[0, :, :][index == 1] = -2\n",
    "iso[1, 30, 35] = 2\n",
    "ssz=0.2\n",
    "# swi2 observations\n",
    "obsnam = ['layer1_', 'layer2_']\n",
    "obslrc=[[0, 30, 35],[1,30,35]]\n",
    "nobs = len(obsnam)\n",
    "iswiobs = 1051"
   ]
  },
  {
   "cell_type": "code",
   "execution_count": 106,
   "metadata": {},
   "outputs": [
    {
     "data": {
      "text/plain": [
       "0.1"
      ]
     },
     "execution_count": 106,
     "metadata": {},
     "output_type": "execute_result"
    }
   ],
   "source": [
    "toeslope"
   ]
  },
  {
   "cell_type": "code",
   "execution_count": 107,
   "metadata": {},
   "outputs": [
    {
     "data": {
      "text/plain": [
       "(1, 2, 100, 100)"
      ]
     },
     "execution_count": 107,
     "metadata": {},
     "output_type": "execute_result"
    }
   ],
   "source": [
    "iso.shape\n",
    "z.shape\n",
    "#type(z)"
   ]
  },
  {
   "cell_type": "markdown",
   "metadata": {},
   "source": [
    "Create output control (OC) data using words "
   ]
  },
  {
   "cell_type": "code",
   "execution_count": 108,
   "metadata": {
    "collapsed": true
   },
   "outputs": [],
   "source": [
    "# oc data\n",
    "spd = {(0,199): ['print budget', 'save head'],\n",
    "       (0,200): [],\n",
    "       (0,399): ['print budget', 'save head'],\n",
    "       (0,400): [],\n",
    "       (0,599): ['print budget', 'save head'],\n",
    "       (0,600): [],\n",
    "       (0,799): ['print budget', 'save head'],\n",
    "       (0,800): [],\n",
    "       (0,999): ['print budget', 'save head'],\n",
    "       (1,0): [],\n",
    "       (1,59): ['print budget', 'save head'],\n",
    "       (1,60): [],\n",
    "       (1,119): ['print budget', 'save head'],\n",
    "       (1,120): [],\n",
    "       (2,0): [],\n",
    "       (2,59): ['print budget', 'save head'],\n",
    "       (2,60): [],\n",
    "       (2,119): ['print budget', 'save head'],\n",
    "       (2,120): [],\n",
    "       (2,179): ['print budget', 'save head']}"
   ]
  },
  {
   "cell_type": "markdown",
   "metadata": {},
   "source": [
    "Create the model with the freshwater well (Simulation 1)"
   ]
  },
  {
   "cell_type": "code",
   "execution_count": 109,
   "metadata": {},
   "outputs": [
    {
     "name": "stdout",
     "output_type": "stream",
     "text": [
      "ModflowSwi2: specification of nobs is deprecated.\n"
     ]
    }
   ],
   "source": [
    "modelname = 'swifogland_s1'\n",
    "ml = flopy.modflow.Modflow(modelname, version='mf2005', exe_name=exe_name, model_ws=workspace)\n",
    "\n",
    "discret = flopy.modflow.ModflowDis(ml, nlay=nlay, nrow=nrow, ncol=ncol, laycbd=0,\n",
    "                                   delr=delr, delc=delc, top=lay1top, botm=botm,\n",
    "                                   nper=nper, perlen=perlen, nstp=nstp, lenuni = 1)\n",
    "bas = flopy.modflow.ModflowBas(ml, ibound=ibound, strt=ihead)\n",
    "lpf = flopy.modflow.ModflowLpf(ml, laytyp=laytyp, hk=hk, vka=vka)\n",
    "wel = flopy.modflow.ModflowWel(ml, stress_period_data=base_well_data)\n",
    "ghb = flopy.modflow.ModflowGhb(ml, stress_period_data=ghb_data)\n",
    "rch = flopy.modflow.ModflowRch(ml, rech=rch_data)\n",
    "swi = flopy.modflow.ModflowSwi2(ml, nsrf=1, istrat=1, toeslope=toeslope, tipslope=tipslope, nu=nu, \n",
    "                                alpha = 0.1, zeta=z, ssz=ssz, isource=iso, nsolver=2, nadptmx=nadptmx, \n",
    "                                nadptmn=nadptmn, nobs=nobs, iswiobs=iswiobs, obsnam=obsnam, \n",
    "                                obslrc=obslrc, iswizt=55)\n",
    "oc = flopy.modflow.ModflowOc(ml, stress_period_data=spd)\n",
    "pcg = flopy.modflow.ModflowPcg(ml, hclose=1.0e-6, rclose=3.0e-3, mxiter=100, iter1=50)"
   ]
  },
  {
   "cell_type": "code",
   "execution_count": 110,
   "metadata": {},
   "outputs": [],
   "source": [
    "ml.sr = SpatialReference(delr=delr, delc=delc, xll=xll, yll=yll, rotation=rot, proj4_str= model_proj4, units = 'feet')"
   ]
  },
  {
   "cell_type": "markdown",
   "metadata": {},
   "source": [
    "Look at the model"
   ]
  },
  {
   "cell_type": "code",
   "execution_count": 111,
   "metadata": {},
   "outputs": [
    {
     "data": {
      "image/png": "[encoded data removed]",
      "text/plain": [
       "<matplotlib.figure.Figure at 0x7f3d94562b70>"
      ]
     },
     "metadata": {
      "image/png": {
       "height": 467,
       "width": 496
      }
     },
     "output_type": "display_data"
    }
   ],
   "source": [
    "fig = plt.figure(figsize=(8, 8))\n",
    "ax = fig.add_subplot(1, 1, 1, aspect='equal')\n",
    "modelmap = flopy.plot.ModelMap(sr=sr, model=ml)\n",
    "quadmesh = modelmap.plot_ibound()\n",
    "linecollection = modelmap.plot_grid()"
   ]
  },
  {
   "cell_type": "code",
   "execution_count": 112,
   "metadata": {},
   "outputs": [
    {
     "data": {
      "text/plain": [
       "flopy.plot.map.ModelMap"
      ]
     },
     "execution_count": 112,
     "metadata": {},
     "output_type": "execute_result"
    }
   ],
   "source": [
    "type(modelmap)"
   ]
  },
  {
   "cell_type": "markdown",
   "metadata": {},
   "source": [
    "Write the simulation 1 MODFLOW input files and run the model"
   ]
  },
  {
   "cell_type": "code",
   "execution_count": 113,
   "metadata": {
    "collapsed": true
   },
   "outputs": [],
   "source": [
    "ml.write_input()"
   ]
  },
  {
   "cell_type": "code",
   "execution_count": 114,
   "metadata": {},
   "outputs": [
    {
     "data": {
      "text/plain": [
       "xul:403877; yul:175413; rotation:0; proj4_str:+proj=tmerc +lat_0=41.08333333333334 +lon_0=-71.5 +k=0.99999375 +x_0=99999.99998983997 +y_0=0 +ellps=GRS80 +units=us-ft +no_defs; units:feet; lenuni:1; length_multiplier:1.0"
      ]
     },
     "execution_count": 114,
     "metadata": {},
     "output_type": "execute_result"
    }
   ],
   "source": [
    "ml.sr"
   ]
  },
  {
   "cell_type": "code",
   "execution_count": 115,
   "metadata": {
    "collapsed": true
   },
   "outputs": [],
   "source": [
    "import timeit"
   ]
  },
  {
   "cell_type": "code",
   "execution_count": 116,
   "metadata": {},
   "outputs": [
    {
     "name": "stdout",
     "output_type": "stream",
     "text": [
      "FloPy is using the following executable to run the model: /home/sbhgeo/Documents/Fogland/bin/mf2005.nix\n",
      "\n",
      "                                  MODFLOW-2005     \n",
      "    U.S. GEOLOGICAL SURVEY MODULAR FINITE-DIFFERENCE GROUND-WATER FLOW MODEL\n",
      "                             Version 1.12.00 2/3/2017                        \n",
      "\n",
      " Using NAME file: swifogland_s1.nam \n",
      " Run start date and time (yyyy/mm/dd hh:mm:ss): 2017/12/09 20:30:50\n",
      "\n",
      " Solving:  Stress period:     1    Time step:     1    Ground-Water Flow Eqn.\n",
      " Solving:  Stress period:     1    Time step:     2    Ground-Water Flow Eqn.\n",
      " Solving:  Stress period:     1    Time step:     3    Ground-Water Flow Eqn.\n",
      " Solving:  Stress period:     1    Time step:     4    Ground-Water Flow Eqn.\n",
      " Solving:  Stress period:     1    Time step:     5    Ground-Water Flow Eqn.\n",
      " Solving:  Stress period:     1    Time step:     6    Ground-Water Flow Eqn.\n",
      " Solving:  Stress period:     1    Time step:     7    Ground-Water Flow Eqn.\n",
      " Solving:  Stress period:     1    Time step:     8    Ground-Water Flow Eqn.\n",
      " Solving:  Stress period:     1    Time step:     9    Ground-Water Flow Eqn.\n",
      " Solving:  Stress period:     1    Time step:    10    Ground-Water Flow Eqn.\n",
      " Solving:  Stress period:     1    Time step:    11    Ground-Water Flow Eqn.\n",
      " Solving:  Stress period:     1    Time step:    12    Ground-Water Flow Eqn.\n",
      " Solving:  Stress period:     1    Time step:    13    Ground-Water Flow Eqn.\n",
      " Solving:  Stress period:     1    Time step:    14    Ground-Water Flow Eqn.\n",
      " Solving:  Stress period:     1    Time step:    15    Ground-Water Flow Eqn.\n",
      " Solving:  Stress period:     1    Time step:    16    Ground-Water Flow Eqn.\n",
      " Solving:  Stress period:     1    Time step:    17    Ground-Water Flow Eqn.\n",
      " Solving:  Stress period:     1    Time step:    18    Ground-Water Flow Eqn.\n",
      " Solving:  Stress period:     1    Time step:    19    Ground-Water Flow Eqn.\n",
      " Solving:  Stress period:     1    Time step:    20    Ground-Water Flow Eqn.\n",
      " Solving:  Stress period:     1    Time step:    21    Ground-Water Flow Eqn.\n",
      " Solving:  Stress period:     1    Time step:    22    Ground-Water Flow Eqn.\n",
      " Solving:  Stress period:     1    Time step:    23    Ground-Water Flow Eqn.\n",
      " Solving:  Stress period:     1    Time step:    24    Ground-Water Flow Eqn.\n",
      " Solving:  Stress period:     1    Time step:    25    Ground-Water Flow Eqn.\n",
      " Solving:  Stress period:     1    Time step:    26    Ground-Water Flow Eqn.\n",
      " Solving:  Stress period:     1    Time step:    27    Ground-Water Flow Eqn.\n",
      " Solving:  Stress period:     1    Time step:    28    Ground-Water Flow Eqn.\n",
      " Solving:  Stress period:     1    Time step:    29    Ground-Water Flow Eqn.\n",
      " Solving:  Stress period:     1    Time step:    30    Ground-Water Flow Eqn.\n",
      " Solving:  Stress period:     1    Time step:    31    Ground-Water Flow Eqn.\n",
      " Solving:  Stress period:     1    Time step:    32    Ground-Water Flow Eqn.\n",
      " Solving:  Stress period:     1    Time step:    33    Ground-Water Flow Eqn.\n",
      " Solving:  Stress period:     1    Time step:    34    Ground-Water Flow Eqn.\n",
      " Solving:  Stress period:     1    Time step:    35    Ground-Water Flow Eqn.\n",
      " Solving:  Stress period:     1    Time step:    36    Ground-Water Flow Eqn.\n",
      " Solving:  Stress period:     1    Time step:    37    Ground-Water Flow Eqn.\n",
      " Solving:  Stress period:     1    Time step:    38    Ground-Water Flow Eqn.\n",
      " Solving:  Stress period:     1    Time step:    39    Ground-Water Flow Eqn.\n",
      " Solving:  Stress period:     1    Time step:    40    Ground-Water Flow Eqn.\n",
      " Solving:  Stress period:     1    Time step:    41    Ground-Water Flow Eqn.\n",
      " Solving:  Stress period:     1    Time step:    42    Ground-Water Flow Eqn.\n",
      " Solving:  Stress period:     1    Time step:    43    Ground-Water Flow Eqn.\n",
      " Solving:  Stress period:     1    Time step:    44    Ground-Water Flow Eqn.\n",
      " Solving:  Stress period:     1    Time step:    45    Ground-Water Flow Eqn.\n",
      " Solving:  Stress period:     1    Time step:    46    Ground-Water Flow Eqn.\n",
      " Solving:  Stress period:     1    Time step:    47    Ground-Water Flow Eqn.\n",
      " Solving:  Stress period:     1    Time step:    48    Ground-Water Flow Eqn.\n",
      " Solving:  Stress period:     1    Time step:    49    Ground-Water Flow Eqn.\n",
      " Solving:  Stress period:     1    Time step:    50    Ground-Water Flow Eqn.\n",
      " Solving:  Stress period:     1    Time step:    51    Ground-Water Flow Eqn.\n",
      " Solving:  Stress period:     1    Time step:    52    Ground-Water Flow Eqn.\n",
      " Solving:  Stress period:     1    Time step:    53    Ground-Water Flow Eqn.\n",
      " Solving:  Stress period:     1    Time step:    54    Ground-Water Flow Eqn.\n",
      " Solving:  Stress period:     1    Time step:    55    Ground-Water Flow Eqn.\n",
      " Solving:  Stress period:     1    Time step:    56    Ground-Water Flow Eqn.\n",
      " Solving:  Stress period:     1    Time step:    57    Ground-Water Flow Eqn.\n",
      " Solving:  Stress period:     1    Time step:    58    Ground-Water Flow Eqn.\n",
      " Solving:  Stress period:     1    Time step:    59    Ground-Water Flow Eqn.\n",
      " Solving:  Stress period:     1    Time step:    60    Ground-Water Flow Eqn.\n",
      " Solving:  Stress period:     1    Time step:    61    Ground-Water Flow Eqn.\n",
      " Solving:  Stress period:     1    Time step:    62    Ground-Water Flow Eqn.\n",
      " Solving:  Stress period:     1    Time step:    63    Ground-Water Flow Eqn.\n",
      " Solving:  Stress period:     1    Time step:    64    Ground-Water Flow Eqn.\n",
      " Solving:  Stress period:     1    Time step:    65    Ground-Water Flow Eqn.\n",
      " Solving:  Stress period:     1    Time step:    66    Ground-Water Flow Eqn.\n",
      " Solving:  Stress period:     1    Time step:    67    Ground-Water Flow Eqn.\n",
      " Solving:  Stress period:     1    Time step:    68    Ground-Water Flow Eqn.\n",
      " Solving:  Stress period:     1    Time step:    69    Ground-Water Flow Eqn.\n",
      " Solving:  Stress period:     1    Time step:    70    Ground-Water Flow Eqn.\n",
      " Solving:  Stress period:     1    Time step:    71    Ground-Water Flow Eqn.\n",
      " Solving:  Stress period:     1    Time step:    72    Ground-Water Flow Eqn.\n",
      " Solving:  Stress period:     1    Time step:    73    Ground-Water Flow Eqn.\n",
      " Solving:  Stress period:     1    Time step:    74    Ground-Water Flow Eqn.\n",
      " Solving:  Stress period:     1    Time step:    75    Ground-Water Flow Eqn.\n",
      " Solving:  Stress period:     1    Time step:    76    Ground-Water Flow Eqn.\n",
      " Solving:  Stress period:     1    Time step:    77    Ground-Water Flow Eqn.\n",
      " Solving:  Stress period:     1    Time step:    78    Ground-Water Flow Eqn.\n",
      " Solving:  Stress period:     1    Time step:    79    Ground-Water Flow Eqn.\n",
      " Solving:  Stress period:     1    Time step:    80    Ground-Water Flow Eqn.\n",
      " Solving:  Stress period:     1    Time step:    81    Ground-Water Flow Eqn.\n",
      " Solving:  Stress period:     1    Time step:    82    Ground-Water Flow Eqn.\n",
      " Solving:  Stress period:     1    Time step:    83    Ground-Water Flow Eqn.\n",
      " Solving:  Stress period:     1    Time step:    84    Ground-Water Flow Eqn.\n",
      " Solving:  Stress period:     1    Time step:    85    Ground-Water Flow Eqn.\n",
      " Solving:  Stress period:     1    Time step:    86    Ground-Water Flow Eqn.\n",
      " Solving:  Stress period:     1    Time step:    87    Ground-Water Flow Eqn.\n",
      " Solving:  Stress period:     1    Time step:    88    Ground-Water Flow Eqn.\n",
      " Solving:  Stress period:     1    Time step:    89    Ground-Water Flow Eqn.\n",
      " Solving:  Stress period:     1    Time step:    90    Ground-Water Flow Eqn.\n",
      " Solving:  Stress period:     1    Time step:    91    Ground-Water Flow Eqn.\n",
      " Solving:  Stress period:     1    Time step:    92    Ground-Water Flow Eqn.\n",
      " Solving:  Stress period:     1    Time step:    93    Ground-Water Flow Eqn.\n",
      " Solving:  Stress period:     1    Time step:    94    Ground-Water Flow Eqn.\n",
      " Solving:  Stress period:     1    Time step:    95    Ground-Water Flow Eqn.\n",
      " Solving:  Stress period:     1    Time step:    96    Ground-Water Flow Eqn.\n",
      " Solving:  Stress period:     1    Time step:    97    Ground-Water Flow Eqn.\n",
      " Solving:  Stress period:     1    Time step:    98    Ground-Water Flow Eqn.\n",
      " Solving:  Stress period:     1    Time step:    99    Ground-Water Flow Eqn.\n",
      " Solving:  Stress period:     1    Time step:   100    Ground-Water Flow Eqn.\n",
      " Solving:  Stress period:     1    Time step:   101    Ground-Water Flow Eqn.\n",
      " Solving:  Stress period:     1    Time step:   102    Ground-Water Flow Eqn.\n"
     ]
    },
    {
     "name": "stdout",
     "output_type": "stream",
     "text": [
      " Solving:  Stress period:     1    Time step:   103    Ground-Water Flow Eqn.\n",
      " Solving:  Stress period:     1    Time step:   104    Ground-Water Flow Eqn.\n",
      " Solving:  Stress period:     1    Time step:   105    Ground-Water Flow Eqn.\n",
      " Solving:  Stress period:     1    Time step:   106    Ground-Water Flow Eqn.\n",
      " Solving:  Stress period:     1    Time step:   107    Ground-Water Flow Eqn.\n",
      " Solving:  Stress period:     1    Time step:   108    Ground-Water Flow Eqn.\n",
      " Solving:  Stress period:     1    Time step:   109    Ground-Water Flow Eqn.\n",
      " Solving:  Stress period:     1    Time step:   110    Ground-Water Flow Eqn.\n",
      " Solving:  Stress period:     1    Time step:   111    Ground-Water Flow Eqn.\n",
      " Solving:  Stress period:     1    Time step:   112    Ground-Water Flow Eqn.\n",
      " Solving:  Stress period:     1    Time step:   113    Ground-Water Flow Eqn.\n",
      " Solving:  Stress period:     1    Time step:   114    Ground-Water Flow Eqn.\n",
      " Solving:  Stress period:     1    Time step:   115    Ground-Water Flow Eqn.\n",
      " Solving:  Stress period:     1    Time step:   116    Ground-Water Flow Eqn.\n",
      " Solving:  Stress period:     1    Time step:   117    Ground-Water Flow Eqn.\n",
      " Solving:  Stress period:     1    Time step:   118    Ground-Water Flow Eqn.\n",
      " Solving:  Stress period:     1    Time step:   119    Ground-Water Flow Eqn.\n",
      " Solving:  Stress period:     1    Time step:   120    Ground-Water Flow Eqn.\n",
      " Solving:  Stress period:     1    Time step:   121    Ground-Water Flow Eqn.\n",
      " Solving:  Stress period:     1    Time step:   122    Ground-Water Flow Eqn.\n",
      " Solving:  Stress period:     1    Time step:   123    Ground-Water Flow Eqn.\n",
      " Solving:  Stress period:     1    Time step:   124    Ground-Water Flow Eqn.\n",
      " Solving:  Stress period:     1    Time step:   125    Ground-Water Flow Eqn.\n",
      " Solving:  Stress period:     1    Time step:   126    Ground-Water Flow Eqn.\n",
      " Solving:  Stress period:     1    Time step:   127    Ground-Water Flow Eqn.\n",
      " Solving:  Stress period:     1    Time step:   128    Ground-Water Flow Eqn.\n",
      " Solving:  Stress period:     1    Time step:   129    Ground-Water Flow Eqn.\n",
      " Solving:  Stress period:     1    Time step:   130    Ground-Water Flow Eqn.\n",
      " Solving:  Stress period:     1    Time step:   131    Ground-Water Flow Eqn.\n",
      " Solving:  Stress period:     1    Time step:   132    Ground-Water Flow Eqn.\n",
      " Solving:  Stress period:     1    Time step:   133    Ground-Water Flow Eqn.\n",
      " Solving:  Stress period:     1    Time step:   134    Ground-Water Flow Eqn.\n",
      " Solving:  Stress period:     1    Time step:   135    Ground-Water Flow Eqn.\n",
      " Solving:  Stress period:     1    Time step:   136    Ground-Water Flow Eqn.\n",
      " Solving:  Stress period:     1    Time step:   137    Ground-Water Flow Eqn.\n",
      " Solving:  Stress period:     1    Time step:   138    Ground-Water Flow Eqn.\n",
      " Solving:  Stress period:     1    Time step:   139    Ground-Water Flow Eqn.\n",
      " Solving:  Stress period:     1    Time step:   140    Ground-Water Flow Eqn.\n",
      " Solving:  Stress period:     1    Time step:   141    Ground-Water Flow Eqn.\n",
      " Solving:  Stress period:     1    Time step:   142    Ground-Water Flow Eqn.\n",
      " Solving:  Stress period:     1    Time step:   143    Ground-Water Flow Eqn.\n",
      " Solving:  Stress period:     1    Time step:   144    Ground-Water Flow Eqn.\n",
      " Solving:  Stress period:     1    Time step:   145    Ground-Water Flow Eqn.\n",
      " Solving:  Stress period:     1    Time step:   146    Ground-Water Flow Eqn.\n",
      " Solving:  Stress period:     1    Time step:   147    Ground-Water Flow Eqn.\n",
      " Solving:  Stress period:     1    Time step:   148    Ground-Water Flow Eqn.\n",
      " Solving:  Stress period:     1    Time step:   149    Ground-Water Flow Eqn.\n",
      " Solving:  Stress period:     1    Time step:   150    Ground-Water Flow Eqn.\n",
      " Solving:  Stress period:     1    Time step:   151    Ground-Water Flow Eqn.\n",
      " Solving:  Stress period:     1    Time step:   152    Ground-Water Flow Eqn.\n",
      " Solving:  Stress period:     1    Time step:   153    Ground-Water Flow Eqn.\n",
      " Solving:  Stress period:     1    Time step:   154    Ground-Water Flow Eqn.\n",
      " Solving:  Stress period:     1    Time step:   155    Ground-Water Flow Eqn.\n",
      " Solving:  Stress period:     1    Time step:   156    Ground-Water Flow Eqn.\n",
      " Solving:  Stress period:     1    Time step:   157    Ground-Water Flow Eqn.\n",
      " Solving:  Stress period:     1    Time step:   158    Ground-Water Flow Eqn.\n",
      " Solving:  Stress period:     1    Time step:   159    Ground-Water Flow Eqn.\n",
      " Solving:  Stress period:     1    Time step:   160    Ground-Water Flow Eqn.\n",
      " Solving:  Stress period:     1    Time step:   161    Ground-Water Flow Eqn.\n",
      " Solving:  Stress period:     1    Time step:   162    Ground-Water Flow Eqn.\n",
      " Solving:  Stress period:     1    Time step:   163    Ground-Water Flow Eqn.\n",
      " Solving:  Stress period:     1    Time step:   164    Ground-Water Flow Eqn.\n",
      " Solving:  Stress period:     1    Time step:   165    Ground-Water Flow Eqn.\n",
      " Solving:  Stress period:     1    Time step:   166    Ground-Water Flow Eqn.\n",
      " Solving:  Stress period:     1    Time step:   167    Ground-Water Flow Eqn.\n",
      " Solving:  Stress period:     1    Time step:   168    Ground-Water Flow Eqn.\n",
      " Solving:  Stress period:     1    Time step:   169    Ground-Water Flow Eqn.\n",
      " Solving:  Stress period:     1    Time step:   170    Ground-Water Flow Eqn.\n",
      " Solving:  Stress period:     1    Time step:   171    Ground-Water Flow Eqn.\n",
      " Solving:  Stress period:     1    Time step:   172    Ground-Water Flow Eqn.\n",
      " Solving:  Stress period:     1    Time step:   173    Ground-Water Flow Eqn.\n",
      " Solving:  Stress period:     1    Time step:   174    Ground-Water Flow Eqn.\n",
      " Solving:  Stress period:     1    Time step:   175    Ground-Water Flow Eqn.\n",
      " Solving:  Stress period:     1    Time step:   176    Ground-Water Flow Eqn.\n",
      " Solving:  Stress period:     1    Time step:   177    Ground-Water Flow Eqn.\n",
      " Solving:  Stress period:     1    Time step:   178    Ground-Water Flow Eqn.\n",
      " Solving:  Stress period:     1    Time step:   179    Ground-Water Flow Eqn.\n",
      " Solving:  Stress period:     1    Time step:   180    Ground-Water Flow Eqn.\n",
      " Solving:  Stress period:     1    Time step:   181    Ground-Water Flow Eqn.\n",
      " Solving:  Stress period:     1    Time step:   182    Ground-Water Flow Eqn.\n",
      " Solving:  Stress period:     1    Time step:   183    Ground-Water Flow Eqn.\n",
      " Solving:  Stress period:     1    Time step:   184    Ground-Water Flow Eqn.\n",
      " Solving:  Stress period:     1    Time step:   185    Ground-Water Flow Eqn.\n",
      " Solving:  Stress period:     1    Time step:   186    Ground-Water Flow Eqn.\n",
      " Solving:  Stress period:     1    Time step:   187    Ground-Water Flow Eqn.\n",
      " Solving:  Stress period:     1    Time step:   188    Ground-Water Flow Eqn.\n",
      " Solving:  Stress period:     1    Time step:   189    Ground-Water Flow Eqn.\n",
      " Solving:  Stress period:     1    Time step:   190    Ground-Water Flow Eqn.\n",
      " Solving:  Stress period:     1    Time step:   191    Ground-Water Flow Eqn.\n",
      " Solving:  Stress period:     1    Time step:   192    Ground-Water Flow Eqn.\n",
      " Solving:  Stress period:     1    Time step:   193    Ground-Water Flow Eqn.\n",
      " Solving:  Stress period:     1    Time step:   194    Ground-Water Flow Eqn.\n",
      " Solving:  Stress period:     1    Time step:   195    Ground-Water Flow Eqn.\n",
      " Solving:  Stress period:     1    Time step:   196    Ground-Water Flow Eqn.\n",
      " Solving:  Stress period:     1    Time step:   197    Ground-Water Flow Eqn.\n",
      " Solving:  Stress period:     1    Time step:   198    Ground-Water Flow Eqn.\n",
      " Solving:  Stress period:     1    Time step:   199    Ground-Water Flow Eqn.\n",
      " Solving:  Stress period:     1    Time step:   200    Ground-Water Flow Eqn.\n",
      " Solving:  Stress period:     1    Time step:   201    Ground-Water Flow Eqn.\n",
      " Solving:  Stress period:     1    Time step:   202    Ground-Water Flow Eqn.\n",
      " Solving:  Stress period:     1    Time step:   203    Ground-Water Flow Eqn.\n",
      " Solving:  Stress period:     1    Time step:   204    Ground-Water Flow Eqn.\n",
      " Solving:  Stress period:     1    Time step:   205    Ground-Water Flow Eqn.\n",
      " Solving:  Stress period:     1    Time step:   206    Ground-Water Flow Eqn.\n",
      " Solving:  Stress period:     1    Time step:   207    Ground-Water Flow Eqn.\n",
      " Solving:  Stress period:     1    Time step:   208    Ground-Water Flow Eqn.\n",
      " Solving:  Stress period:     1    Time step:   209    Ground-Water Flow Eqn.\n",
      " Solving:  Stress period:     1    Time step:   210    Ground-Water Flow Eqn.\n"
     ]
    },
    {
     "name": "stdout",
     "output_type": "stream",
     "text": [
      " Solving:  Stress period:     1    Time step:   211    Ground-Water Flow Eqn.\n",
      " Solving:  Stress period:     1    Time step:   212    Ground-Water Flow Eqn.\n",
      " Solving:  Stress period:     1    Time step:   213    Ground-Water Flow Eqn.\n",
      " Solving:  Stress period:     1    Time step:   214    Ground-Water Flow Eqn.\n",
      " Solving:  Stress period:     1    Time step:   215    Ground-Water Flow Eqn.\n",
      " Solving:  Stress period:     1    Time step:   216    Ground-Water Flow Eqn.\n",
      " Solving:  Stress period:     1    Time step:   217    Ground-Water Flow Eqn.\n",
      " Solving:  Stress period:     1    Time step:   218    Ground-Water Flow Eqn.\n",
      " Solving:  Stress period:     1    Time step:   219    Ground-Water Flow Eqn.\n",
      " Solving:  Stress period:     1    Time step:   220    Ground-Water Flow Eqn.\n",
      " Solving:  Stress period:     1    Time step:   221    Ground-Water Flow Eqn.\n",
      " Solving:  Stress period:     1    Time step:   222    Ground-Water Flow Eqn.\n",
      " Solving:  Stress period:     1    Time step:   223    Ground-Water Flow Eqn.\n",
      " Solving:  Stress period:     1    Time step:   224    Ground-Water Flow Eqn.\n",
      " Solving:  Stress period:     1    Time step:   225    Ground-Water Flow Eqn.\n",
      " Solving:  Stress period:     1    Time step:   226    Ground-Water Flow Eqn.\n",
      " Solving:  Stress period:     1    Time step:   227    Ground-Water Flow Eqn.\n",
      " Solving:  Stress period:     1    Time step:   228    Ground-Water Flow Eqn.\n",
      " Solving:  Stress period:     1    Time step:   229    Ground-Water Flow Eqn.\n",
      " Solving:  Stress period:     1    Time step:   230    Ground-Water Flow Eqn.\n",
      " Solving:  Stress period:     1    Time step:   231    Ground-Water Flow Eqn.\n",
      " Solving:  Stress period:     1    Time step:   232    Ground-Water Flow Eqn.\n",
      " Solving:  Stress period:     1    Time step:   233    Ground-Water Flow Eqn.\n",
      " Solving:  Stress period:     1    Time step:   234    Ground-Water Flow Eqn.\n",
      " Solving:  Stress period:     1    Time step:   235    Ground-Water Flow Eqn.\n",
      " Solving:  Stress period:     1    Time step:   236    Ground-Water Flow Eqn.\n",
      " Solving:  Stress period:     1    Time step:   237    Ground-Water Flow Eqn.\n",
      " Solving:  Stress period:     1    Time step:   238    Ground-Water Flow Eqn.\n",
      " Solving:  Stress period:     1    Time step:   239    Ground-Water Flow Eqn.\n",
      " Solving:  Stress period:     1    Time step:   240    Ground-Water Flow Eqn.\n",
      " Solving:  Stress period:     1    Time step:   241    Ground-Water Flow Eqn.\n",
      " Solving:  Stress period:     1    Time step:   242    Ground-Water Flow Eqn.\n",
      " Solving:  Stress period:     1    Time step:   243    Ground-Water Flow Eqn.\n",
      " Solving:  Stress period:     1    Time step:   244    Ground-Water Flow Eqn.\n",
      " Solving:  Stress period:     1    Time step:   245    Ground-Water Flow Eqn.\n",
      " Solving:  Stress period:     1    Time step:   246    Ground-Water Flow Eqn.\n",
      " Solving:  Stress period:     1    Time step:   247    Ground-Water Flow Eqn.\n",
      " Solving:  Stress period:     1    Time step:   248    Ground-Water Flow Eqn.\n",
      " Solving:  Stress period:     1    Time step:   249    Ground-Water Flow Eqn.\n",
      " Solving:  Stress period:     1    Time step:   250    Ground-Water Flow Eqn.\n",
      " Solving:  Stress period:     1    Time step:   251    Ground-Water Flow Eqn.\n",
      " Solving:  Stress period:     1    Time step:   252    Ground-Water Flow Eqn.\n",
      " Solving:  Stress period:     1    Time step:   253    Ground-Water Flow Eqn.\n",
      " Solving:  Stress period:     1    Time step:   254    Ground-Water Flow Eqn.\n",
      " Solving:  Stress period:     1    Time step:   255    Ground-Water Flow Eqn.\n",
      " Solving:  Stress period:     1    Time step:   256    Ground-Water Flow Eqn.\n",
      " Solving:  Stress period:     1    Time step:   257    Ground-Water Flow Eqn.\n",
      " Solving:  Stress period:     1    Time step:   258    Ground-Water Flow Eqn.\n",
      " Solving:  Stress period:     1    Time step:   259    Ground-Water Flow Eqn.\n",
      " Solving:  Stress period:     1    Time step:   260    Ground-Water Flow Eqn.\n",
      " Solving:  Stress period:     1    Time step:   261    Ground-Water Flow Eqn.\n",
      " Solving:  Stress period:     1    Time step:   262    Ground-Water Flow Eqn.\n",
      " Solving:  Stress period:     1    Time step:   263    Ground-Water Flow Eqn.\n",
      " Solving:  Stress period:     1    Time step:   264    Ground-Water Flow Eqn.\n",
      " Solving:  Stress period:     1    Time step:   265    Ground-Water Flow Eqn.\n",
      " Solving:  Stress period:     1    Time step:   266    Ground-Water Flow Eqn.\n",
      " Solving:  Stress period:     1    Time step:   267    Ground-Water Flow Eqn.\n",
      " Solving:  Stress period:     1    Time step:   268    Ground-Water Flow Eqn.\n",
      " Solving:  Stress period:     1    Time step:   269    Ground-Water Flow Eqn.\n",
      " Solving:  Stress period:     1    Time step:   270    Ground-Water Flow Eqn.\n",
      " Solving:  Stress period:     1    Time step:   271    Ground-Water Flow Eqn.\n",
      " Solving:  Stress period:     1    Time step:   272    Ground-Water Flow Eqn.\n",
      " Solving:  Stress period:     1    Time step:   273    Ground-Water Flow Eqn.\n",
      " Solving:  Stress period:     1    Time step:   274    Ground-Water Flow Eqn.\n",
      " Solving:  Stress period:     1    Time step:   275    Ground-Water Flow Eqn.\n",
      " Solving:  Stress period:     1    Time step:   276    Ground-Water Flow Eqn.\n",
      " Solving:  Stress period:     1    Time step:   277    Ground-Water Flow Eqn.\n",
      " Solving:  Stress period:     1    Time step:   278    Ground-Water Flow Eqn.\n",
      " Solving:  Stress period:     1    Time step:   279    Ground-Water Flow Eqn.\n",
      " Solving:  Stress period:     1    Time step:   280    Ground-Water Flow Eqn.\n",
      " Solving:  Stress period:     1    Time step:   281    Ground-Water Flow Eqn.\n",
      " Solving:  Stress period:     1    Time step:   282    Ground-Water Flow Eqn.\n",
      " Solving:  Stress period:     1    Time step:   283    Ground-Water Flow Eqn.\n",
      " Solving:  Stress period:     1    Time step:   284    Ground-Water Flow Eqn.\n",
      " Solving:  Stress period:     1    Time step:   285    Ground-Water Flow Eqn.\n",
      " Solving:  Stress period:     1    Time step:   286    Ground-Water Flow Eqn.\n",
      " Solving:  Stress period:     1    Time step:   287    Ground-Water Flow Eqn.\n",
      " Solving:  Stress period:     1    Time step:   288    Ground-Water Flow Eqn.\n",
      " Solving:  Stress period:     1    Time step:   289    Ground-Water Flow Eqn.\n",
      " Solving:  Stress period:     1    Time step:   290    Ground-Water Flow Eqn.\n",
      " Solving:  Stress period:     1    Time step:   291    Ground-Water Flow Eqn.\n",
      " Solving:  Stress period:     1    Time step:   292    Ground-Water Flow Eqn.\n",
      " Solving:  Stress period:     1    Time step:   293    Ground-Water Flow Eqn.\n",
      " Solving:  Stress period:     1    Time step:   294    Ground-Water Flow Eqn.\n",
      " Solving:  Stress period:     1    Time step:   295    Ground-Water Flow Eqn.\n",
      " Solving:  Stress period:     1    Time step:   296    Ground-Water Flow Eqn.\n",
      " Solving:  Stress period:     1    Time step:   297    Ground-Water Flow Eqn.\n",
      " Solving:  Stress period:     1    Time step:   298    Ground-Water Flow Eqn.\n",
      " Solving:  Stress period:     1    Time step:   299    Ground-Water Flow Eqn.\n",
      " Solving:  Stress period:     1    Time step:   300    Ground-Water Flow Eqn.\n",
      " Solving:  Stress period:     1    Time step:   301    Ground-Water Flow Eqn.\n",
      " Solving:  Stress period:     1    Time step:   302    Ground-Water Flow Eqn.\n",
      " Solving:  Stress period:     1    Time step:   303    Ground-Water Flow Eqn.\n",
      " Solving:  Stress period:     1    Time step:   304    Ground-Water Flow Eqn.\n",
      " Solving:  Stress period:     1    Time step:   305    Ground-Water Flow Eqn.\n",
      " Solving:  Stress period:     1    Time step:   306    Ground-Water Flow Eqn.\n",
      " Solving:  Stress period:     1    Time step:   307    Ground-Water Flow Eqn.\n",
      " Solving:  Stress period:     1    Time step:   308    Ground-Water Flow Eqn.\n",
      " Solving:  Stress period:     1    Time step:   309    Ground-Water Flow Eqn.\n",
      " Solving:  Stress period:     1    Time step:   310    Ground-Water Flow Eqn.\n",
      " Solving:  Stress period:     1    Time step:   311    Ground-Water Flow Eqn.\n",
      " Solving:  Stress period:     1    Time step:   312    Ground-Water Flow Eqn.\n",
      " Solving:  Stress period:     1    Time step:   313    Ground-Water Flow Eqn.\n",
      " Solving:  Stress period:     1    Time step:   314    Ground-Water Flow Eqn.\n",
      " Solving:  Stress period:     1    Time step:   315    Ground-Water Flow Eqn.\n",
      " Solving:  Stress period:     1    Time step:   316    Ground-Water Flow Eqn.\n"
     ]
    },
    {
     "name": "stdout",
     "output_type": "stream",
     "text": [
      " Solving:  Stress period:     1    Time step:   317    Ground-Water Flow Eqn.\n",
      " Solving:  Stress period:     1    Time step:   318    Ground-Water Flow Eqn.\n",
      " Solving:  Stress period:     1    Time step:   319    Ground-Water Flow Eqn.\n",
      " Solving:  Stress period:     1    Time step:   320    Ground-Water Flow Eqn.\n",
      " Solving:  Stress period:     1    Time step:   321    Ground-Water Flow Eqn.\n",
      " Solving:  Stress period:     1    Time step:   322    Ground-Water Flow Eqn.\n",
      " Solving:  Stress period:     1    Time step:   323    Ground-Water Flow Eqn.\n",
      " Solving:  Stress period:     1    Time step:   324    Ground-Water Flow Eqn.\n",
      " Solving:  Stress period:     1    Time step:   325    Ground-Water Flow Eqn.\n",
      " Solving:  Stress period:     1    Time step:   326    Ground-Water Flow Eqn.\n",
      " Solving:  Stress period:     1    Time step:   327    Ground-Water Flow Eqn.\n",
      " Solving:  Stress period:     1    Time step:   328    Ground-Water Flow Eqn.\n",
      " Solving:  Stress period:     1    Time step:   329    Ground-Water Flow Eqn.\n",
      " Solving:  Stress period:     1    Time step:   330    Ground-Water Flow Eqn.\n",
      " Solving:  Stress period:     1    Time step:   331    Ground-Water Flow Eqn.\n",
      " Solving:  Stress period:     1    Time step:   332    Ground-Water Flow Eqn.\n",
      " Solving:  Stress period:     1    Time step:   333    Ground-Water Flow Eqn.\n",
      " Solving:  Stress period:     1    Time step:   334    Ground-Water Flow Eqn.\n",
      " Solving:  Stress period:     1    Time step:   335    Ground-Water Flow Eqn.\n",
      " Solving:  Stress period:     1    Time step:   336    Ground-Water Flow Eqn.\n",
      " Solving:  Stress period:     1    Time step:   337    Ground-Water Flow Eqn.\n",
      " Solving:  Stress period:     1    Time step:   338    Ground-Water Flow Eqn.\n",
      " Solving:  Stress period:     1    Time step:   339    Ground-Water Flow Eqn.\n",
      " Solving:  Stress period:     1    Time step:   340    Ground-Water Flow Eqn.\n",
      " Solving:  Stress period:     1    Time step:   341    Ground-Water Flow Eqn.\n",
      " Solving:  Stress period:     1    Time step:   342    Ground-Water Flow Eqn.\n",
      " Solving:  Stress period:     1    Time step:   343    Ground-Water Flow Eqn.\n",
      " Solving:  Stress period:     1    Time step:   344    Ground-Water Flow Eqn.\n",
      " Solving:  Stress period:     1    Time step:   345    Ground-Water Flow Eqn.\n",
      " Solving:  Stress period:     1    Time step:   346    Ground-Water Flow Eqn.\n",
      " Solving:  Stress period:     1    Time step:   347    Ground-Water Flow Eqn.\n",
      " Solving:  Stress period:     1    Time step:   348    Ground-Water Flow Eqn.\n",
      " Solving:  Stress period:     1    Time step:   349    Ground-Water Flow Eqn.\n",
      " Solving:  Stress period:     1    Time step:   350    Ground-Water Flow Eqn.\n",
      " Solving:  Stress period:     1    Time step:   351    Ground-Water Flow Eqn.\n",
      " Solving:  Stress period:     1    Time step:   352    Ground-Water Flow Eqn.\n",
      " Solving:  Stress period:     1    Time step:   353    Ground-Water Flow Eqn.\n",
      " Solving:  Stress period:     1    Time step:   354    Ground-Water Flow Eqn.\n",
      " Solving:  Stress period:     1    Time step:   355    Ground-Water Flow Eqn.\n",
      " Solving:  Stress period:     1    Time step:   356    Ground-Water Flow Eqn.\n",
      " Solving:  Stress period:     1    Time step:   357    Ground-Water Flow Eqn.\n",
      " Solving:  Stress period:     1    Time step:   358    Ground-Water Flow Eqn.\n",
      " Solving:  Stress period:     1    Time step:   359    Ground-Water Flow Eqn.\n",
      " Solving:  Stress period:     1    Time step:   360    Ground-Water Flow Eqn.\n",
      " Solving:  Stress period:     1    Time step:   361    Ground-Water Flow Eqn.\n",
      " Solving:  Stress period:     1    Time step:   362    Ground-Water Flow Eqn.\n",
      " Solving:  Stress period:     1    Time step:   363    Ground-Water Flow Eqn.\n",
      " Solving:  Stress period:     1    Time step:   364    Ground-Water Flow Eqn.\n",
      " Solving:  Stress period:     1    Time step:   365    Ground-Water Flow Eqn.\n",
      " Solving:  Stress period:     1    Time step:   366    Ground-Water Flow Eqn.\n",
      " Solving:  Stress period:     1    Time step:   367    Ground-Water Flow Eqn.\n",
      " Solving:  Stress period:     1    Time step:   368    Ground-Water Flow Eqn.\n",
      " Solving:  Stress period:     1    Time step:   369    Ground-Water Flow Eqn.\n",
      " Solving:  Stress period:     1    Time step:   370    Ground-Water Flow Eqn.\n",
      " Solving:  Stress period:     1    Time step:   371    Ground-Water Flow Eqn.\n",
      " Solving:  Stress period:     1    Time step:   372    Ground-Water Flow Eqn.\n",
      " Solving:  Stress period:     1    Time step:   373    Ground-Water Flow Eqn.\n",
      " Solving:  Stress period:     1    Time step:   374    Ground-Water Flow Eqn.\n",
      " Solving:  Stress period:     1    Time step:   375    Ground-Water Flow Eqn.\n",
      " Solving:  Stress period:     1    Time step:   376    Ground-Water Flow Eqn.\n",
      " Solving:  Stress period:     1    Time step:   377    Ground-Water Flow Eqn.\n",
      " Solving:  Stress period:     1    Time step:   378    Ground-Water Flow Eqn.\n",
      " Solving:  Stress period:     1    Time step:   379    Ground-Water Flow Eqn.\n",
      " Solving:  Stress period:     1    Time step:   380    Ground-Water Flow Eqn.\n",
      " Solving:  Stress period:     1    Time step:   381    Ground-Water Flow Eqn.\n",
      " Solving:  Stress period:     1    Time step:   382    Ground-Water Flow Eqn.\n",
      " Solving:  Stress period:     1    Time step:   383    Ground-Water Flow Eqn.\n",
      " Solving:  Stress period:     1    Time step:   384    Ground-Water Flow Eqn.\n",
      " Solving:  Stress period:     1    Time step:   385    Ground-Water Flow Eqn.\n",
      " Solving:  Stress period:     1    Time step:   386    Ground-Water Flow Eqn.\n",
      " Solving:  Stress period:     1    Time step:   387    Ground-Water Flow Eqn.\n",
      " Solving:  Stress period:     1    Time step:   388    Ground-Water Flow Eqn.\n",
      " Solving:  Stress period:     1    Time step:   389    Ground-Water Flow Eqn.\n",
      " Solving:  Stress period:     1    Time step:   390    Ground-Water Flow Eqn.\n",
      " Solving:  Stress period:     1    Time step:   391    Ground-Water Flow Eqn.\n",
      " Solving:  Stress period:     1    Time step:   392    Ground-Water Flow Eqn.\n",
      " Solving:  Stress period:     1    Time step:   393    Ground-Water Flow Eqn.\n",
      " Solving:  Stress period:     1    Time step:   394    Ground-Water Flow Eqn.\n",
      " Solving:  Stress period:     1    Time step:   395    Ground-Water Flow Eqn.\n",
      " Solving:  Stress period:     1    Time step:   396    Ground-Water Flow Eqn.\n",
      " Solving:  Stress period:     1    Time step:   397    Ground-Water Flow Eqn.\n",
      " Solving:  Stress period:     1    Time step:   398    Ground-Water Flow Eqn.\n",
      " Solving:  Stress period:     1    Time step:   399    Ground-Water Flow Eqn.\n",
      " Solving:  Stress period:     1    Time step:   400    Ground-Water Flow Eqn.\n",
      " Solving:  Stress period:     1    Time step:   401    Ground-Water Flow Eqn.\n",
      " Solving:  Stress period:     1    Time step:   402    Ground-Water Flow Eqn.\n",
      " Solving:  Stress period:     1    Time step:   403    Ground-Water Flow Eqn.\n",
      " Solving:  Stress period:     1    Time step:   404    Ground-Water Flow Eqn.\n",
      " Solving:  Stress period:     1    Time step:   405    Ground-Water Flow Eqn.\n",
      " Solving:  Stress period:     1    Time step:   406    Ground-Water Flow Eqn.\n",
      " Solving:  Stress period:     1    Time step:   407    Ground-Water Flow Eqn.\n",
      " Solving:  Stress period:     1    Time step:   408    Ground-Water Flow Eqn.\n",
      " Solving:  Stress period:     1    Time step:   409    Ground-Water Flow Eqn.\n",
      " Solving:  Stress period:     1    Time step:   410    Ground-Water Flow Eqn.\n",
      " Solving:  Stress period:     1    Time step:   411    Ground-Water Flow Eqn.\n",
      " Solving:  Stress period:     1    Time step:   412    Ground-Water Flow Eqn.\n",
      " Solving:  Stress period:     1    Time step:   413    Ground-Water Flow Eqn.\n",
      " Solving:  Stress period:     1    Time step:   414    Ground-Water Flow Eqn.\n",
      " Solving:  Stress period:     1    Time step:   415    Ground-Water Flow Eqn.\n",
      " Solving:  Stress period:     1    Time step:   416    Ground-Water Flow Eqn.\n",
      " Solving:  Stress period:     1    Time step:   417    Ground-Water Flow Eqn.\n",
      " Solving:  Stress period:     1    Time step:   418    Ground-Water Flow Eqn.\n",
      " Solving:  Stress period:     1    Time step:   419    Ground-Water Flow Eqn.\n",
      " Solving:  Stress period:     1    Time step:   420    Ground-Water Flow Eqn.\n",
      " Solving:  Stress period:     1    Time step:   421    Ground-Water Flow Eqn.\n",
      " Solving:  Stress period:     1    Time step:   422    Ground-Water Flow Eqn.\n",
      " Solving:  Stress period:     1    Time step:   423    Ground-Water Flow Eqn.\n",
      " Solving:  Stress period:     1    Time step:   424    Ground-Water Flow Eqn.\n"
     ]
    },
    {
     "name": "stdout",
     "output_type": "stream",
     "text": [
      " Solving:  Stress period:     1    Time step:   425    Ground-Water Flow Eqn.\n",
      " Solving:  Stress period:     1    Time step:   426    Ground-Water Flow Eqn.\n",
      " Solving:  Stress period:     1    Time step:   427    Ground-Water Flow Eqn.\n",
      " Solving:  Stress period:     1    Time step:   428    Ground-Water Flow Eqn.\n",
      " Solving:  Stress period:     1    Time step:   429    Ground-Water Flow Eqn.\n",
      " Solving:  Stress period:     1    Time step:   430    Ground-Water Flow Eqn.\n",
      " Solving:  Stress period:     1    Time step:   431    Ground-Water Flow Eqn.\n",
      " Solving:  Stress period:     1    Time step:   432    Ground-Water Flow Eqn.\n",
      " Solving:  Stress period:     1    Time step:   433    Ground-Water Flow Eqn.\n",
      " Solving:  Stress period:     1    Time step:   434    Ground-Water Flow Eqn.\n",
      " Solving:  Stress period:     1    Time step:   435    Ground-Water Flow Eqn.\n",
      " Solving:  Stress period:     1    Time step:   436    Ground-Water Flow Eqn.\n",
      " Solving:  Stress period:     1    Time step:   437    Ground-Water Flow Eqn.\n",
      " Solving:  Stress period:     1    Time step:   438    Ground-Water Flow Eqn.\n",
      " Solving:  Stress period:     1    Time step:   439    Ground-Water Flow Eqn.\n",
      " Solving:  Stress period:     1    Time step:   440    Ground-Water Flow Eqn.\n",
      " Solving:  Stress period:     1    Time step:   441    Ground-Water Flow Eqn.\n",
      " Solving:  Stress period:     1    Time step:   442    Ground-Water Flow Eqn.\n",
      " Solving:  Stress period:     1    Time step:   443    Ground-Water Flow Eqn.\n",
      " Solving:  Stress period:     1    Time step:   444    Ground-Water Flow Eqn.\n",
      " Solving:  Stress period:     1    Time step:   445    Ground-Water Flow Eqn.\n",
      " Solving:  Stress period:     1    Time step:   446    Ground-Water Flow Eqn.\n",
      " Solving:  Stress period:     1    Time step:   447    Ground-Water Flow Eqn.\n",
      " Solving:  Stress period:     1    Time step:   448    Ground-Water Flow Eqn.\n",
      " Solving:  Stress period:     1    Time step:   449    Ground-Water Flow Eqn.\n",
      " Solving:  Stress period:     1    Time step:   450    Ground-Water Flow Eqn.\n",
      " Solving:  Stress period:     1    Time step:   451    Ground-Water Flow Eqn.\n",
      " Solving:  Stress period:     1    Time step:   452    Ground-Water Flow Eqn.\n",
      " Solving:  Stress period:     1    Time step:   453    Ground-Water Flow Eqn.\n",
      " Solving:  Stress period:     1    Time step:   454    Ground-Water Flow Eqn.\n",
      " Solving:  Stress period:     1    Time step:   455    Ground-Water Flow Eqn.\n",
      " Solving:  Stress period:     1    Time step:   456    Ground-Water Flow Eqn.\n",
      " Solving:  Stress period:     1    Time step:   457    Ground-Water Flow Eqn.\n",
      " Solving:  Stress period:     1    Time step:   458    Ground-Water Flow Eqn.\n",
      " Solving:  Stress period:     1    Time step:   459    Ground-Water Flow Eqn.\n",
      " Solving:  Stress period:     1    Time step:   460    Ground-Water Flow Eqn.\n",
      " Solving:  Stress period:     1    Time step:   461    Ground-Water Flow Eqn.\n",
      " Solving:  Stress period:     1    Time step:   462    Ground-Water Flow Eqn.\n",
      " Solving:  Stress period:     1    Time step:   463    Ground-Water Flow Eqn.\n",
      " Solving:  Stress period:     1    Time step:   464    Ground-Water Flow Eqn.\n",
      " Solving:  Stress period:     1    Time step:   465    Ground-Water Flow Eqn.\n",
      " Solving:  Stress period:     1    Time step:   466    Ground-Water Flow Eqn.\n",
      " Solving:  Stress period:     1    Time step:   467    Ground-Water Flow Eqn.\n",
      " Solving:  Stress period:     1    Time step:   468    Ground-Water Flow Eqn.\n",
      " Solving:  Stress period:     1    Time step:   469    Ground-Water Flow Eqn.\n",
      " Solving:  Stress period:     1    Time step:   470    Ground-Water Flow Eqn.\n",
      " Solving:  Stress period:     1    Time step:   471    Ground-Water Flow Eqn.\n",
      " Solving:  Stress period:     1    Time step:   472    Ground-Water Flow Eqn.\n",
      " Solving:  Stress period:     1    Time step:   473    Ground-Water Flow Eqn.\n",
      " Solving:  Stress period:     1    Time step:   474    Ground-Water Flow Eqn.\n",
      " Solving:  Stress period:     1    Time step:   475    Ground-Water Flow Eqn.\n",
      " Solving:  Stress period:     1    Time step:   476    Ground-Water Flow Eqn.\n",
      " Solving:  Stress period:     1    Time step:   477    Ground-Water Flow Eqn.\n",
      " Solving:  Stress period:     1    Time step:   478    Ground-Water Flow Eqn.\n",
      " Solving:  Stress period:     1    Time step:   479    Ground-Water Flow Eqn.\n",
      " Solving:  Stress period:     1    Time step:   480    Ground-Water Flow Eqn.\n",
      " Solving:  Stress period:     1    Time step:   481    Ground-Water Flow Eqn.\n",
      " Solving:  Stress period:     1    Time step:   482    Ground-Water Flow Eqn.\n",
      " Solving:  Stress period:     1    Time step:   483    Ground-Water Flow Eqn.\n",
      " Solving:  Stress period:     1    Time step:   484    Ground-Water Flow Eqn.\n",
      " Solving:  Stress period:     1    Time step:   485    Ground-Water Flow Eqn.\n",
      " Solving:  Stress period:     1    Time step:   486    Ground-Water Flow Eqn.\n",
      " Solving:  Stress period:     1    Time step:   487    Ground-Water Flow Eqn.\n",
      " Solving:  Stress period:     1    Time step:   488    Ground-Water Flow Eqn.\n",
      " Solving:  Stress period:     1    Time step:   489    Ground-Water Flow Eqn.\n",
      " Solving:  Stress period:     1    Time step:   490    Ground-Water Flow Eqn.\n",
      " Solving:  Stress period:     1    Time step:   491    Ground-Water Flow Eqn.\n",
      " Solving:  Stress period:     1    Time step:   492    Ground-Water Flow Eqn.\n",
      " Solving:  Stress period:     1    Time step:   493    Ground-Water Flow Eqn.\n",
      " Solving:  Stress period:     1    Time step:   494    Ground-Water Flow Eqn.\n",
      " Solving:  Stress period:     1    Time step:   495    Ground-Water Flow Eqn.\n",
      " Solving:  Stress period:     1    Time step:   496    Ground-Water Flow Eqn.\n",
      " Solving:  Stress period:     1    Time step:   497    Ground-Water Flow Eqn.\n",
      " Solving:  Stress period:     1    Time step:   498    Ground-Water Flow Eqn.\n",
      " Solving:  Stress period:     1    Time step:   499    Ground-Water Flow Eqn.\n",
      " Solving:  Stress period:     1    Time step:   500    Ground-Water Flow Eqn.\n",
      " Solving:  Stress period:     1    Time step:   501    Ground-Water Flow Eqn.\n",
      " Solving:  Stress period:     1    Time step:   502    Ground-Water Flow Eqn.\n",
      " Solving:  Stress period:     1    Time step:   503    Ground-Water Flow Eqn.\n",
      " Solving:  Stress period:     1    Time step:   504    Ground-Water Flow Eqn.\n",
      " Solving:  Stress period:     1    Time step:   505    Ground-Water Flow Eqn.\n",
      " Solving:  Stress period:     1    Time step:   506    Ground-Water Flow Eqn.\n",
      " Solving:  Stress period:     1    Time step:   507    Ground-Water Flow Eqn.\n",
      " Solving:  Stress period:     1    Time step:   508    Ground-Water Flow Eqn.\n",
      " Solving:  Stress period:     1    Time step:   509    Ground-Water Flow Eqn.\n",
      " Solving:  Stress period:     1    Time step:   510    Ground-Water Flow Eqn.\n",
      " Solving:  Stress period:     1    Time step:   511    Ground-Water Flow Eqn.\n",
      " Solving:  Stress period:     1    Time step:   512    Ground-Water Flow Eqn.\n",
      " Solving:  Stress period:     1    Time step:   513    Ground-Water Flow Eqn.\n",
      " Solving:  Stress period:     1    Time step:   514    Ground-Water Flow Eqn.\n",
      " Solving:  Stress period:     1    Time step:   515    Ground-Water Flow Eqn.\n",
      " Solving:  Stress period:     1    Time step:   516    Ground-Water Flow Eqn.\n",
      " Solving:  Stress period:     1    Time step:   517    Ground-Water Flow Eqn.\n",
      " Solving:  Stress period:     1    Time step:   518    Ground-Water Flow Eqn.\n",
      " Solving:  Stress period:     1    Time step:   519    Ground-Water Flow Eqn.\n",
      " Solving:  Stress period:     1    Time step:   520    Ground-Water Flow Eqn.\n",
      " Solving:  Stress period:     1    Time step:   521    Ground-Water Flow Eqn.\n",
      " Solving:  Stress period:     1    Time step:   522    Ground-Water Flow Eqn.\n",
      " Solving:  Stress period:     1    Time step:   523    Ground-Water Flow Eqn.\n",
      " Solving:  Stress period:     1    Time step:   524    Ground-Water Flow Eqn.\n",
      " Solving:  Stress period:     1    Time step:   525    Ground-Water Flow Eqn.\n",
      " Solving:  Stress period:     1    Time step:   526    Ground-Water Flow Eqn.\n",
      " Solving:  Stress period:     1    Time step:   527    Ground-Water Flow Eqn.\n",
      " Solving:  Stress period:     1    Time step:   528    Ground-Water Flow Eqn.\n",
      " Solving:  Stress period:     1    Time step:   529    Ground-Water Flow Eqn.\n",
      " Solving:  Stress period:     1    Time step:   530    Ground-Water Flow Eqn.\n",
      " Solving:  Stress period:     1    Time step:   531    Ground-Water Flow Eqn.\n",
      " Solving:  Stress period:     1    Time step:   532    Ground-Water Flow Eqn.\n"
     ]
    },
    {
     "name": "stdout",
     "output_type": "stream",
     "text": [
      " Solving:  Stress period:     1    Time step:   533    Ground-Water Flow Eqn.\n",
      " Solving:  Stress period:     1    Time step:   534    Ground-Water Flow Eqn.\n",
      " Solving:  Stress period:     1    Time step:   535    Ground-Water Flow Eqn.\n",
      " Solving:  Stress period:     1    Time step:   536    Ground-Water Flow Eqn.\n",
      " Solving:  Stress period:     1    Time step:   537    Ground-Water Flow Eqn.\n",
      " Solving:  Stress period:     1    Time step:   538    Ground-Water Flow Eqn.\n",
      " Solving:  Stress period:     1    Time step:   539    Ground-Water Flow Eqn.\n",
      " Solving:  Stress period:     1    Time step:   540    Ground-Water Flow Eqn.\n",
      " Solving:  Stress period:     1    Time step:   541    Ground-Water Flow Eqn.\n",
      " Solving:  Stress period:     1    Time step:   542    Ground-Water Flow Eqn.\n",
      " Solving:  Stress period:     1    Time step:   543    Ground-Water Flow Eqn.\n",
      " Solving:  Stress period:     1    Time step:   544    Ground-Water Flow Eqn.\n",
      " Solving:  Stress period:     1    Time step:   545    Ground-Water Flow Eqn.\n",
      " Solving:  Stress period:     1    Time step:   546    Ground-Water Flow Eqn.\n",
      " Solving:  Stress period:     1    Time step:   547    Ground-Water Flow Eqn.\n",
      " Solving:  Stress period:     1    Time step:   548    Ground-Water Flow Eqn.\n",
      " Solving:  Stress period:     1    Time step:   549    Ground-Water Flow Eqn.\n",
      " Solving:  Stress period:     1    Time step:   550    Ground-Water Flow Eqn.\n",
      " Solving:  Stress period:     1    Time step:   551    Ground-Water Flow Eqn.\n",
      " Solving:  Stress period:     1    Time step:   552    Ground-Water Flow Eqn.\n",
      " Solving:  Stress period:     1    Time step:   553    Ground-Water Flow Eqn.\n",
      " Solving:  Stress period:     1    Time step:   554    Ground-Water Flow Eqn.\n",
      " Solving:  Stress period:     1    Time step:   555    Ground-Water Flow Eqn.\n",
      " Solving:  Stress period:     1    Time step:   556    Ground-Water Flow Eqn.\n",
      " Solving:  Stress period:     1    Time step:   557    Ground-Water Flow Eqn.\n",
      " Solving:  Stress period:     1    Time step:   558    Ground-Water Flow Eqn.\n",
      " Solving:  Stress period:     1    Time step:   559    Ground-Water Flow Eqn.\n",
      " Solving:  Stress period:     1    Time step:   560    Ground-Water Flow Eqn.\n",
      " Solving:  Stress period:     1    Time step:   561    Ground-Water Flow Eqn.\n",
      " Solving:  Stress period:     1    Time step:   562    Ground-Water Flow Eqn.\n",
      " Solving:  Stress period:     1    Time step:   563    Ground-Water Flow Eqn.\n",
      " Solving:  Stress period:     1    Time step:   564    Ground-Water Flow Eqn.\n",
      " Solving:  Stress period:     1    Time step:   565    Ground-Water Flow Eqn.\n",
      " Solving:  Stress period:     1    Time step:   566    Ground-Water Flow Eqn.\n",
      " Solving:  Stress period:     1    Time step:   567    Ground-Water Flow Eqn.\n",
      " Solving:  Stress period:     1    Time step:   568    Ground-Water Flow Eqn.\n",
      " Solving:  Stress period:     1    Time step:   569    Ground-Water Flow Eqn.\n",
      " Solving:  Stress period:     1    Time step:   570    Ground-Water Flow Eqn.\n",
      " Solving:  Stress period:     1    Time step:   571    Ground-Water Flow Eqn.\n",
      " Solving:  Stress period:     1    Time step:   572    Ground-Water Flow Eqn.\n",
      " Solving:  Stress period:     1    Time step:   573    Ground-Water Flow Eqn.\n",
      " Solving:  Stress period:     1    Time step:   574    Ground-Water Flow Eqn.\n",
      " Solving:  Stress period:     1    Time step:   575    Ground-Water Flow Eqn.\n",
      " Solving:  Stress period:     1    Time step:   576    Ground-Water Flow Eqn.\n",
      " Solving:  Stress period:     1    Time step:   577    Ground-Water Flow Eqn.\n",
      " Solving:  Stress period:     1    Time step:   578    Ground-Water Flow Eqn.\n",
      " Solving:  Stress period:     1    Time step:   579    Ground-Water Flow Eqn.\n",
      " Solving:  Stress period:     1    Time step:   580    Ground-Water Flow Eqn.\n",
      " Solving:  Stress period:     1    Time step:   581    Ground-Water Flow Eqn.\n",
      " Solving:  Stress period:     1    Time step:   582    Ground-Water Flow Eqn.\n",
      " Solving:  Stress period:     1    Time step:   583    Ground-Water Flow Eqn.\n",
      " Solving:  Stress period:     1    Time step:   584    Ground-Water Flow Eqn.\n",
      " Solving:  Stress period:     1    Time step:   585    Ground-Water Flow Eqn.\n",
      " Solving:  Stress period:     1    Time step:   586    Ground-Water Flow Eqn.\n",
      " Solving:  Stress period:     1    Time step:   587    Ground-Water Flow Eqn.\n",
      " Solving:  Stress period:     1    Time step:   588    Ground-Water Flow Eqn.\n",
      " Solving:  Stress period:     1    Time step:   589    Ground-Water Flow Eqn.\n",
      " Solving:  Stress period:     1    Time step:   590    Ground-Water Flow Eqn.\n",
      " Solving:  Stress period:     1    Time step:   591    Ground-Water Flow Eqn.\n",
      " Solving:  Stress period:     1    Time step:   592    Ground-Water Flow Eqn.\n",
      " Solving:  Stress period:     1    Time step:   593    Ground-Water Flow Eqn.\n",
      " Solving:  Stress period:     1    Time step:   594    Ground-Water Flow Eqn.\n",
      " Solving:  Stress period:     1    Time step:   595    Ground-Water Flow Eqn.\n",
      " Solving:  Stress period:     1    Time step:   596    Ground-Water Flow Eqn.\n",
      " Solving:  Stress period:     1    Time step:   597    Ground-Water Flow Eqn.\n",
      " Solving:  Stress period:     1    Time step:   598    Ground-Water Flow Eqn.\n",
      " Solving:  Stress period:     1    Time step:   599    Ground-Water Flow Eqn.\n",
      " Solving:  Stress period:     1    Time step:   600    Ground-Water Flow Eqn.\n",
      " Solving:  Stress period:     1    Time step:   601    Ground-Water Flow Eqn.\n",
      " Solving:  Stress period:     1    Time step:   602    Ground-Water Flow Eqn.\n",
      " Solving:  Stress period:     1    Time step:   603    Ground-Water Flow Eqn.\n",
      " Solving:  Stress period:     1    Time step:   604    Ground-Water Flow Eqn.\n",
      " Solving:  Stress period:     1    Time step:   605    Ground-Water Flow Eqn.\n",
      " Solving:  Stress period:     1    Time step:   606    Ground-Water Flow Eqn.\n",
      " Solving:  Stress period:     1    Time step:   607    Ground-Water Flow Eqn.\n",
      " Solving:  Stress period:     1    Time step:   608    Ground-Water Flow Eqn.\n",
      " Solving:  Stress period:     1    Time step:   609    Ground-Water Flow Eqn.\n",
      " Solving:  Stress period:     1    Time step:   610    Ground-Water Flow Eqn.\n",
      " Solving:  Stress period:     1    Time step:   611    Ground-Water Flow Eqn.\n",
      " Solving:  Stress period:     1    Time step:   612    Ground-Water Flow Eqn.\n",
      " Solving:  Stress period:     1    Time step:   613    Ground-Water Flow Eqn.\n",
      " Solving:  Stress period:     1    Time step:   614    Ground-Water Flow Eqn.\n",
      " Solving:  Stress period:     1    Time step:   615    Ground-Water Flow Eqn.\n",
      " Solving:  Stress period:     1    Time step:   616    Ground-Water Flow Eqn.\n",
      " Solving:  Stress period:     1    Time step:   617    Ground-Water Flow Eqn.\n",
      " Solving:  Stress period:     1    Time step:   618    Ground-Water Flow Eqn.\n",
      " Solving:  Stress period:     1    Time step:   619    Ground-Water Flow Eqn.\n",
      " Solving:  Stress period:     1    Time step:   620    Ground-Water Flow Eqn.\n",
      " Solving:  Stress period:     1    Time step:   621    Ground-Water Flow Eqn.\n",
      " Solving:  Stress period:     1    Time step:   622    Ground-Water Flow Eqn.\n",
      " Solving:  Stress period:     1    Time step:   623    Ground-Water Flow Eqn.\n",
      " Solving:  Stress period:     1    Time step:   624    Ground-Water Flow Eqn.\n",
      " Solving:  Stress period:     1    Time step:   625    Ground-Water Flow Eqn.\n",
      " Solving:  Stress period:     1    Time step:   626    Ground-Water Flow Eqn.\n",
      " Solving:  Stress period:     1    Time step:   627    Ground-Water Flow Eqn.\n",
      " Solving:  Stress period:     1    Time step:   628    Ground-Water Flow Eqn.\n",
      " Solving:  Stress period:     1    Time step:   629    Ground-Water Flow Eqn.\n",
      " Solving:  Stress period:     1    Time step:   630    Ground-Water Flow Eqn.\n",
      " Solving:  Stress period:     1    Time step:   631    Ground-Water Flow Eqn.\n",
      " Solving:  Stress period:     1    Time step:   632    Ground-Water Flow Eqn.\n",
      " Solving:  Stress period:     1    Time step:   633    Ground-Water Flow Eqn.\n",
      " Solving:  Stress period:     1    Time step:   634    Ground-Water Flow Eqn.\n",
      " Solving:  Stress period:     1    Time step:   635    Ground-Water Flow Eqn.\n",
      " Solving:  Stress period:     1    Time step:   636    Ground-Water Flow Eqn.\n",
      " Solving:  Stress period:     1    Time step:   637    Ground-Water Flow Eqn.\n",
      " Solving:  Stress period:     1    Time step:   638    Ground-Water Flow Eqn.\n",
      " Solving:  Stress period:     1    Time step:   639    Ground-Water Flow Eqn.\n",
      " Solving:  Stress period:     1    Time step:   640    Ground-Water Flow Eqn.\n"
     ]
    },
    {
     "name": "stdout",
     "output_type": "stream",
     "text": [
      " Solving:  Stress period:     1    Time step:   641    Ground-Water Flow Eqn.\n",
      " Solving:  Stress period:     1    Time step:   642    Ground-Water Flow Eqn.\n",
      " Solving:  Stress period:     1    Time step:   643    Ground-Water Flow Eqn.\n",
      " Solving:  Stress period:     1    Time step:   644    Ground-Water Flow Eqn.\n",
      " Solving:  Stress period:     1    Time step:   645    Ground-Water Flow Eqn.\n",
      " Solving:  Stress period:     1    Time step:   646    Ground-Water Flow Eqn.\n",
      " Solving:  Stress period:     1    Time step:   647    Ground-Water Flow Eqn.\n",
      " Solving:  Stress period:     1    Time step:   648    Ground-Water Flow Eqn.\n",
      " Solving:  Stress period:     1    Time step:   649    Ground-Water Flow Eqn.\n",
      " Solving:  Stress period:     1    Time step:   650    Ground-Water Flow Eqn.\n",
      " Solving:  Stress period:     1    Time step:   651    Ground-Water Flow Eqn.\n",
      " Solving:  Stress period:     1    Time step:   652    Ground-Water Flow Eqn.\n",
      " Solving:  Stress period:     1    Time step:   653    Ground-Water Flow Eqn.\n",
      " Solving:  Stress period:     1    Time step:   654    Ground-Water Flow Eqn.\n",
      " Solving:  Stress period:     1    Time step:   655    Ground-Water Flow Eqn.\n",
      " Solving:  Stress period:     1    Time step:   656    Ground-Water Flow Eqn.\n",
      " Solving:  Stress period:     1    Time step:   657    Ground-Water Flow Eqn.\n",
      " Solving:  Stress period:     1    Time step:   658    Ground-Water Flow Eqn.\n",
      " Solving:  Stress period:     1    Time step:   659    Ground-Water Flow Eqn.\n",
      " Solving:  Stress period:     1    Time step:   660    Ground-Water Flow Eqn.\n",
      " Solving:  Stress period:     1    Time step:   661    Ground-Water Flow Eqn.\n",
      " Solving:  Stress period:     1    Time step:   662    Ground-Water Flow Eqn.\n",
      " Solving:  Stress period:     1    Time step:   663    Ground-Water Flow Eqn.\n",
      " Solving:  Stress period:     1    Time step:   664    Ground-Water Flow Eqn.\n",
      " Solving:  Stress period:     1    Time step:   665    Ground-Water Flow Eqn.\n",
      " Solving:  Stress period:     1    Time step:   666    Ground-Water Flow Eqn.\n",
      " Solving:  Stress period:     1    Time step:   667    Ground-Water Flow Eqn.\n",
      " Solving:  Stress period:     1    Time step:   668    Ground-Water Flow Eqn.\n",
      " Solving:  Stress period:     1    Time step:   669    Ground-Water Flow Eqn.\n",
      " Solving:  Stress period:     1    Time step:   670    Ground-Water Flow Eqn.\n",
      " Solving:  Stress period:     1    Time step:   671    Ground-Water Flow Eqn.\n",
      " Solving:  Stress period:     1    Time step:   672    Ground-Water Flow Eqn.\n",
      " Solving:  Stress period:     1    Time step:   673    Ground-Water Flow Eqn.\n",
      " Solving:  Stress period:     1    Time step:   674    Ground-Water Flow Eqn.\n",
      " Solving:  Stress period:     1    Time step:   675    Ground-Water Flow Eqn.\n",
      " Solving:  Stress period:     1    Time step:   676    Ground-Water Flow Eqn.\n",
      " Solving:  Stress period:     1    Time step:   677    Ground-Water Flow Eqn.\n",
      " Solving:  Stress period:     1    Time step:   678    Ground-Water Flow Eqn.\n",
      " Solving:  Stress period:     1    Time step:   679    Ground-Water Flow Eqn.\n",
      " Solving:  Stress period:     1    Time step:   680    Ground-Water Flow Eqn.\n",
      " Solving:  Stress period:     1    Time step:   681    Ground-Water Flow Eqn.\n",
      " Solving:  Stress period:     1    Time step:   682    Ground-Water Flow Eqn.\n",
      " Solving:  Stress period:     1    Time step:   683    Ground-Water Flow Eqn.\n",
      " Solving:  Stress period:     1    Time step:   684    Ground-Water Flow Eqn.\n",
      " Solving:  Stress period:     1    Time step:   685    Ground-Water Flow Eqn.\n",
      " Solving:  Stress period:     1    Time step:   686    Ground-Water Flow Eqn.\n",
      " Solving:  Stress period:     1    Time step:   687    Ground-Water Flow Eqn.\n",
      " Solving:  Stress period:     1    Time step:   688    Ground-Water Flow Eqn.\n",
      " Solving:  Stress period:     1    Time step:   689    Ground-Water Flow Eqn.\n",
      " Solving:  Stress period:     1    Time step:   690    Ground-Water Flow Eqn.\n",
      " Solving:  Stress period:     1    Time step:   691    Ground-Water Flow Eqn.\n",
      " Solving:  Stress period:     1    Time step:   692    Ground-Water Flow Eqn.\n",
      " Solving:  Stress period:     1    Time step:   693    Ground-Water Flow Eqn.\n",
      " Solving:  Stress period:     1    Time step:   694    Ground-Water Flow Eqn.\n",
      " Solving:  Stress period:     1    Time step:   695    Ground-Water Flow Eqn.\n",
      " Solving:  Stress period:     1    Time step:   696    Ground-Water Flow Eqn.\n",
      " Solving:  Stress period:     1    Time step:   697    Ground-Water Flow Eqn.\n",
      " Solving:  Stress period:     1    Time step:   698    Ground-Water Flow Eqn.\n",
      " Solving:  Stress period:     1    Time step:   699    Ground-Water Flow Eqn.\n",
      " Solving:  Stress period:     1    Time step:   700    Ground-Water Flow Eqn.\n",
      " Solving:  Stress period:     1    Time step:   701    Ground-Water Flow Eqn.\n",
      " Solving:  Stress period:     1    Time step:   702    Ground-Water Flow Eqn.\n",
      " Solving:  Stress period:     1    Time step:   703    Ground-Water Flow Eqn.\n",
      " Solving:  Stress period:     1    Time step:   704    Ground-Water Flow Eqn.\n",
      " Solving:  Stress period:     1    Time step:   705    Ground-Water Flow Eqn.\n",
      " Solving:  Stress period:     1    Time step:   706    Ground-Water Flow Eqn.\n",
      " Solving:  Stress period:     1    Time step:   707    Ground-Water Flow Eqn.\n",
      " Solving:  Stress period:     1    Time step:   708    Ground-Water Flow Eqn.\n",
      " Solving:  Stress period:     1    Time step:   709    Ground-Water Flow Eqn.\n",
      " Solving:  Stress period:     1    Time step:   710    Ground-Water Flow Eqn.\n",
      " Solving:  Stress period:     1    Time step:   711    Ground-Water Flow Eqn.\n",
      " Solving:  Stress period:     1    Time step:   712    Ground-Water Flow Eqn.\n",
      " Solving:  Stress period:     1    Time step:   713    Ground-Water Flow Eqn.\n",
      " Solving:  Stress period:     1    Time step:   714    Ground-Water Flow Eqn.\n",
      " Solving:  Stress period:     1    Time step:   715    Ground-Water Flow Eqn.\n",
      " Solving:  Stress period:     1    Time step:   716    Ground-Water Flow Eqn.\n",
      " Solving:  Stress period:     1    Time step:   717    Ground-Water Flow Eqn.\n",
      " Solving:  Stress period:     1    Time step:   718    Ground-Water Flow Eqn.\n",
      " Solving:  Stress period:     1    Time step:   719    Ground-Water Flow Eqn.\n",
      " Solving:  Stress period:     1    Time step:   720    Ground-Water Flow Eqn.\n",
      " Solving:  Stress period:     1    Time step:   721    Ground-Water Flow Eqn.\n",
      " Solving:  Stress period:     1    Time step:   722    Ground-Water Flow Eqn.\n",
      " Solving:  Stress period:     1    Time step:   723    Ground-Water Flow Eqn.\n",
      " Solving:  Stress period:     1    Time step:   724    Ground-Water Flow Eqn.\n",
      " Solving:  Stress period:     1    Time step:   725    Ground-Water Flow Eqn.\n",
      " Solving:  Stress period:     1    Time step:   726    Ground-Water Flow Eqn.\n",
      " Solving:  Stress period:     1    Time step:   727    Ground-Water Flow Eqn.\n",
      " Solving:  Stress period:     1    Time step:   728    Ground-Water Flow Eqn.\n",
      " Solving:  Stress period:     1    Time step:   729    Ground-Water Flow Eqn.\n",
      " Solving:  Stress period:     1    Time step:   730    Ground-Water Flow Eqn.\n",
      " Solving:  Stress period:     1    Time step:   731    Ground-Water Flow Eqn.\n",
      " Solving:  Stress period:     1    Time step:   732    Ground-Water Flow Eqn.\n",
      " Solving:  Stress period:     1    Time step:   733    Ground-Water Flow Eqn.\n",
      " Solving:  Stress period:     1    Time step:   734    Ground-Water Flow Eqn.\n",
      " Solving:  Stress period:     1    Time step:   735    Ground-Water Flow Eqn.\n",
      " Solving:  Stress period:     1    Time step:   736    Ground-Water Flow Eqn.\n",
      " Solving:  Stress period:     1    Time step:   737    Ground-Water Flow Eqn.\n",
      " Solving:  Stress period:     1    Time step:   738    Ground-Water Flow Eqn.\n",
      " Solving:  Stress period:     1    Time step:   739    Ground-Water Flow Eqn.\n",
      " Solving:  Stress period:     1    Time step:   740    Ground-Water Flow Eqn.\n",
      " Solving:  Stress period:     1    Time step:   741    Ground-Water Flow Eqn.\n",
      " Solving:  Stress period:     1    Time step:   742    Ground-Water Flow Eqn.\n",
      " Solving:  Stress period:     1    Time step:   743    Ground-Water Flow Eqn.\n",
      " Solving:  Stress period:     1    Time step:   744    Ground-Water Flow Eqn.\n",
      " Solving:  Stress period:     1    Time step:   745    Ground-Water Flow Eqn.\n",
      " Solving:  Stress period:     1    Time step:   746    Ground-Water Flow Eqn.\n",
      " Solving:  Stress period:     1    Time step:   747    Ground-Water Flow Eqn.\n"
     ]
    },
    {
     "name": "stdout",
     "output_type": "stream",
     "text": [
      " Solving:  Stress period:     1    Time step:   748    Ground-Water Flow Eqn.\n",
      " Solving:  Stress period:     1    Time step:   749    Ground-Water Flow Eqn.\n",
      " Solving:  Stress period:     1    Time step:   750    Ground-Water Flow Eqn.\n",
      " Solving:  Stress period:     1    Time step:   751    Ground-Water Flow Eqn.\n",
      " Solving:  Stress period:     1    Time step:   752    Ground-Water Flow Eqn.\n",
      " Solving:  Stress period:     1    Time step:   753    Ground-Water Flow Eqn.\n",
      " Solving:  Stress period:     1    Time step:   754    Ground-Water Flow Eqn.\n",
      " Solving:  Stress period:     1    Time step:   755    Ground-Water Flow Eqn.\n",
      " Solving:  Stress period:     1    Time step:   756    Ground-Water Flow Eqn.\n",
      " Solving:  Stress period:     1    Time step:   757    Ground-Water Flow Eqn.\n",
      " Solving:  Stress period:     1    Time step:   758    Ground-Water Flow Eqn.\n",
      " Solving:  Stress period:     1    Time step:   759    Ground-Water Flow Eqn.\n",
      " Solving:  Stress period:     1    Time step:   760    Ground-Water Flow Eqn.\n",
      " Solving:  Stress period:     1    Time step:   761    Ground-Water Flow Eqn.\n",
      " Solving:  Stress period:     1    Time step:   762    Ground-Water Flow Eqn.\n",
      " Solving:  Stress period:     1    Time step:   763    Ground-Water Flow Eqn.\n",
      " Solving:  Stress period:     1    Time step:   764    Ground-Water Flow Eqn.\n",
      " Solving:  Stress period:     1    Time step:   765    Ground-Water Flow Eqn.\n",
      " Solving:  Stress period:     1    Time step:   766    Ground-Water Flow Eqn.\n",
      " Solving:  Stress period:     1    Time step:   767    Ground-Water Flow Eqn.\n",
      " Solving:  Stress period:     1    Time step:   768    Ground-Water Flow Eqn.\n",
      " Solving:  Stress period:     1    Time step:   769    Ground-Water Flow Eqn.\n",
      " Solving:  Stress period:     1    Time step:   770    Ground-Water Flow Eqn.\n",
      " Solving:  Stress period:     1    Time step:   771    Ground-Water Flow Eqn.\n",
      " Solving:  Stress period:     1    Time step:   772    Ground-Water Flow Eqn.\n",
      " Solving:  Stress period:     1    Time step:   773    Ground-Water Flow Eqn.\n",
      " Solving:  Stress period:     1    Time step:   774    Ground-Water Flow Eqn.\n",
      " Solving:  Stress period:     1    Time step:   775    Ground-Water Flow Eqn.\n",
      " Solving:  Stress period:     1    Time step:   776    Ground-Water Flow Eqn.\n",
      " Solving:  Stress period:     1    Time step:   777    Ground-Water Flow Eqn.\n",
      " Solving:  Stress period:     1    Time step:   778    Ground-Water Flow Eqn.\n",
      " Solving:  Stress period:     1    Time step:   779    Ground-Water Flow Eqn.\n",
      " Solving:  Stress period:     1    Time step:   780    Ground-Water Flow Eqn.\n",
      " Solving:  Stress period:     1    Time step:   781    Ground-Water Flow Eqn.\n",
      " Solving:  Stress period:     1    Time step:   782    Ground-Water Flow Eqn.\n",
      " Solving:  Stress period:     1    Time step:   783    Ground-Water Flow Eqn.\n",
      " Solving:  Stress period:     1    Time step:   784    Ground-Water Flow Eqn.\n",
      " Solving:  Stress period:     1    Time step:   785    Ground-Water Flow Eqn.\n",
      " Solving:  Stress period:     1    Time step:   786    Ground-Water Flow Eqn.\n",
      " Solving:  Stress period:     1    Time step:   787    Ground-Water Flow Eqn.\n",
      " Solving:  Stress period:     1    Time step:   788    Ground-Water Flow Eqn.\n",
      " Solving:  Stress period:     1    Time step:   789    Ground-Water Flow Eqn.\n",
      " Solving:  Stress period:     1    Time step:   790    Ground-Water Flow Eqn.\n",
      " Solving:  Stress period:     1    Time step:   791    Ground-Water Flow Eqn.\n",
      " Solving:  Stress period:     1    Time step:   792    Ground-Water Flow Eqn.\n",
      " Solving:  Stress period:     1    Time step:   793    Ground-Water Flow Eqn.\n",
      " Solving:  Stress period:     1    Time step:   794    Ground-Water Flow Eqn.\n",
      " Solving:  Stress period:     1    Time step:   795    Ground-Water Flow Eqn.\n",
      " Solving:  Stress period:     1    Time step:   796    Ground-Water Flow Eqn.\n",
      " Solving:  Stress period:     1    Time step:   797    Ground-Water Flow Eqn.\n",
      " Solving:  Stress period:     1    Time step:   798    Ground-Water Flow Eqn.\n",
      " Solving:  Stress period:     1    Time step:   799    Ground-Water Flow Eqn.\n",
      " Solving:  Stress period:     1    Time step:   800    Ground-Water Flow Eqn.\n",
      " Solving:  Stress period:     1    Time step:   801    Ground-Water Flow Eqn.\n",
      " Solving:  Stress period:     1    Time step:   802    Ground-Water Flow Eqn.\n",
      " Solving:  Stress period:     1    Time step:   803    Ground-Water Flow Eqn.\n",
      " Solving:  Stress period:     1    Time step:   804    Ground-Water Flow Eqn.\n",
      " Solving:  Stress period:     1    Time step:   805    Ground-Water Flow Eqn.\n",
      " Solving:  Stress period:     1    Time step:   806    Ground-Water Flow Eqn.\n",
      " Solving:  Stress period:     1    Time step:   807    Ground-Water Flow Eqn.\n",
      " Solving:  Stress period:     1    Time step:   808    Ground-Water Flow Eqn.\n",
      " Solving:  Stress period:     1    Time step:   809    Ground-Water Flow Eqn.\n",
      " Solving:  Stress period:     1    Time step:   810    Ground-Water Flow Eqn.\n",
      " Solving:  Stress period:     1    Time step:   811    Ground-Water Flow Eqn.\n",
      " Solving:  Stress period:     1    Time step:   812    Ground-Water Flow Eqn.\n",
      " Solving:  Stress period:     1    Time step:   813    Ground-Water Flow Eqn.\n",
      " Solving:  Stress period:     1    Time step:   814    Ground-Water Flow Eqn.\n",
      " Solving:  Stress period:     1    Time step:   815    Ground-Water Flow Eqn.\n",
      " Solving:  Stress period:     1    Time step:   816    Ground-Water Flow Eqn.\n",
      " Solving:  Stress period:     1    Time step:   817    Ground-Water Flow Eqn.\n",
      " Solving:  Stress period:     1    Time step:   818    Ground-Water Flow Eqn.\n",
      " Solving:  Stress period:     1    Time step:   819    Ground-Water Flow Eqn.\n",
      " Solving:  Stress period:     1    Time step:   820    Ground-Water Flow Eqn.\n",
      " Solving:  Stress period:     1    Time step:   821    Ground-Water Flow Eqn.\n",
      " Solving:  Stress period:     1    Time step:   822    Ground-Water Flow Eqn.\n",
      " Solving:  Stress period:     1    Time step:   823    Ground-Water Flow Eqn.\n",
      " Solving:  Stress period:     1    Time step:   824    Ground-Water Flow Eqn.\n",
      " Solving:  Stress period:     1    Time step:   825    Ground-Water Flow Eqn.\n",
      " Solving:  Stress period:     1    Time step:   826    Ground-Water Flow Eqn.\n",
      " Solving:  Stress period:     1    Time step:   827    Ground-Water Flow Eqn.\n",
      " Solving:  Stress period:     1    Time step:   828    Ground-Water Flow Eqn.\n",
      " Solving:  Stress period:     1    Time step:   829    Ground-Water Flow Eqn.\n",
      " Solving:  Stress period:     1    Time step:   830    Ground-Water Flow Eqn.\n",
      " Solving:  Stress period:     1    Time step:   831    Ground-Water Flow Eqn.\n",
      " Solving:  Stress period:     1    Time step:   832    Ground-Water Flow Eqn.\n",
      " Solving:  Stress period:     1    Time step:   833    Ground-Water Flow Eqn.\n",
      " Solving:  Stress period:     1    Time step:   834    Ground-Water Flow Eqn.\n",
      " Solving:  Stress period:     1    Time step:   835    Ground-Water Flow Eqn.\n",
      " Solving:  Stress period:     1    Time step:   836    Ground-Water Flow Eqn.\n",
      " Solving:  Stress period:     1    Time step:   837    Ground-Water Flow Eqn.\n",
      " Solving:  Stress period:     1    Time step:   838    Ground-Water Flow Eqn.\n",
      " Solving:  Stress period:     1    Time step:   839    Ground-Water Flow Eqn.\n",
      " Solving:  Stress period:     1    Time step:   840    Ground-Water Flow Eqn.\n",
      " Solving:  Stress period:     1    Time step:   841    Ground-Water Flow Eqn.\n",
      " Solving:  Stress period:     1    Time step:   842    Ground-Water Flow Eqn.\n",
      " Solving:  Stress period:     1    Time step:   843    Ground-Water Flow Eqn.\n",
      " Solving:  Stress period:     1    Time step:   844    Ground-Water Flow Eqn.\n",
      " Solving:  Stress period:     1    Time step:   845    Ground-Water Flow Eqn.\n",
      " Solving:  Stress period:     1    Time step:   846    Ground-Water Flow Eqn.\n",
      " Solving:  Stress period:     1    Time step:   847    Ground-Water Flow Eqn.\n",
      " Solving:  Stress period:     1    Time step:   848    Ground-Water Flow Eqn.\n",
      " Solving:  Stress period:     1    Time step:   849    Ground-Water Flow Eqn.\n",
      " Solving:  Stress period:     1    Time step:   850    Ground-Water Flow Eqn.\n",
      " Solving:  Stress period:     1    Time step:   851    Ground-Water Flow Eqn.\n",
      " Solving:  Stress period:     1    Time step:   852    Ground-Water Flow Eqn.\n",
      " Solving:  Stress period:     1    Time step:   853    Ground-Water Flow Eqn.\n"
     ]
    },
    {
     "name": "stdout",
     "output_type": "stream",
     "text": [
      " Solving:  Stress period:     1    Time step:   854    Ground-Water Flow Eqn.\n",
      " Solving:  Stress period:     1    Time step:   855    Ground-Water Flow Eqn.\n",
      " Solving:  Stress period:     1    Time step:   856    Ground-Water Flow Eqn.\n",
      " Solving:  Stress period:     1    Time step:   857    Ground-Water Flow Eqn.\n",
      " Solving:  Stress period:     1    Time step:   858    Ground-Water Flow Eqn.\n",
      " Solving:  Stress period:     1    Time step:   859    Ground-Water Flow Eqn.\n",
      " Solving:  Stress period:     1    Time step:   860    Ground-Water Flow Eqn.\n",
      " Solving:  Stress period:     1    Time step:   861    Ground-Water Flow Eqn.\n",
      " Solving:  Stress period:     1    Time step:   862    Ground-Water Flow Eqn.\n",
      " Solving:  Stress period:     1    Time step:   863    Ground-Water Flow Eqn.\n",
      " Solving:  Stress period:     1    Time step:   864    Ground-Water Flow Eqn.\n",
      " Solving:  Stress period:     1    Time step:   865    Ground-Water Flow Eqn.\n",
      " Solving:  Stress period:     1    Time step:   866    Ground-Water Flow Eqn.\n",
      " Solving:  Stress period:     1    Time step:   867    Ground-Water Flow Eqn.\n",
      " Solving:  Stress period:     1    Time step:   868    Ground-Water Flow Eqn.\n",
      " Solving:  Stress period:     1    Time step:   869    Ground-Water Flow Eqn.\n",
      " Solving:  Stress period:     1    Time step:   870    Ground-Water Flow Eqn.\n",
      " Solving:  Stress period:     1    Time step:   871    Ground-Water Flow Eqn.\n",
      " Solving:  Stress period:     1    Time step:   872    Ground-Water Flow Eqn.\n",
      " Solving:  Stress period:     1    Time step:   873    Ground-Water Flow Eqn.\n",
      " Solving:  Stress period:     1    Time step:   874    Ground-Water Flow Eqn.\n",
      " Solving:  Stress period:     1    Time step:   875    Ground-Water Flow Eqn.\n",
      " Solving:  Stress period:     1    Time step:   876    Ground-Water Flow Eqn.\n",
      " Solving:  Stress period:     1    Time step:   877    Ground-Water Flow Eqn.\n",
      " Solving:  Stress period:     1    Time step:   878    Ground-Water Flow Eqn.\n",
      " Solving:  Stress period:     1    Time step:   879    Ground-Water Flow Eqn.\n",
      " Solving:  Stress period:     1    Time step:   880    Ground-Water Flow Eqn.\n",
      " Solving:  Stress period:     1    Time step:   881    Ground-Water Flow Eqn.\n",
      " Solving:  Stress period:     1    Time step:   882    Ground-Water Flow Eqn.\n",
      " Solving:  Stress period:     1    Time step:   883    Ground-Water Flow Eqn.\n",
      " Solving:  Stress period:     1    Time step:   884    Ground-Water Flow Eqn.\n",
      " Solving:  Stress period:     1    Time step:   885    Ground-Water Flow Eqn.\n",
      " Solving:  Stress period:     1    Time step:   886    Ground-Water Flow Eqn.\n",
      " Solving:  Stress period:     1    Time step:   887    Ground-Water Flow Eqn.\n",
      " Solving:  Stress period:     1    Time step:   888    Ground-Water Flow Eqn.\n",
      " Solving:  Stress period:     1    Time step:   889    Ground-Water Flow Eqn.\n",
      " Solving:  Stress period:     1    Time step:   890    Ground-Water Flow Eqn.\n",
      " Solving:  Stress period:     1    Time step:   891    Ground-Water Flow Eqn.\n",
      " Solving:  Stress period:     1    Time step:   892    Ground-Water Flow Eqn.\n",
      " Solving:  Stress period:     1    Time step:   893    Ground-Water Flow Eqn.\n",
      " Solving:  Stress period:     1    Time step:   894    Ground-Water Flow Eqn.\n",
      " Solving:  Stress period:     1    Time step:   895    Ground-Water Flow Eqn.\n",
      " Solving:  Stress period:     1    Time step:   896    Ground-Water Flow Eqn.\n",
      " Solving:  Stress period:     1    Time step:   897    Ground-Water Flow Eqn.\n",
      " Solving:  Stress period:     1    Time step:   898    Ground-Water Flow Eqn.\n",
      " Solving:  Stress period:     1    Time step:   899    Ground-Water Flow Eqn.\n",
      " Solving:  Stress period:     1    Time step:   900    Ground-Water Flow Eqn.\n",
      " Solving:  Stress period:     1    Time step:   901    Ground-Water Flow Eqn.\n",
      " Solving:  Stress period:     1    Time step:   902    Ground-Water Flow Eqn.\n",
      " Solving:  Stress period:     1    Time step:   903    Ground-Water Flow Eqn.\n",
      " Solving:  Stress period:     1    Time step:   904    Ground-Water Flow Eqn.\n",
      " Solving:  Stress period:     1    Time step:   905    Ground-Water Flow Eqn.\n",
      " Solving:  Stress period:     1    Time step:   906    Ground-Water Flow Eqn.\n",
      " Solving:  Stress period:     1    Time step:   907    Ground-Water Flow Eqn.\n",
      " Solving:  Stress period:     1    Time step:   908    Ground-Water Flow Eqn.\n",
      " Solving:  Stress period:     1    Time step:   909    Ground-Water Flow Eqn.\n",
      " Solving:  Stress period:     1    Time step:   910    Ground-Water Flow Eqn.\n",
      " Solving:  Stress period:     1    Time step:   911    Ground-Water Flow Eqn.\n",
      " Solving:  Stress period:     1    Time step:   912    Ground-Water Flow Eqn.\n",
      " Solving:  Stress period:     1    Time step:   913    Ground-Water Flow Eqn.\n",
      " Solving:  Stress period:     1    Time step:   914    Ground-Water Flow Eqn.\n",
      " Solving:  Stress period:     1    Time step:   915    Ground-Water Flow Eqn.\n",
      " Solving:  Stress period:     1    Time step:   916    Ground-Water Flow Eqn.\n",
      " Solving:  Stress period:     1    Time step:   917    Ground-Water Flow Eqn.\n",
      " Solving:  Stress period:     1    Time step:   918    Ground-Water Flow Eqn.\n",
      " Solving:  Stress period:     1    Time step:   919    Ground-Water Flow Eqn.\n",
      " Solving:  Stress period:     1    Time step:   920    Ground-Water Flow Eqn.\n",
      " Solving:  Stress period:     1    Time step:   921    Ground-Water Flow Eqn.\n",
      " Solving:  Stress period:     1    Time step:   922    Ground-Water Flow Eqn.\n",
      " Solving:  Stress period:     1    Time step:   923    Ground-Water Flow Eqn.\n",
      " Solving:  Stress period:     1    Time step:   924    Ground-Water Flow Eqn.\n",
      " Solving:  Stress period:     1    Time step:   925    Ground-Water Flow Eqn.\n",
      " Solving:  Stress period:     1    Time step:   926    Ground-Water Flow Eqn.\n",
      " Solving:  Stress period:     1    Time step:   927    Ground-Water Flow Eqn.\n",
      " Solving:  Stress period:     1    Time step:   928    Ground-Water Flow Eqn.\n",
      " Solving:  Stress period:     1    Time step:   929    Ground-Water Flow Eqn.\n",
      " Solving:  Stress period:     1    Time step:   930    Ground-Water Flow Eqn.\n",
      " Solving:  Stress period:     1    Time step:   931    Ground-Water Flow Eqn.\n",
      " Solving:  Stress period:     1    Time step:   932    Ground-Water Flow Eqn.\n",
      " Solving:  Stress period:     1    Time step:   933    Ground-Water Flow Eqn.\n",
      " Solving:  Stress period:     1    Time step:   934    Ground-Water Flow Eqn.\n",
      " Solving:  Stress period:     1    Time step:   935    Ground-Water Flow Eqn.\n",
      " Solving:  Stress period:     1    Time step:   936    Ground-Water Flow Eqn.\n",
      " Solving:  Stress period:     1    Time step:   937    Ground-Water Flow Eqn.\n",
      " Solving:  Stress period:     1    Time step:   938    Ground-Water Flow Eqn.\n",
      " Solving:  Stress period:     1    Time step:   939    Ground-Water Flow Eqn.\n",
      " Solving:  Stress period:     1    Time step:   940    Ground-Water Flow Eqn.\n",
      " Solving:  Stress period:     1    Time step:   941    Ground-Water Flow Eqn.\n",
      " Solving:  Stress period:     1    Time step:   942    Ground-Water Flow Eqn.\n",
      " Solving:  Stress period:     1    Time step:   943    Ground-Water Flow Eqn.\n",
      " Solving:  Stress period:     1    Time step:   944    Ground-Water Flow Eqn.\n",
      " Solving:  Stress period:     1    Time step:   945    Ground-Water Flow Eqn.\n",
      " Solving:  Stress period:     1    Time step:   946    Ground-Water Flow Eqn.\n",
      " Solving:  Stress period:     1    Time step:   947    Ground-Water Flow Eqn.\n",
      " Solving:  Stress period:     1    Time step:   948    Ground-Water Flow Eqn.\n",
      " Solving:  Stress period:     1    Time step:   949    Ground-Water Flow Eqn.\n",
      " Solving:  Stress period:     1    Time step:   950    Ground-Water Flow Eqn.\n",
      " Solving:  Stress period:     1    Time step:   951    Ground-Water Flow Eqn.\n",
      " Solving:  Stress period:     1    Time step:   952    Ground-Water Flow Eqn.\n",
      " Solving:  Stress period:     1    Time step:   953    Ground-Water Flow Eqn.\n",
      " Solving:  Stress period:     1    Time step:   954    Ground-Water Flow Eqn.\n",
      " Solving:  Stress period:     1    Time step:   955    Ground-Water Flow Eqn.\n",
      " Solving:  Stress period:     1    Time step:   956    Ground-Water Flow Eqn.\n",
      " Solving:  Stress period:     1    Time step:   957    Ground-Water Flow Eqn.\n",
      " Solving:  Stress period:     1    Time step:   958    Ground-Water Flow Eqn.\n",
      " Solving:  Stress period:     1    Time step:   959    Ground-Water Flow Eqn.\n"
     ]
    },
    {
     "name": "stdout",
     "output_type": "stream",
     "text": [
      " Solving:  Stress period:     1    Time step:   960    Ground-Water Flow Eqn.\n",
      " Solving:  Stress period:     1    Time step:   961    Ground-Water Flow Eqn.\n",
      " Solving:  Stress period:     1    Time step:   962    Ground-Water Flow Eqn.\n",
      " Solving:  Stress period:     1    Time step:   963    Ground-Water Flow Eqn.\n",
      " Solving:  Stress period:     1    Time step:   964    Ground-Water Flow Eqn.\n",
      " Solving:  Stress period:     1    Time step:   965    Ground-Water Flow Eqn.\n",
      " Solving:  Stress period:     1    Time step:   966    Ground-Water Flow Eqn.\n",
      " Solving:  Stress period:     1    Time step:   967    Ground-Water Flow Eqn.\n",
      " Solving:  Stress period:     1    Time step:   968    Ground-Water Flow Eqn.\n",
      " Solving:  Stress period:     1    Time step:   969    Ground-Water Flow Eqn.\n",
      " Solving:  Stress period:     1    Time step:   970    Ground-Water Flow Eqn.\n",
      " Solving:  Stress period:     1    Time step:   971    Ground-Water Flow Eqn.\n",
      " Solving:  Stress period:     1    Time step:   972    Ground-Water Flow Eqn.\n",
      " Solving:  Stress period:     1    Time step:   973    Ground-Water Flow Eqn.\n",
      " Solving:  Stress period:     1    Time step:   974    Ground-Water Flow Eqn.\n",
      " Solving:  Stress period:     1    Time step:   975    Ground-Water Flow Eqn.\n",
      " Solving:  Stress period:     1    Time step:   976    Ground-Water Flow Eqn.\n",
      " Solving:  Stress period:     1    Time step:   977    Ground-Water Flow Eqn.\n",
      " Solving:  Stress period:     1    Time step:   978    Ground-Water Flow Eqn.\n",
      " Solving:  Stress period:     1    Time step:   979    Ground-Water Flow Eqn.\n",
      " Solving:  Stress period:     1    Time step:   980    Ground-Water Flow Eqn.\n",
      " Solving:  Stress period:     1    Time step:   981    Ground-Water Flow Eqn.\n",
      " Solving:  Stress period:     1    Time step:   982    Ground-Water Flow Eqn.\n",
      " Solving:  Stress period:     1    Time step:   983    Ground-Water Flow Eqn.\n",
      " Solving:  Stress period:     1    Time step:   984    Ground-Water Flow Eqn.\n",
      " Solving:  Stress period:     1    Time step:   985    Ground-Water Flow Eqn.\n",
      " Solving:  Stress period:     1    Time step:   986    Ground-Water Flow Eqn.\n",
      " Solving:  Stress period:     1    Time step:   987    Ground-Water Flow Eqn.\n",
      " Solving:  Stress period:     1    Time step:   988    Ground-Water Flow Eqn.\n",
      " Solving:  Stress period:     1    Time step:   989    Ground-Water Flow Eqn.\n",
      " Solving:  Stress period:     1    Time step:   990    Ground-Water Flow Eqn.\n",
      " Solving:  Stress period:     1    Time step:   991    Ground-Water Flow Eqn.\n",
      " Solving:  Stress period:     1    Time step:   992    Ground-Water Flow Eqn.\n",
      " Solving:  Stress period:     1    Time step:   993    Ground-Water Flow Eqn.\n",
      " Solving:  Stress period:     1    Time step:   994    Ground-Water Flow Eqn.\n",
      " Solving:  Stress period:     1    Time step:   995    Ground-Water Flow Eqn.\n",
      " Solving:  Stress period:     1    Time step:   996    Ground-Water Flow Eqn.\n",
      " Solving:  Stress period:     1    Time step:   997    Ground-Water Flow Eqn.\n",
      " Solving:  Stress period:     1    Time step:   998    Ground-Water Flow Eqn.\n",
      " Solving:  Stress period:     1    Time step:   999    Ground-Water Flow Eqn.\n",
      " Solving:  Stress period:     1    Time step:  1000    Ground-Water Flow Eqn.\n",
      " Solving:  Stress period:     2    Time step:     1    Ground-Water Flow Eqn.\n",
      " Solving:  Stress period:     2    Time step:     2    Ground-Water Flow Eqn.\n",
      " Solving:  Stress period:     2    Time step:     3    Ground-Water Flow Eqn.\n",
      " Solving:  Stress period:     2    Time step:     4    Ground-Water Flow Eqn.\n",
      " Solving:  Stress period:     2    Time step:     5    Ground-Water Flow Eqn.\n",
      " Solving:  Stress period:     2    Time step:     6    Ground-Water Flow Eqn.\n",
      " Solving:  Stress period:     2    Time step:     7    Ground-Water Flow Eqn.\n",
      " Solving:  Stress period:     2    Time step:     8    Ground-Water Flow Eqn.\n",
      " Solving:  Stress period:     2    Time step:     9    Ground-Water Flow Eqn.\n",
      " Solving:  Stress period:     2    Time step:    10    Ground-Water Flow Eqn.\n",
      " Solving:  Stress period:     2    Time step:    11    Ground-Water Flow Eqn.\n",
      " Solving:  Stress period:     2    Time step:    12    Ground-Water Flow Eqn.\n",
      " Solving:  Stress period:     2    Time step:    13    Ground-Water Flow Eqn.\n",
      " Solving:  Stress period:     2    Time step:    14    Ground-Water Flow Eqn.\n",
      " Solving:  Stress period:     2    Time step:    15    Ground-Water Flow Eqn.\n",
      " Solving:  Stress period:     2    Time step:    16    Ground-Water Flow Eqn.\n",
      " Solving:  Stress period:     2    Time step:    17    Ground-Water Flow Eqn.\n",
      " Solving:  Stress period:     2    Time step:    18    Ground-Water Flow Eqn.\n",
      " Solving:  Stress period:     2    Time step:    19    Ground-Water Flow Eqn.\n",
      " Solving:  Stress period:     2    Time step:    20    Ground-Water Flow Eqn.\n",
      " Solving:  Stress period:     2    Time step:    21    Ground-Water Flow Eqn.\n",
      " Solving:  Stress period:     2    Time step:    22    Ground-Water Flow Eqn.\n",
      " Solving:  Stress period:     2    Time step:    23    Ground-Water Flow Eqn.\n",
      " Solving:  Stress period:     2    Time step:    24    Ground-Water Flow Eqn.\n",
      " Solving:  Stress period:     2    Time step:    25    Ground-Water Flow Eqn.\n",
      " Solving:  Stress period:     2    Time step:    26    Ground-Water Flow Eqn.\n",
      " Solving:  Stress period:     2    Time step:    27    Ground-Water Flow Eqn.\n",
      " Solving:  Stress period:     2    Time step:    28    Ground-Water Flow Eqn.\n",
      " Solving:  Stress period:     2    Time step:    29    Ground-Water Flow Eqn.\n",
      " Solving:  Stress period:     2    Time step:    30    Ground-Water Flow Eqn.\n",
      " Solving:  Stress period:     2    Time step:    31    Ground-Water Flow Eqn.\n",
      " Solving:  Stress period:     2    Time step:    32    Ground-Water Flow Eqn.\n",
      " Solving:  Stress period:     2    Time step:    33    Ground-Water Flow Eqn.\n",
      " Solving:  Stress period:     2    Time step:    34    Ground-Water Flow Eqn.\n",
      " Solving:  Stress period:     2    Time step:    35    Ground-Water Flow Eqn.\n",
      " Solving:  Stress period:     2    Time step:    36    Ground-Water Flow Eqn.\n",
      " Solving:  Stress period:     2    Time step:    37    Ground-Water Flow Eqn.\n",
      " Solving:  Stress period:     2    Time step:    38    Ground-Water Flow Eqn.\n",
      " Solving:  Stress period:     2    Time step:    39    Ground-Water Flow Eqn.\n",
      " Solving:  Stress period:     2    Time step:    40    Ground-Water Flow Eqn.\n",
      " Solving:  Stress period:     2    Time step:    41    Ground-Water Flow Eqn.\n",
      " Solving:  Stress period:     2    Time step:    42    Ground-Water Flow Eqn.\n",
      " Solving:  Stress period:     2    Time step:    43    Ground-Water Flow Eqn.\n",
      " Solving:  Stress period:     2    Time step:    44    Ground-Water Flow Eqn.\n",
      " Solving:  Stress period:     2    Time step:    45    Ground-Water Flow Eqn.\n",
      " Solving:  Stress period:     2    Time step:    46    Ground-Water Flow Eqn.\n",
      " Solving:  Stress period:     2    Time step:    47    Ground-Water Flow Eqn.\n",
      " Solving:  Stress period:     2    Time step:    48    Ground-Water Flow Eqn.\n",
      " Solving:  Stress period:     2    Time step:    49    Ground-Water Flow Eqn.\n",
      " Solving:  Stress period:     2    Time step:    50    Ground-Water Flow Eqn.\n",
      " Solving:  Stress period:     2    Time step:    51    Ground-Water Flow Eqn.\n",
      " Solving:  Stress period:     2    Time step:    52    Ground-Water Flow Eqn.\n",
      " Solving:  Stress period:     2    Time step:    53    Ground-Water Flow Eqn.\n",
      " Solving:  Stress period:     2    Time step:    54    Ground-Water Flow Eqn.\n",
      " Solving:  Stress period:     2    Time step:    55    Ground-Water Flow Eqn.\n",
      " Solving:  Stress period:     2    Time step:    56    Ground-Water Flow Eqn.\n",
      " Solving:  Stress period:     2    Time step:    57    Ground-Water Flow Eqn.\n",
      " Solving:  Stress period:     2    Time step:    58    Ground-Water Flow Eqn.\n",
      " Solving:  Stress period:     2    Time step:    59    Ground-Water Flow Eqn.\n",
      " Solving:  Stress period:     2    Time step:    60    Ground-Water Flow Eqn.\n",
      " Solving:  Stress period:     2    Time step:    61    Ground-Water Flow Eqn.\n",
      " Solving:  Stress period:     2    Time step:    62    Ground-Water Flow Eqn.\n",
      " Solving:  Stress period:     2    Time step:    63    Ground-Water Flow Eqn.\n",
      " Solving:  Stress period:     2    Time step:    64    Ground-Water Flow Eqn.\n",
      " Solving:  Stress period:     2    Time step:    65    Ground-Water Flow Eqn.\n",
      " Solving:  Stress period:     2    Time step:    66    Ground-Water Flow Eqn.\n",
      " Solving:  Stress period:     2    Time step:    67    Ground-Water Flow Eqn.\n"
     ]
    },
    {
     "name": "stdout",
     "output_type": "stream",
     "text": [
      " Solving:  Stress period:     2    Time step:    68    Ground-Water Flow Eqn.\n",
      " Solving:  Stress period:     2    Time step:    69    Ground-Water Flow Eqn.\n",
      " Solving:  Stress period:     2    Time step:    70    Ground-Water Flow Eqn.\n",
      " Solving:  Stress period:     2    Time step:    71    Ground-Water Flow Eqn.\n",
      " Solving:  Stress period:     2    Time step:    72    Ground-Water Flow Eqn.\n",
      " Solving:  Stress period:     2    Time step:    73    Ground-Water Flow Eqn.\n",
      " Solving:  Stress period:     2    Time step:    74    Ground-Water Flow Eqn.\n",
      " Solving:  Stress period:     2    Time step:    75    Ground-Water Flow Eqn.\n",
      " Solving:  Stress period:     2    Time step:    76    Ground-Water Flow Eqn.\n",
      " Solving:  Stress period:     2    Time step:    77    Ground-Water Flow Eqn.\n",
      " Solving:  Stress period:     2    Time step:    78    Ground-Water Flow Eqn.\n",
      " Solving:  Stress period:     2    Time step:    79    Ground-Water Flow Eqn.\n",
      " Solving:  Stress period:     2    Time step:    80    Ground-Water Flow Eqn.\n",
      " Solving:  Stress period:     2    Time step:    81    Ground-Water Flow Eqn.\n",
      " Solving:  Stress period:     2    Time step:    82    Ground-Water Flow Eqn.\n",
      " Solving:  Stress period:     2    Time step:    83    Ground-Water Flow Eqn.\n",
      " Solving:  Stress period:     2    Time step:    84    Ground-Water Flow Eqn.\n",
      " Solving:  Stress period:     2    Time step:    85    Ground-Water Flow Eqn.\n",
      " Solving:  Stress period:     2    Time step:    86    Ground-Water Flow Eqn.\n",
      " Solving:  Stress period:     2    Time step:    87    Ground-Water Flow Eqn.\n",
      " Solving:  Stress period:     2    Time step:    88    Ground-Water Flow Eqn.\n",
      " Solving:  Stress period:     2    Time step:    89    Ground-Water Flow Eqn.\n",
      " Solving:  Stress period:     2    Time step:    90    Ground-Water Flow Eqn.\n",
      " Solving:  Stress period:     2    Time step:    91    Ground-Water Flow Eqn.\n",
      " Solving:  Stress period:     2    Time step:    92    Ground-Water Flow Eqn.\n",
      " Solving:  Stress period:     2    Time step:    93    Ground-Water Flow Eqn.\n",
      " Solving:  Stress period:     2    Time step:    94    Ground-Water Flow Eqn.\n",
      " Solving:  Stress period:     2    Time step:    95    Ground-Water Flow Eqn.\n",
      " Solving:  Stress period:     2    Time step:    96    Ground-Water Flow Eqn.\n",
      " Solving:  Stress period:     2    Time step:    97    Ground-Water Flow Eqn.\n",
      " Solving:  Stress period:     2    Time step:    98    Ground-Water Flow Eqn.\n",
      " Solving:  Stress period:     2    Time step:    99    Ground-Water Flow Eqn.\n",
      " Solving:  Stress period:     2    Time step:   100    Ground-Water Flow Eqn.\n",
      " Solving:  Stress period:     2    Time step:   101    Ground-Water Flow Eqn.\n",
      " Solving:  Stress period:     2    Time step:   102    Ground-Water Flow Eqn.\n",
      " Solving:  Stress period:     2    Time step:   103    Ground-Water Flow Eqn.\n",
      " Solving:  Stress period:     2    Time step:   104    Ground-Water Flow Eqn.\n",
      " Solving:  Stress period:     2    Time step:   105    Ground-Water Flow Eqn.\n",
      " Solving:  Stress period:     2    Time step:   106    Ground-Water Flow Eqn.\n",
      " Solving:  Stress period:     2    Time step:   107    Ground-Water Flow Eqn.\n",
      " Solving:  Stress period:     2    Time step:   108    Ground-Water Flow Eqn.\n",
      " Solving:  Stress period:     2    Time step:   109    Ground-Water Flow Eqn.\n",
      " Solving:  Stress period:     2    Time step:   110    Ground-Water Flow Eqn.\n",
      " Solving:  Stress period:     2    Time step:   111    Ground-Water Flow Eqn.\n",
      " Solving:  Stress period:     2    Time step:   112    Ground-Water Flow Eqn.\n",
      " Solving:  Stress period:     2    Time step:   113    Ground-Water Flow Eqn.\n",
      " Solving:  Stress period:     2    Time step:   114    Ground-Water Flow Eqn.\n",
      " Solving:  Stress period:     2    Time step:   115    Ground-Water Flow Eqn.\n",
      " Solving:  Stress period:     2    Time step:   116    Ground-Water Flow Eqn.\n",
      " Solving:  Stress period:     2    Time step:   117    Ground-Water Flow Eqn.\n",
      " Solving:  Stress period:     2    Time step:   118    Ground-Water Flow Eqn.\n",
      " Solving:  Stress period:     2    Time step:   119    Ground-Water Flow Eqn.\n",
      " Solving:  Stress period:     2    Time step:   120    Ground-Water Flow Eqn.\n",
      " Solving:  Stress period:     3    Time step:     1    Ground-Water Flow Eqn.\n",
      " Solving:  Stress period:     3    Time step:     2    Ground-Water Flow Eqn.\n",
      " Solving:  Stress period:     3    Time step:     3    Ground-Water Flow Eqn.\n",
      " Solving:  Stress period:     3    Time step:     4    Ground-Water Flow Eqn.\n",
      " Solving:  Stress period:     3    Time step:     5    Ground-Water Flow Eqn.\n",
      " Solving:  Stress period:     3    Time step:     6    Ground-Water Flow Eqn.\n",
      " Solving:  Stress period:     3    Time step:     7    Ground-Water Flow Eqn.\n",
      " Solving:  Stress period:     3    Time step:     8    Ground-Water Flow Eqn.\n",
      " Solving:  Stress period:     3    Time step:     9    Ground-Water Flow Eqn.\n",
      " Solving:  Stress period:     3    Time step:    10    Ground-Water Flow Eqn.\n",
      " Solving:  Stress period:     3    Time step:    11    Ground-Water Flow Eqn.\n",
      " Solving:  Stress period:     3    Time step:    12    Ground-Water Flow Eqn.\n",
      " Solving:  Stress period:     3    Time step:    13    Ground-Water Flow Eqn.\n",
      " Solving:  Stress period:     3    Time step:    14    Ground-Water Flow Eqn.\n",
      " Solving:  Stress period:     3    Time step:    15    Ground-Water Flow Eqn.\n",
      " Solving:  Stress period:     3    Time step:    16    Ground-Water Flow Eqn.\n",
      " Solving:  Stress period:     3    Time step:    17    Ground-Water Flow Eqn.\n",
      " Solving:  Stress period:     3    Time step:    18    Ground-Water Flow Eqn.\n",
      " Solving:  Stress period:     3    Time step:    19    Ground-Water Flow Eqn.\n",
      " Solving:  Stress period:     3    Time step:    20    Ground-Water Flow Eqn.\n",
      " Solving:  Stress period:     3    Time step:    21    Ground-Water Flow Eqn.\n",
      " Solving:  Stress period:     3    Time step:    22    Ground-Water Flow Eqn.\n",
      " Solving:  Stress period:     3    Time step:    23    Ground-Water Flow Eqn.\n",
      " Solving:  Stress period:     3    Time step:    24    Ground-Water Flow Eqn.\n",
      " Solving:  Stress period:     3    Time step:    25    Ground-Water Flow Eqn.\n",
      " Solving:  Stress period:     3    Time step:    26    Ground-Water Flow Eqn.\n",
      " Solving:  Stress period:     3    Time step:    27    Ground-Water Flow Eqn.\n",
      " Solving:  Stress period:     3    Time step:    28    Ground-Water Flow Eqn.\n",
      " Solving:  Stress period:     3    Time step:    29    Ground-Water Flow Eqn.\n",
      " Solving:  Stress period:     3    Time step:    30    Ground-Water Flow Eqn.\n",
      " Solving:  Stress period:     3    Time step:    31    Ground-Water Flow Eqn.\n",
      " Solving:  Stress period:     3    Time step:    32    Ground-Water Flow Eqn.\n",
      " Solving:  Stress period:     3    Time step:    33    Ground-Water Flow Eqn.\n",
      " Solving:  Stress period:     3    Time step:    34    Ground-Water Flow Eqn.\n",
      " Solving:  Stress period:     3    Time step:    35    Ground-Water Flow Eqn.\n",
      " Solving:  Stress period:     3    Time step:    36    Ground-Water Flow Eqn.\n",
      " Solving:  Stress period:     3    Time step:    37    Ground-Water Flow Eqn.\n",
      " Solving:  Stress period:     3    Time step:    38    Ground-Water Flow Eqn.\n",
      " Solving:  Stress period:     3    Time step:    39    Ground-Water Flow Eqn.\n",
      " Solving:  Stress period:     3    Time step:    40    Ground-Water Flow Eqn.\n",
      " Solving:  Stress period:     3    Time step:    41    Ground-Water Flow Eqn.\n",
      " Solving:  Stress period:     3    Time step:    42    Ground-Water Flow Eqn.\n",
      " Solving:  Stress period:     3    Time step:    43    Ground-Water Flow Eqn.\n",
      " Solving:  Stress period:     3    Time step:    44    Ground-Water Flow Eqn.\n",
      " Solving:  Stress period:     3    Time step:    45    Ground-Water Flow Eqn.\n",
      " Solving:  Stress period:     3    Time step:    46    Ground-Water Flow Eqn.\n",
      " Solving:  Stress period:     3    Time step:    47    Ground-Water Flow Eqn.\n",
      " Solving:  Stress period:     3    Time step:    48    Ground-Water Flow Eqn.\n",
      " Solving:  Stress period:     3    Time step:    49    Ground-Water Flow Eqn.\n",
      " Solving:  Stress period:     3    Time step:    50    Ground-Water Flow Eqn.\n",
      " Solving:  Stress period:     3    Time step:    51    Ground-Water Flow Eqn.\n",
      " Solving:  Stress period:     3    Time step:    52    Ground-Water Flow Eqn.\n",
      " Solving:  Stress period:     3    Time step:    53    Ground-Water Flow Eqn.\n",
      " Solving:  Stress period:     3    Time step:    54    Ground-Water Flow Eqn.\n",
      " Solving:  Stress period:     3    Time step:    55    Ground-Water Flow Eqn.\n"
     ]
    },
    {
     "name": "stdout",
     "output_type": "stream",
     "text": [
      " Solving:  Stress period:     3    Time step:    56    Ground-Water Flow Eqn.\n",
      " Solving:  Stress period:     3    Time step:    57    Ground-Water Flow Eqn.\n",
      " Solving:  Stress period:     3    Time step:    58    Ground-Water Flow Eqn.\n",
      " Solving:  Stress period:     3    Time step:    59    Ground-Water Flow Eqn.\n",
      " Solving:  Stress period:     3    Time step:    60    Ground-Water Flow Eqn.\n",
      " Solving:  Stress period:     3    Time step:    61    Ground-Water Flow Eqn.\n",
      " Solving:  Stress period:     3    Time step:    62    Ground-Water Flow Eqn.\n",
      " Solving:  Stress period:     3    Time step:    63    Ground-Water Flow Eqn.\n",
      " Solving:  Stress period:     3    Time step:    64    Ground-Water Flow Eqn.\n",
      " Solving:  Stress period:     3    Time step:    65    Ground-Water Flow Eqn.\n",
      " Solving:  Stress period:     3    Time step:    66    Ground-Water Flow Eqn.\n",
      " Solving:  Stress period:     3    Time step:    67    Ground-Water Flow Eqn.\n",
      " Solving:  Stress period:     3    Time step:    68    Ground-Water Flow Eqn.\n",
      " Solving:  Stress period:     3    Time step:    69    Ground-Water Flow Eqn.\n",
      " Solving:  Stress period:     3    Time step:    70    Ground-Water Flow Eqn.\n",
      " Solving:  Stress period:     3    Time step:    71    Ground-Water Flow Eqn.\n",
      " Solving:  Stress period:     3    Time step:    72    Ground-Water Flow Eqn.\n",
      " Solving:  Stress period:     3    Time step:    73    Ground-Water Flow Eqn.\n",
      " Solving:  Stress period:     3    Time step:    74    Ground-Water Flow Eqn.\n",
      " Solving:  Stress period:     3    Time step:    75    Ground-Water Flow Eqn.\n",
      " Solving:  Stress period:     3    Time step:    76    Ground-Water Flow Eqn.\n",
      " Solving:  Stress period:     3    Time step:    77    Ground-Water Flow Eqn.\n",
      " Solving:  Stress period:     3    Time step:    78    Ground-Water Flow Eqn.\n",
      " Solving:  Stress period:     3    Time step:    79    Ground-Water Flow Eqn.\n",
      " Solving:  Stress period:     3    Time step:    80    Ground-Water Flow Eqn.\n",
      " Solving:  Stress period:     3    Time step:    81    Ground-Water Flow Eqn.\n",
      " Solving:  Stress period:     3    Time step:    82    Ground-Water Flow Eqn.\n",
      " Solving:  Stress period:     3    Time step:    83    Ground-Water Flow Eqn.\n",
      " Solving:  Stress period:     3    Time step:    84    Ground-Water Flow Eqn.\n",
      " Solving:  Stress period:     3    Time step:    85    Ground-Water Flow Eqn.\n",
      " Solving:  Stress period:     3    Time step:    86    Ground-Water Flow Eqn.\n",
      " Solving:  Stress period:     3    Time step:    87    Ground-Water Flow Eqn.\n",
      " Solving:  Stress period:     3    Time step:    88    Ground-Water Flow Eqn.\n",
      " Solving:  Stress period:     3    Time step:    89    Ground-Water Flow Eqn.\n",
      " Solving:  Stress period:     3    Time step:    90    Ground-Water Flow Eqn.\n",
      " Solving:  Stress period:     3    Time step:    91    Ground-Water Flow Eqn.\n",
      " Solving:  Stress period:     3    Time step:    92    Ground-Water Flow Eqn.\n",
      " Solving:  Stress period:     3    Time step:    93    Ground-Water Flow Eqn.\n",
      " Solving:  Stress period:     3    Time step:    94    Ground-Water Flow Eqn.\n",
      " Solving:  Stress period:     3    Time step:    95    Ground-Water Flow Eqn.\n",
      " Solving:  Stress period:     3    Time step:    96    Ground-Water Flow Eqn.\n",
      " Solving:  Stress period:     3    Time step:    97    Ground-Water Flow Eqn.\n",
      " Solving:  Stress period:     3    Time step:    98    Ground-Water Flow Eqn.\n",
      " Solving:  Stress period:     3    Time step:    99    Ground-Water Flow Eqn.\n",
      " Solving:  Stress period:     3    Time step:   100    Ground-Water Flow Eqn.\n",
      " Solving:  Stress period:     3    Time step:   101    Ground-Water Flow Eqn.\n",
      " Solving:  Stress period:     3    Time step:   102    Ground-Water Flow Eqn.\n",
      " Solving:  Stress period:     3    Time step:   103    Ground-Water Flow Eqn.\n",
      " Solving:  Stress period:     3    Time step:   104    Ground-Water Flow Eqn.\n",
      " Solving:  Stress period:     3    Time step:   105    Ground-Water Flow Eqn.\n",
      " Solving:  Stress period:     3    Time step:   106    Ground-Water Flow Eqn.\n",
      " Solving:  Stress period:     3    Time step:   107    Ground-Water Flow Eqn.\n",
      " Solving:  Stress period:     3    Time step:   108    Ground-Water Flow Eqn.\n",
      " Solving:  Stress period:     3    Time step:   109    Ground-Water Flow Eqn.\n",
      " Solving:  Stress period:     3    Time step:   110    Ground-Water Flow Eqn.\n",
      " Solving:  Stress period:     3    Time step:   111    Ground-Water Flow Eqn.\n",
      " Solving:  Stress period:     3    Time step:   112    Ground-Water Flow Eqn.\n",
      " Solving:  Stress period:     3    Time step:   113    Ground-Water Flow Eqn.\n",
      " Solving:  Stress period:     3    Time step:   114    Ground-Water Flow Eqn.\n",
      " Solving:  Stress period:     3    Time step:   115    Ground-Water Flow Eqn.\n",
      " Solving:  Stress period:     3    Time step:   116    Ground-Water Flow Eqn.\n",
      " Solving:  Stress period:     3    Time step:   117    Ground-Water Flow Eqn.\n",
      " Solving:  Stress period:     3    Time step:   118    Ground-Water Flow Eqn.\n",
      " Solving:  Stress period:     3    Time step:   119    Ground-Water Flow Eqn.\n",
      " Solving:  Stress period:     3    Time step:   120    Ground-Water Flow Eqn.\n",
      " Solving:  Stress period:     3    Time step:   121    Ground-Water Flow Eqn.\n",
      " Solving:  Stress period:     3    Time step:   122    Ground-Water Flow Eqn.\n",
      " Solving:  Stress period:     3    Time step:   123    Ground-Water Flow Eqn.\n",
      " Solving:  Stress period:     3    Time step:   124    Ground-Water Flow Eqn.\n",
      " Solving:  Stress period:     3    Time step:   125    Ground-Water Flow Eqn.\n",
      " Solving:  Stress period:     3    Time step:   126    Ground-Water Flow Eqn.\n",
      " Solving:  Stress period:     3    Time step:   127    Ground-Water Flow Eqn.\n",
      " Solving:  Stress period:     3    Time step:   128    Ground-Water Flow Eqn.\n",
      " Solving:  Stress period:     3    Time step:   129    Ground-Water Flow Eqn.\n",
      " Solving:  Stress period:     3    Time step:   130    Ground-Water Flow Eqn.\n",
      " Solving:  Stress period:     3    Time step:   131    Ground-Water Flow Eqn.\n",
      " Solving:  Stress period:     3    Time step:   132    Ground-Water Flow Eqn.\n",
      " Solving:  Stress period:     3    Time step:   133    Ground-Water Flow Eqn.\n",
      " Solving:  Stress period:     3    Time step:   134    Ground-Water Flow Eqn.\n",
      " Solving:  Stress period:     3    Time step:   135    Ground-Water Flow Eqn.\n",
      " Solving:  Stress period:     3    Time step:   136    Ground-Water Flow Eqn.\n",
      " Solving:  Stress period:     3    Time step:   137    Ground-Water Flow Eqn.\n",
      " Solving:  Stress period:     3    Time step:   138    Ground-Water Flow Eqn.\n",
      " Solving:  Stress period:     3    Time step:   139    Ground-Water Flow Eqn.\n",
      " Solving:  Stress period:     3    Time step:   140    Ground-Water Flow Eqn.\n",
      " Solving:  Stress period:     3    Time step:   141    Ground-Water Flow Eqn.\n",
      " Solving:  Stress period:     3    Time step:   142    Ground-Water Flow Eqn.\n",
      " Solving:  Stress period:     3    Time step:   143    Ground-Water Flow Eqn.\n",
      " Solving:  Stress period:     3    Time step:   144    Ground-Water Flow Eqn.\n",
      " Solving:  Stress period:     3    Time step:   145    Ground-Water Flow Eqn.\n",
      " Solving:  Stress period:     3    Time step:   146    Ground-Water Flow Eqn.\n",
      " Solving:  Stress period:     3    Time step:   147    Ground-Water Flow Eqn.\n",
      " Solving:  Stress period:     3    Time step:   148    Ground-Water Flow Eqn.\n",
      " Solving:  Stress period:     3    Time step:   149    Ground-Water Flow Eqn.\n",
      " Solving:  Stress period:     3    Time step:   150    Ground-Water Flow Eqn.\n",
      " Solving:  Stress period:     3    Time step:   151    Ground-Water Flow Eqn.\n",
      " Solving:  Stress period:     3    Time step:   152    Ground-Water Flow Eqn.\n",
      " Solving:  Stress period:     3    Time step:   153    Ground-Water Flow Eqn.\n",
      " Solving:  Stress period:     3    Time step:   154    Ground-Water Flow Eqn.\n",
      " Solving:  Stress period:     3    Time step:   155    Ground-Water Flow Eqn.\n",
      " Solving:  Stress period:     3    Time step:   156    Ground-Water Flow Eqn.\n",
      " Solving:  Stress period:     3    Time step:   157    Ground-Water Flow Eqn.\n",
      " Solving:  Stress period:     3    Time step:   158    Ground-Water Flow Eqn.\n",
      " Solving:  Stress period:     3    Time step:   159    Ground-Water Flow Eqn.\n",
      " Solving:  Stress period:     3    Time step:   160    Ground-Water Flow Eqn.\n",
      " Solving:  Stress period:     3    Time step:   161    Ground-Water Flow Eqn.\n",
      " Solving:  Stress period:     3    Time step:   162    Ground-Water Flow Eqn.\n",
      " Solving:  Stress period:     3    Time step:   163    Ground-Water Flow Eqn.\n"
     ]
    },
    {
     "name": "stdout",
     "output_type": "stream",
     "text": [
      " Solving:  Stress period:     3    Time step:   164    Ground-Water Flow Eqn.\n",
      " Solving:  Stress period:     3    Time step:   165    Ground-Water Flow Eqn.\n",
      " Solving:  Stress period:     3    Time step:   166    Ground-Water Flow Eqn.\n",
      " Solving:  Stress period:     3    Time step:   167    Ground-Water Flow Eqn.\n",
      " Solving:  Stress period:     3    Time step:   168    Ground-Water Flow Eqn.\n",
      " Solving:  Stress period:     3    Time step:   169    Ground-Water Flow Eqn.\n",
      " Solving:  Stress period:     3    Time step:   170    Ground-Water Flow Eqn.\n",
      " Solving:  Stress period:     3    Time step:   171    Ground-Water Flow Eqn.\n",
      " Solving:  Stress period:     3    Time step:   172    Ground-Water Flow Eqn.\n",
      " Solving:  Stress period:     3    Time step:   173    Ground-Water Flow Eqn.\n",
      " Solving:  Stress period:     3    Time step:   174    Ground-Water Flow Eqn.\n",
      " Solving:  Stress period:     3    Time step:   175    Ground-Water Flow Eqn.\n",
      " Solving:  Stress period:     3    Time step:   176    Ground-Water Flow Eqn.\n",
      " Solving:  Stress period:     3    Time step:   177    Ground-Water Flow Eqn.\n",
      " Solving:  Stress period:     3    Time step:   178    Ground-Water Flow Eqn.\n",
      " Solving:  Stress period:     3    Time step:   179    Ground-Water Flow Eqn.\n",
      " Solving:  Stress period:     3    Time step:   180    Ground-Water Flow Eqn.\n",
      " Run end date and time (yyyy/mm/dd hh:mm:ss): 2017/12/09 20:32:42\n",
      " Elapsed run time:  1 Minutes, 52.146 Seconds\n",
      "\n",
      "  Normal termination of simulation\n",
      "(True, [])\n"
     ]
    }
   ],
   "source": [
    "start_time = timeit.default_timer()\n",
    "print(ml.run_model())\n",
    "elapsed = timeit.default_timer() - start_time"
   ]
  },
  {
   "cell_type": "code",
   "execution_count": 117,
   "metadata": {},
   "outputs": [
    {
     "name": "stdout",
     "output_type": "stream",
     "text": [
      "112.35425257699899\n"
     ]
    }
   ],
   "source": [
    "print(elapsed)"
   ]
  },
  {
   "cell_type": "markdown",
   "metadata": {},
   "source": [
    "Create the model with the saltwater well (Simulation 2)"
   ]
  },
  {
   "cell_type": "code",
   "execution_count": 118,
   "metadata": {
    "collapsed": true
   },
   "outputs": [],
   "source": [
    "# modelname2 = 'swiex4_s2'\n",
    "# ml2 = flopy.modflow.Modflow(modelname2, version='mf2005', exe_name=exe_name, model_ws=workspace)\n",
    "\n",
    "# discret = flopy.modflow.ModflowDis(ml2, nlay=nlay, nrow=nrow, ncol=ncol, laycbd=0,\n",
    "#                                    delr=delr, delc=delc, top=botm[0], botm=botm[1:],\n",
    "#                                    nper=nper, perlen=perlen, nstp=nstp)\n",
    "# bas = flopy.modflow.ModflowBas(ml2, ibound=ibound, strt=ihead)\n",
    "# lpf = flopy.modflow.ModflowLpf(ml2, laytyp=laytyp, hk=hk, vka=vka)\n",
    "# wel = flopy.modflow.ModflowWel(ml2, stress_period_data=swwells_well_data)\n",
    "# ghb = flopy.modflow.ModflowGhb(ml2, stress_period_data=ghb_data)\n",
    "# rch = flopy.modflow.ModflowRch(ml2, rech=rch_data)\n",
    "# swi = flopy.modflow.ModflowSwi2(ml2, nsrf=1, istrat=1, \n",
    "#                                 toeslope=toeslope, tipslope=tipslope, nu=nu,\n",
    "#                                 zeta=z, ssz=ssz, isource=iso, nsolver=1,\n",
    "#                                 nadptmx=nadptmx, nadptmn=nadptmn,\n",
    "#                                 nobs=nobs, iswiobs=iswiobs, obsnam=obsnam, obslrc=obslrc, iswizt=55)\n",
    "# oc = flopy.modflow.ModflowOc(ml2, stress_period_data=spd)\n",
    "# pcg = flopy.modflow.ModflowPcg(ml2, hclose=1.0e-6, rclose=3.0e-3, mxiter=100, iter1=50)"
   ]
  },
  {
   "cell_type": "markdown",
   "metadata": {},
   "source": [
    "Write the simulation 2 MODFLOW input files and run the model"
   ]
  },
  {
   "cell_type": "code",
   "execution_count": 119,
   "metadata": {
    "collapsed": true
   },
   "outputs": [],
   "source": [
    "# ml2.write_input()\n",
    "# ml2.run_model(silent=True)"
   ]
  },
  {
   "cell_type": "markdown",
   "metadata": {},
   "source": [
    "Load the simulation 1 `ZETA` data and `ZETA` observations."
   ]
  },
  {
   "cell_type": "code",
   "execution_count": 120,
   "metadata": {
    "collapsed": true
   },
   "outputs": [],
   "source": [
    "# read base model zeta\n",
    "zfile = flopy.utils.CellBudgetFile(os.path.join(ml.model_ws, modelname+'.zta'))\n",
    "kstpkper = zfile.get_kstpkper()\n",
    "zeta = []\n",
    "for kk in kstpkper:\n",
    "    zeta.append(zfile.get_data(kstpkper=kk, text='ZETASRF  1')[0])\n",
    "zeta = np.array(zeta)\n",
    "# read swi obs\n",
    "zobs = np.genfromtxt(os.path.join(ml.model_ws, modelname+'.zobs.out'), names=True)"
   ]
  },
  {
   "cell_type": "markdown",
   "metadata": {},
   "source": [
    "Load the simulation 2 `ZETA` data and `ZETA` observations."
   ]
  },
  {
   "cell_type": "code",
   "execution_count": 121,
   "metadata": {
    "collapsed": true
   },
   "outputs": [],
   "source": [
    "# # read saltwater well model zeta\n",
    "# zfile2 = flopy.utils.CellBudgetFile(os.path.join(ml2.model_ws, modelname2+'.zta'))\n",
    "# kstpkper = zfile2.get_kstpkper()\n",
    "# zeta2 = []\n",
    "# for kk in kstpkper:\n",
    "#     zeta2.append(zfile2.get_data(kstpkper=kk, text='ZETASRF  1')[0])\n",
    "# zeta2 = np.array(zeta2)\n",
    "# # read swi obs\n",
    "# zobs2 = np.genfromtxt(os.path.join(ml2.model_ws, modelname2+'.zobs.out'), names=True)"
   ]
  },
  {
   "cell_type": "markdown",
   "metadata": {},
   "source": [
    "Create arrays for the x-coordinates and the output years"
   ]
  },
  {
   "cell_type": "code",
   "execution_count": 122,
   "metadata": {
    "collapsed": true
   },
   "outputs": [],
   "source": [
    "x = np.linspace(-1250, 1250, 100)\n",
    "xcell = np.linspace(-1250, 1250, 100) + delr / 2.\n",
    "xedge = np.linspace(-1225, 1225, 101)\n",
    "years = [40, 80, 120, 160, 200, 6, 12, 18, 24, 30]"
   ]
  },
  {
   "cell_type": "markdown",
   "metadata": {},
   "source": [
    "Define figure dimensions and colors used for plotting `ZETA` surfaces"
   ]
  },
  {
   "cell_type": "code",
   "execution_count": 123,
   "metadata": {
    "collapsed": true
   },
   "outputs": [],
   "source": [
    "# figure dimensions\n",
    "fwid, fhgt = 8.00, 5.50\n",
    "flft, frgt, fbot, ftop = 0.125, 0.95, 0.125, 0.925\n",
    "\n",
    "# line color definition\n",
    "icolor = 5\n",
    "colormap = plt.cm.jet  #winter\n",
    "cc = []\n",
    "cr = np.linspace(0.9, 0.0, icolor)\n",
    "for idx in cr:\n",
    "    cc.append(colormap(idx))"
   ]
  },
  {
   "cell_type": "code",
   "execution_count": 124,
   "metadata": {},
   "outputs": [
    {
     "data": {
      "text/plain": [
       "(-220, 10)"
      ]
     },
     "execution_count": 124,
     "metadata": {},
     "output_type": "execute_result"
    },
    {
     "data": {
      "image/png": "[encoded data removed]",
      "text/plain": [
       "<matplotlib.figure.Figure at 0x7f3d948822b0>"
      ]
     },
     "metadata": {
      "image/png": {
       "height": 209,
       "width": 731
      }
     },
     "output_type": "display_data"
    }
   ],
   "source": [
    "fig = plt.figure(figsize=(12, 3))\n",
    "ax = fig.add_subplot(1, 1, 1)\n",
    "\n",
    "# Next we create an instance of the ModelCrossSection class\n",
    "modelxsect = flopy.plot.ModelCrossSection(model=ml, line={'Column': 50})\n",
    "\n",
    "# Then we can use the plot_grid() method to draw the grid\n",
    "# The return value for this function is a matplotlib LineCollection object,\n",
    "# which could be manipulated (or used) later if necessary.\n",
    "linecollection = modelxsect.plot_grid()\n",
    "t = ax.set_title('Column 6 Cross-Section - Model Grid')\n",
    "ax.set_ylim(-220,10)"
   ]
  },
  {
   "cell_type": "markdown",
   "metadata": {},
   "source": []
  },
  {
   "cell_type": "code",
   "execution_count": null,
   "metadata": {},
   "outputs": [],
   "source": [
    "fname = os.path.join('./data/swifogland_s1.hds')\n",
    "hdobj = flopy.utils.HeadFile(fname)\n",
    "head = hdobj.get_data()\n",
    "levels = np.arange(10, 800000,50000)\n",
    "\n",
    "fig = plt.figure(figsize=(20, 20))\n",
    "\n",
    "ax = fig.add_subplot(2, 1, 1, aspect='equal')\n",
    "ax.set_title('plot_array()')\n",
    "modelmap = flopy.plot.ModelMap(model=ml)\n",
    "quadmesh = modelmap.plot_ibound()\n",
    "quadmesh = modelmap.plot_array(head, masked_values=[999.], alpha=0.5)\n",
    "#modelmap.plot_bc(\"GHB\")\n",
    "linecollection = modelmap.plot_grid()\n",
    "cb = fig.colorbar(quadmesh, ax = ax)\n",
    "\n",
    "ax = fig.add_subplot(2, 1, 2, aspect='equal')\n",
    "ax.set_title('contour_array()')\n",
    "modelmap = flopy.plot.ModelMap(model=ml)\n",
    "quadmesh = modelmap.plot_ibound()\n",
    "#modelmap.plot_bc(\"WEL\")\n",
    "contour_set = modelmap.contour_array(head, masked_values=[999.], levels=levels)\n",
    "linecollection = modelmap.plot_grid()"
   ]
  },
  {
   "cell_type": "code",
   "execution_count": 73,
   "metadata": {},
   "outputs": [
    {
     "data": {
      "text/plain": [
       "array([[[ -9.99989990e+02,   3.73409927e-01,   3.75752538e-01, ...,\n",
       "           2.19856445e-02,   7.58297462e-03,  -9.99989990e+02],\n",
       "        [  3.91886801e-01,   3.92800808e-01,   3.94349456e-01, ...,\n",
       "           8.92424490e-03,   3.78678465e-04,  -5.87362275e-02],\n",
       "        [  4.12032694e-01,   4.11877036e-01,   4.12589878e-01, ...,\n",
       "           3.81276739e-04,  -5.17800152e-02,  -8.91479626e-02],\n",
       "        ..., \n",
       "        [  9.20338571e-01,   9.18981910e-01,   9.16979253e-01, ...,\n",
       "           5.36004424e-01,   3.21220508e+04,   5.13478984e+04],\n",
       "        [  9.13572013e-01,   9.11820769e-01,   9.09535646e-01, ...,\n",
       "           3.41872573e-01,   5.27978480e-01,   3.30051953e+04],\n",
       "        [ -9.99989990e+02,   9.03618276e-01,   9.00982559e-01, ...,\n",
       "           3.41369748e-01,   3.42005640e-01,  -9.99989990e+02]],\n",
       "\n",
       "       [[ -9.99989990e+02,   1.41950938e+04,   1.42309883e+04, ...,\n",
       "           9.50625586e+03,   9.47158203e+03,  -9.99989990e+02],\n",
       "        [  1.42019170e+04,   1.42157031e+04,   1.42568486e+04, ...,\n",
       "           9.51565332e+03,   9.47460938e+03,   9.45472852e+03],\n",
       "        [  1.42446602e+04,   1.42655391e+04,   1.43114180e+04, ...,\n",
       "           9.53835254e+03,   9.49418652e+03,   9.47248145e+03],\n",
       "        ..., \n",
       "        [  1.86661855e+04,   1.86987500e+04,   1.87679531e+04, ...,\n",
       "           3.51939414e+04,   3.56340391e+04,   3.59290117e+04],\n",
       "        [  1.86171348e+04,   1.86421895e+04,   1.87050195e+04, ...,\n",
       "           3.47531602e+04,   3.51290547e+04,   3.55240312e+04],\n",
       "        [ -9.99989990e+02,   1.86220547e+04,   1.86760469e+04, ...,\n",
       "           3.44978711e+04,   3.47443281e+04,  -9.99989990e+02]]], dtype=float32)"
      ]
     },
     "execution_count": 73,
     "metadata": {},
     "output_type": "execute_result"
    }
   ],
   "source": [
    "levels\n",
    "head"
   ]
  },
  {
   "cell_type": "markdown",
   "metadata": {},
   "source": [
    "Recreate **Figure 9** from the [SWI2 documentation](http://pubs.usgs.gov/tm/6a46/).  \n",
    "\n",
    "A cross section showing results along the centerline of the island through the wells is shown in figure 9. The position of the interface is shown at 40-year increments for stress period 1, during development of the freshwater lens (fig. 9A). After 200 years, the interface approaches the steady-state position. The position of the interface for simulation 1 is shown at 6-year increments in figure 9B. In simulation 1, the interface\n",
    "moves into the upper layer after approximately 14 years. The position of the interface for simulation 2 is shown at 6-year increments in figure 9C. During the first 12 years of groundwater withdrawals, the position of the interface is identical for simulations 1 and 2. After 12 years, the saltwater well begins pumping saltwater from the lower aquifer (model layer 2) and the progression of the upconing of the interface is reduced. The position of the interface in the aquifer over time is shown for simulations 1 and 2 in the cells containing the freshwater and saltwater wells (row 31, column 36) in figure 9D. Simulation results are identical during the first 12 years, because groundwater withdrawals are the same in both simulations. Addition of the saltwater well causes an initial decrease in the interface elevation and an eventual increase in the interface elevation, although the rate of upward movement of the interface is less in the simulation with both the freshwater and\n",
    "saltwater wells than the simulation with only the freshwater well."
   ]
  },
  {
   "cell_type": "code",
   "execution_count": 74,
   "metadata": {},
   "outputs": [
    {
     "data": {
      "text/plain": [
       "<matplotlib.text.Text at 0x7f3d94103550>"
      ]
     },
     "execution_count": 74,
     "metadata": {},
     "output_type": "execute_result"
    },
    {
     "data": {
      "image/png": "[encoded data removed]",
      "text/plain": [
       "<matplotlib.figure.Figure at 0x7f3d961436a0>"
      ]
     },
     "metadata": {
      "image/png": {
       "height": 1211,
       "width": 1252
      }
     },
     "output_type": "display_data"
    }
   ],
   "source": [
    "plt.rcParams.update({'legend.fontsize': 8, 'legend.frameon' : False})\n",
    "#fig = plt.figure(figsize=(fwid, fhgt), facecolor='w')\n",
    "fig = plt.figure(figsize=(20, 20), facecolor='w')\n",
    "fig.subplots_adjust(wspace=0.25, hspace=0.25, left=flft, right=frgt, bottom=fbot, top=ftop)\n",
    "# first plot\n",
    "ax = fig.add_subplot(1,1,1)\n",
    "# axes limits\n",
    "#ax.set_xlim(-1500, 1500)\n",
    "ax.set_ylim(-220, 10)\n",
    "for idx in range(5):\n",
    "    # layer 1\n",
    "    ax.plot(xcell, zeta[idx, 0, 60, :], drawstyle='steps-mid', \n",
    "            linewidth=0.5, color=cc[idx], label='{:2d} years'.format(years[idx]))\n",
    "    # layer 2\n",
    "    ax.plot(xcell, zeta[idx, 1, 60, :], drawstyle='steps-mid',\n",
    "            linewidth=0.5, color=cc[idx], label='_None')\n",
    "ax.plot([-1500, 1500], [-43, -43], color='k', linewidth=1.0)\n",
    "# legend\n",
    "plt.legend(loc='lower left')\n",
    "# axes labels and text\n",
    "ax.set_xlabel('Horizontal distance, in feet')\n",
    "ax.set_ylabel('Elevation, in feet')\n",
    "ax.text(0.025, .75, 'Layer 1', transform=ax.transAxes, va='top', ha='left', size='7')\n",
    "ax.text(0.025, .45, 'Layer 2', transform=ax.transAxes, va='top', ha='left', size='7')\n",
    "\n",
    "ax.text(0.975, .1, 'Recharge conditions', transform=ax.transAxes, va='center', ha='right', size='8')\n",
    "ax.set_title('Fogland Point, Recharge conditions')"
   ]
  },
  {
   "cell_type": "code",
   "execution_count": 75,
   "metadata": {},
   "outputs": [
    {
     "data": {
      "text/plain": [
       "<matplotlib.text.Text at 0x7f3d98b6eb70>"
      ]
     },
     "execution_count": 75,
     "metadata": {},
     "output_type": "execute_result"
    },
    {
     "data": {
      "image/png": "[encoded data removed]",
      "text/plain": [
       "<matplotlib.figure.Figure at 0x7f3d948709e8>"
      ]
     },
     "metadata": {
      "image/png": {
       "height": 302,
       "width": 1252
      }
     },
     "output_type": "display_data"
    }
   ],
   "source": [
    "plt.rcParams.update({'legend.fontsize': 6, 'legend.frameon' : False})\n",
    "#fig = plt.figure(figsize=(fwid, fhgt), facecolor='w')\n",
    "fig = plt.figure(figsize=(20, 10), facecolor='w')\n",
    "fig.subplots_adjust(wspace=0.25, hspace=0.25, left=flft, right=frgt, bottom=fbot, top=ftop)\n",
    "fig\n",
    "# first plot\n",
    "ax = fig.add_subplot(2, 2, 1)\n",
    "# axes limits\n",
    "#ax.set_xlim(-1500, 1500)\n",
    "#ax.set_ylim(-50, -10)\n",
    "for idx in range(5):\n",
    "    # layer 1\n",
    "    ax.plot(xcell, zeta[idx, 0, 30, :], drawstyle='steps-mid', \n",
    "            linewidth=0.5, color=cc[idx], label='{:2d} years'.format(years[idx]))\n",
    "    # layer 2\n",
    "    ax.plot(xcell, zeta[idx, 1, 30, :], drawstyle='steps-mid',\n",
    "            linewidth=0.5, color=cc[idx], label='_None')\n",
    "ax.plot([-1500, 1500], [-43, -43], color='k', linewidth=1.0)\n",
    "# legend\n",
    "plt.legend(loc='lower left')\n",
    "# axes labels and text\n",
    "ax.set_xlabel('Horizontal distance, in meters')\n",
    "ax.set_ylabel('Elevation, in meters')\n",
    "ax.text(0.025, .75, 'Layer 1', transform=ax.transAxes, va='center', ha='left', size='7')\n",
    "ax.text(0.025, .45, 'Layer 2', transform=ax.transAxes, va='center', ha='left', size='7')\n",
    "ax.text(0.975, .1, 'Recharge conditions', transform=ax.transAxes, va='center', ha='right', size='8')\n",
    "\n",
    "# second plot\n",
    "ax = fig.add_subplot(2, 2, 2)\n",
    "# axes limits\n",
    "#ax.set_xlim(-1500, 1500)\n",
    "#ax.set_ylim(-50, -10)\n",
    "for idx in range(5, len(years)):\n",
    "    # layer 1\n",
    "    ax.plot(xcell, zeta[idx, 0, 30, :], drawstyle='steps-mid', \n",
    "            linewidth=0.5, color=cc[idx-5], label='{:2d} years'.format(years[idx]))\n",
    "    # layer 2\n",
    "    ax.plot(xcell, zeta[idx, 1, 30, :], drawstyle='steps-mid',\n",
    "            linewidth=0.5, color=cc[idx-5], label='_None')\n",
    "ax.plot([-1500, 1500], [-43, -43], color='k', linewidth=1.0)\n",
    "# legend\n",
    "plt.legend(loc='lower left')\n",
    "# axes labels and text\n",
    "ax.set_xlabel('Horizontal distance, in meters')\n",
    "ax.set_ylabel('Elevation, in meters')\n",
    "ax.text(0.025, .75, 'Layer 1', transform=ax.transAxes, va='center', ha='left', size='7')\n",
    "ax.text(0.025, .45, 'Layer 2', transform=ax.transAxes, va='center', ha='left', size='7')\n",
    "ax.text(0.975, .1, 'Freshwater well withdrawal', transform=ax.transAxes, va='center', ha='right', size='8')\n",
    "\n",
    "# # third plot\n",
    "# ax = fig.add_subplot(2, 2, 3)\n",
    "# # axes limits\n",
    "# ax.set_xlim(-1500, 1500)\n",
    "# ax.set_ylim(-50, -10)\n",
    "# for idx in range(5, len(years)):\n",
    "#     # layer 1\n",
    "#     ax.plot(xcell, zeta2[idx, 0, 30, :], drawstyle='steps-mid', \n",
    "#             linewidth=0.5, color=cc[idx-5], label='{:2d} years'.format(years[idx]))\n",
    "#     # layer 2\n",
    "#     ax.plot(xcell, zeta2[idx, 1, 30, :], drawstyle='steps-mid',\n",
    "#             linewidth=0.5, color=cc[idx-5], label='_None')\n",
    "# ax.plot([-1500, 1500], [-30, -30], color='k', linewidth=1.0)\n",
    "# # legend\n",
    "# plt.legend(loc='lower left')\n",
    "# # axes labels and text\n",
    "# ax.set_xlabel('Horizontal distance, in meters')\n",
    "# ax.set_ylabel('Elevation, in meters')\n",
    "# ax.text(0.025, .55, 'Layer 1', transform=ax.transAxes, va='center', ha='left', size='7')\n",
    "# ax.text(0.025, .45, 'Layer 2', transform=ax.transAxes, va='center', ha='left', size='7')\n",
    "# ax.text(0.975, .1, 'Freshwater and saltwater\\nwell withdrawals', transform=ax.transAxes,\n",
    "#         va='center', ha='right', size='8')\n",
    "\n",
    "# # fourth plot\n",
    "# ax = fig.add_subplot(2, 2, 4)\n",
    "# # axes limits\n",
    "# ax.set_xlim(0, 30)\n",
    "# ax.set_ylim(-50, -10)\n",
    "# t = zobs['TOTIM'][999:] / 365 - 200.\n",
    "# tz2 = zobs['layer1_001'][999:]\n",
    "# tz3 = zobs2['layer1_001'][999:]\n",
    "# for i in range(len(t)):\n",
    "#     if zobs['layer2_001'][i+999] < -30. - 0.1:\n",
    "#         tz2[i] = zobs['layer2_001'][i+999]\n",
    "#     if zobs2['layer2_001'][i+999] < 20. - 0.1:\n",
    "#         tz3[i] = zobs2['layer2_001'][i+999]\n",
    "# ax.plot(t, tz2, linestyle='solid', color='r', linewidth=0.75, label='Freshwater well')\n",
    "# ax.plot(t, tz3, linestyle='dotted', color='r', linewidth=0.75, label='Freshwater and saltwater well')\n",
    "# ax.plot([0, 30], [-30, -30], 'k', linewidth=1.0, label='_None')\n",
    "# # legend\n",
    "# leg = plt.legend(loc='lower right', numpoints=1)\n",
    "# # axes labels and text\n",
    "# ax.set_xlabel('Time, in years')\n",
    "# ax.set_ylabel('Elevation, in meters')\n",
    "# ax.text(0.025, .55, 'Layer 1', transform=ax.transAxes, va='center', ha='left', size='7')\n",
    "# ax.text(0.025, .45, 'Layer 2', transform=ax.transAxes, va='center', ha='left', size='7');\n"
   ]
  },
  {
   "cell_type": "code",
   "execution_count": 76,
   "metadata": {},
   "outputs": [
    {
     "data": {
      "text/plain": [
       "<matplotlib.text.Text at 0x7f3d9475ce10>"
      ]
     },
     "execution_count": 76,
     "metadata": {},
     "output_type": "execute_result"
    },
    {
     "data": {
      "image/png": "[encoded data removed]",
      "text/plain": [
       "<matplotlib.figure.Figure at 0x7f3d948c8be0>"
      ]
     },
     "metadata": {
      "image/png": {
       "height": 622,
       "width": 1252
      }
     },
     "output_type": "display_data"
    }
   ],
   "source": [
    "plt.rcParams.update({'legend.fontsize': 6, 'legend.frameon' : False})\n",
    "#fig = plt.figure(figsize=(fwid, fhgt), facecolor='w')\n",
    "fig = plt.figure(figsize=(20, 10), facecolor='w')\n",
    "fig.subplots_adjust(wspace=0.25, hspace=0.25, left=flft, right=frgt, bottom=fbot, top=ftop)\n",
    "\n",
    "# second plot\n",
    "ax = fig.add_subplot(1, 1, 1)\n",
    "# axes limits\n",
    "#ax.set_xlim(-1500, 1500)\n",
    "#ax.set_ylim(-50, -10)\n",
    "for idx in range(5, len(years)):\n",
    "    # layer 1\n",
    "    ax.plot(xcell, zeta[idx, 0, 30, :], drawstyle='steps-mid', \n",
    "            linewidth=0.5, color=cc[idx-5], label='{:2d} years'.format(years[idx]))\n",
    "    # layer 2\n",
    "    ax.plot(xcell, zeta[idx, 1, 30, :], drawstyle='steps-mid',\n",
    "            linewidth=0.5, color=cc[idx-5], label='_None')\n",
    "ax.plot([-1500, 1500], [-43, -43], color='k', linewidth=1.0)\n",
    "# legend\n",
    "plt.legend(loc='lower left')\n",
    "# axes labels and text\n",
    "ax.set_xlabel('Horizontal distance, in meters')\n",
    "ax.set_ylabel('Elevation, in meters')\n",
    "ax.text(0.025, .75, 'Layer 1', transform=ax.transAxes, va='center', ha='left', size='7')\n",
    "ax.text(0.025, .45, 'Layer 2', transform=ax.transAxes, va='center', ha='left', size='7')\n",
    "ax.text(0.975, .1, 'Freshwater well withdrawal', transform=ax.transAxes, va='center', ha='right', size='8')\n",
    "\n",
    "# # third plot\n",
    "# ax = fig.add_subplot(2, 2, 3)\n",
    "# # axes limits\n",
    "# ax.set_xlim(-1500, 1500)\n",
    "# ax.set_ylim(-50, -10)\n",
    "# for idx in range(5, len(years)):\n",
    "#     # layer 1\n",
    "#     ax.plot(xcell, zeta2[idx, 0, 30, :], drawstyle='steps-mid', \n",
    "#             linewidth=0.5, color=cc[idx-5], label='{:2d} years'.format(years[idx]))\n",
    "#     # layer 2\n",
    "#     ax.plot(xcell, zeta2[idx, 1, 30, :], drawstyle='steps-mid',\n",
    "#             linewidth=0.5, color=cc[idx-5], label='_None')\n",
    "# ax.plot([-1500, 1500], [-30, -30], color='k', linewidth=1.0)\n",
    "# # legend\n",
    "# plt.legend(loc='lower left')\n",
    "# # axes labels and text\n",
    "# ax.set_xlabel('Horizontal distance, in meters')\n",
    "# ax.set_ylabel('Elevation, in meters')\n",
    "# ax.text(0.025, .55, 'Layer 1', transform=ax.transAxes, va='center', ha='left', size='7')\n",
    "# ax.text(0.025, .45, 'Layer 2', transform=ax.transAxes, va='center', ha='left', size='7')\n",
    "# ax.text(0.975, .1, 'Freshwater and saltwater\\nwell withdrawals', transform=ax.transAxes,\n",
    "#         va='center', ha='right', size='8')\n",
    "\n",
    "# # fourth plot\n",
    "# ax = fig.add_subplot(2, 2, 4)\n",
    "# # axes limits\n",
    "# ax.set_xlim(0, 30)\n",
    "# ax.set_ylim(-50, -10)\n",
    "# t = zobs['TOTIM'][999:] / 365 - 200.\n",
    "# tz2 = zobs['layer1_001'][999:]\n",
    "# tz3 = zobs2['layer1_001'][999:]\n",
    "# for i in range(len(t)):\n",
    "#     if zobs['layer2_001'][i+999] < -30. - 0.1:\n",
    "#         tz2[i] = zobs['layer2_001'][i+999]\n",
    "#     if zobs2['layer2_001'][i+999] < 20. - 0.1:\n",
    "#         tz3[i] = zobs2['layer2_001'][i+999]\n",
    "# ax.plot(t, tz2, linestyle='solid', color='r', linewidth=0.75, label='Freshwater well')\n",
    "# ax.plot(t, tz3, linestyle='dotted', color='r', linewidth=0.75, label='Freshwater and saltwater well')\n",
    "# ax.plot([0, 30], [-30, -30], 'k', linewidth=1.0, label='_None')\n",
    "# # legend\n",
    "# leg = plt.legend(loc='lower right', numpoints=1)\n",
    "# # axes labels and text\n",
    "# ax.set_xlabel('Time, in years')\n",
    "# ax.set_ylabel('Elevation, in meters')\n",
    "# ax.text(0.025, .55, 'Layer 1', transform=ax.transAxes, va='center', ha='left', size='7')\n",
    "# ax.text(0.025, .45, 'Layer 2', transform=ax.transAxes, va='center', ha='left', size='7');\n"
   ]
  },
  {
   "cell_type": "markdown",
   "metadata": {},
   "source": [
    "Use `ModelCrossSection` plotting class and `plot_fill_between()` method to fill between zeta surfaces."
   ]
  },
  {
   "cell_type": "code",
   "execution_count": null,
   "metadata": {},
   "outputs": [],
   "source": [
    "fig = plt.figure(figsize=(fwid, fhgt/2))\n",
    "fig.subplots_adjust(wspace=0.25, hspace=0.25, left=flft, right=frgt, bottom=fbot, top=ftop)\n",
    "\n",
    "colors = ['#40d3f7', '#F76541']\n",
    "\n",
    "ax = fig.add_subplot(1, 2, 1)\n",
    "modelxsect = flopy.plot.ModelCrossSection(model=ml, line={'Row': 30})\n",
    "#, \n",
    "#                                          extent=(0, 3050, -50, -10))\n",
    "modelxsect.plot_fill_between(zeta[4, :, :, :], colors=colors, ax=ax,\n",
    "                              edgecolors='none')\n",
    "linecollection = modelxsect.plot_grid(ax=ax)\n",
    "ax.set_title('Recharge year {}'.format(years[4]));\n",
    "\n",
    "ax = fig.add_subplot(1, 2, 2)\n",
    "#ax.set_xlim(0, 3050)\n",
    "#ax.set_ylim(-50, -10)\n",
    "modelxsect.plot_fill_between(zeta[-1, :, :, :], colors=colors, ax=ax)\n",
    "linecollection = modelxsect.plot_grid(ax=ax)\n",
    "ax.set_title('Scenario year {}'.format(years[-1]));"
   ]
  },
  {
   "cell_type": "code",
   "execution_count": null,
   "metadata": {
    "collapsed": true
   },
   "outputs": [],
   "source": []
  }
 ],
 "metadata": {
  "anaconda-cloud": {},
  "celltoolbar": "Raw Cell Format",
  "kernelspec": {
   "display_name": "Python [default]",
   "language": "python",
   "name": "python3"
  },
  "language_info": {
   "codemirror_mode": {
    "name": "ipython",
    "version": 3
   },
   "file_extension": ".py",
   "mimetype": "text/x-python",
   "name": "python",
   "nbconvert_exporter": "python",
   "pygments_lexer": "ipython3",
   "version": "3.6.2"
  }
 },
 "nbformat": 4,
 "nbformat_minor": 1
}
