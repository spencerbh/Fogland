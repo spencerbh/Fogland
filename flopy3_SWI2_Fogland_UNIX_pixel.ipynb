{
 "cells": [
  {
   "cell_type": "markdown",
   "metadata": {},
   "source": [
    "## This notebook has been tested in an ubuntu-xenial based linux distro only\n",
    "Changes to the notebook are limited to executable-import related code\n",
    "\n",
    "-Spencer Harris  \n",
    "-spharris@sas.upenn.edu"
   ]
  },
  {
   "cell_type": "markdown",
   "metadata": {},
   "source": [
    "# FloPy\n",
    "\n",
    "### SWI2 Example 4. Upconing Below a Pumping Well in a Two-Aquifer Island System\n",
    "\n",
    "This example problem is the fourth example problem in the SWI2 documentation (http://pubs.usgs.gov/tm/6a46/) and simulates transient movement of the freshwater-seawater interface beneath an island in response to recharge and groundwater withdrawals. The island is ~~2,050$\\times$2,050 m~~ 3,050$\\times$3,050 m and consists of two 20-m thick aquifers that extend below sea level. The aquifers are confined, storage changes are not considered (all MODFLOW stress periods are steady-state), and the top and bottom of each aquifer is horizontal. The top of the upper aquifer and the bottom of the lower aquifer are impermeable.\n",
    "\n",
    "The domain is discretized into 61 columns, 61 rows, and 2 layers, with respective cell dimensions of 50 m (`DELR`), 50 m (`DELC`), and 20 m. A total of 230 years is simulated using three stress periods with lengths of 200, 12, and 18 years, with constant time steps of 0.2, 0.1, and 0.1 years, respectively. \n",
    "\n",
    "The horizontal and vertical hydraulic conductivity of both aquifers are 10 m/d and 0.2 m/d, respectively. The effective porosity is 0.2 for both aquifers. The model is extended 500 m offshore along all sides and the ocean boundary is represented as a general head boundary condition (GHB) in model layer 1. A freshwater head of 0 m is specified at the ocean bottom in all general head boundaries. The GHB conductance that controls outflow from the aquifer into the ocean is 62.5 m$^{2}$/d and corresponds to a leakance of 0.025 d$^{-1}$ (or a resistance of 40 days).\n",
    "\n",
    "The groundwater is divided into a freshwater zone and a seawater zone, separated by an active ZETA surface between the zones (`NSRF=1`) that approximates the 50-percent seawater salinity contour. Fluid density is represented using the stratified density option (`ISTRAT=1`). The dimensionless density difference ($\\nu$) between freshwater and saltwater is 0.025. The tip and toe tracking parameters are a `TOESLOPE` and `TIPSLOPE` of 0.005, a default `ALPHA` of 0.1, and a default `BETA` of 0.1. Initially, the interface between freshwater and saltwater is 1 m below land surface on the island and at the top of the upper aquifer offshore. The SWI2 `ISOURCE` parameter is set to -2 in cells having GHBs so that water that infiltrates into the aquifer from the GHB cells is saltwater (zone 2), whereas water that flows out of the model at the GHB cells is identical to water at the top of the aquifer. `ISOURCE` in layer 2, row 31, column 36 is set to 2 so that a saltwater well may be simulated in the third stress period of simulation 2. In all other cells, the SWI2 `ISOURCE` parameter is set to 0, indicating boundary conditions have water that is identical to water at the top of the aquifer and can be either freshwater or saltwater, depending on the elevation of the active `ZETA` surface in the cell.\n",
    "\n",
    "A constant recharge rate of 0.4 millimeters per day (mm/d) is used in all three stress periods. The development of the freshwater lens is simulated for 200 years, after which a pumping well having a withdrawal rate of 250 m$^3$/d is started in layer 1, row 31, column 36. For the first simulation (simulation 1), the well pumps for 30 years, after which the interface almost reaches the top of the upper aquifer layer. In the second simulation (simulation 2), an additional well withdrawing\n",
    "saltwater at a rate of 25 m$^3$/d is simulated below the freshwater well in layer 2 , row 31, column 36, 12 years after the freshwater groundwater withdrawal begins in the well in layer 1. The saltwater well is intended to prevent the interface from\n",
    "upconing into the upper aquifer (model layer)."
   ]
  },
  {
   "cell_type": "markdown",
   "metadata": {},
   "source": [
    "Import `numpy` and `matplotlib`, set all figures to be inline, import `flopy.modflow` and `flopy.utils`."
   ]
  },
  {
   "cell_type": "code",
   "execution_count": 5,
   "metadata": {},
   "outputs": [
    {
     "name": "stdout",
     "output_type": "stream",
     "text": [
      "3.6.2 |Continuum Analytics, Inc.| (default, Jul 20 2017, 13:51:32) \n",
      "[GCC 4.4.7 20120313 (Red Hat 4.4.7-1)]\n",
      "numpy version: 1.13.1\n",
      "matplotlib version: 2.0.2\n",
      "flopy version: 3.2.6\n",
      "operating system: Linux\n"
     ]
    }
   ],
   "source": [
    "%matplotlib inline\n",
    "import sys\n",
    "import os\n",
    "import platform\n",
    "import shutil\n",
    "import numpy as np\n",
    "import matplotlib as mpl\n",
    "import matplotlib.pyplot as plt\n",
    "\n",
    "\n",
    "# run installed version of flopy or add local path\n",
    "try:\n",
    "    import flopy\n",
    "except:\n",
    "    fpth = os.path.abspath(os.path.join('..', '..'))\n",
    "    sys.path.append(fpth)\n",
    "    import flopy\n",
    "\n",
    "\n",
    "from flopy.utils.reference import SpatialReference\n",
    "import flopy.utils.binaryfile as bf\n",
    "\n",
    "\n",
    "print(sys.version)\n",
    "print('numpy version: {}'.format(np.__version__))\n",
    "print('matplotlib version: {}'.format(mpl.__version__))\n",
    "print('flopy version: {}'.format(flopy.__version__))\n",
    "print('operating system: {}'.format(platform.system()))"
   ]
  },
  {
   "cell_type": "markdown",
   "metadata": {},
   "source": [
    "Define model name of your model and the location of MODFLOW executable. All MODFLOW files and output will be stored in the subdirectory defined by the workspace. Create a model named `ml` and specify that this is a MODFLOW-2005 model."
   ]
  },
  {
   "cell_type": "markdown",
   "metadata": {},
   "source": [
    "#### Little extra work to make sure we've tracked down the executable"
   ]
  },
  {
   "cell_type": "code",
   "execution_count": 6,
   "metadata": {
    "scrolled": true
   },
   "outputs": [
    {
     "name": "stdout",
     "output_type": "stream",
     "text": [
      "../../bin/mf2005.nix\n",
      "/home/sbhgeo/Documents/Fogland/bin/mf2005.nix\n",
      "if this =>  \" True \"  prints true, that means executable is in the correct spot\n"
     ]
    }
   ],
   "source": [
    "if platform.system() == 'Linux':\n",
    "    exe_name = os.path.join(\"..\", \"..\", \"bin\", \"mf2005.nix\") # adds path to mf2005.nix, which will be our executeable, to mfexe\n",
    "    abspath = os.path.abspath(exe_name) # assigns absolute path of mfexe to abspath, double checking\n",
    "    print(exe_name) #printing the variables\n",
    "    print(abspath)\n",
    "    print('if this =>  \\\"', os.path.isfile(exe_name),'\\\"  prints true, that means executable is in the correct spot')"
   ]
  },
  {
   "cell_type": "code",
   "execution_count": 7,
   "metadata": {
    "collapsed": true
   },
   "outputs": [],
   "source": [
    "#Set name of MODFLOW exe\n",
    "#  assumes executable is in users path statement\n",
    "\n",
    "if platform.system() == 'Linux':\n",
    "    exe_name = abspath\n",
    "\n",
    "if platform.system() == 'Windows':\n",
    "    exe_name = 'mf2005.exe'\n",
    "\n",
    "workspace = os.path.join('data')\n",
    "#make sure workspace directory exists\n",
    "if not os.path.exists(workspace):\n",
    "    os.makedirs(workspace)\n",
    "    \n",
    "outpath = 'data'\n",
    "if os.path.isdir(outpath):\n",
    "    shutil.rmtree(outpath)\n",
    "os.mkdir(outpath)"
   ]
  },
  {
   "cell_type": "markdown",
   "metadata": {},
   "source": [
    "Define the number of layers, rows and columns. The heads are computed quasi-steady state (hence a steady MODFLOW run) while the interface will move. There are three stress periods with a length of 200, 12, and 18 years and 1,000, 120, and 180 steps. "
   ]
  },
  {
   "cell_type": "code",
   "execution_count": 8,
   "metadata": {
    "collapsed": true
   },
   "outputs": [],
   "source": [
    "nrow, ncol = 100, 100\n",
    "xll, yll = 403877, 172913 # origin of the model (lower left corner)\n",
    "dxdy = 25 # grid spacing (in model units)\n",
    "rot = 0 # rotation (positive counterclockwise)\n",
    "\n",
    "# epsg code specifying coordinate reference system\n",
    "# (https://www.epsg-registry.org/)\n",
    "# in this case, UTM zone 16 N, NAD83\n",
    "# http://spatialreference.org/ref/epsg/nad83-utm-zone-16n/\n",
    "#model_epsg = 6568\n",
    "\n",
    "# alternatively, a proj4 string can be supplied\n",
    "model_proj4 = '+proj=tmerc +lat_0=41.08333333333334 +lon_0=-71.5 +k=0.99999375 +x_0=99999.99998983997 +y_0=0 +ellps=GRS80 +units=us-ft +no_defs'\n",
    "\n",
    "# row and column spacings\n",
    "# (note that delc is column spacings along a row; delr the row spacings along a column)\n",
    "delc = np.ones(nrow, dtype=float) * dxdy\n",
    "delr = np.ones(ncol, dtype=float) * dxdy\n",
    "\n",
    "\n",
    "sr = SpatialReference(delr=delr, delc=delc, xll=xll, yll=yll, rotation=rot, proj4_str= model_proj4, units = 'feet')"
   ]
  },
  {
   "cell_type": "code",
   "execution_count": 9,
   "metadata": {},
   "outputs": [
    {
     "data": {
      "text/plain": [
       "xul:403877; yul:175413; rotation:0; proj4_str:+proj=tmerc +lat_0=41.08333333333334 +lon_0=-71.5 +k=0.99999375 +x_0=99999.99998983997 +y_0=0 +ellps=GRS80 +units=us-ft +no_defs; units:feet; lenuni:1; length_multiplier:1.0"
      ]
     },
     "execution_count": 9,
     "metadata": {},
     "output_type": "execute_result"
    }
   ],
   "source": [
    "sr"
   ]
  },
  {
   "cell_type": "markdown",
   "metadata": {},
   "source": [
    "X,Y of lower left corner"
   ]
  },
  {
   "cell_type": "code",
   "execution_count": 10,
   "metadata": {},
   "outputs": [
    {
     "data": {
      "text/plain": [
       "(403877.0, 172913.0)"
      ]
     },
     "execution_count": 10,
     "metadata": {},
     "output_type": "execute_result"
    }
   ],
   "source": [
    "sr.xll, sr.yll"
   ]
  },
  {
   "cell_type": "markdown",
   "metadata": {},
   "source": [
    "Grid bounds"
   ]
  },
  {
   "cell_type": "code",
   "execution_count": 11,
   "metadata": {},
   "outputs": [
    {
     "data": {
      "text/plain": [
       "(403877.0, 172913.0, 406377.0, 175413.0)"
      ]
     },
     "execution_count": 11,
     "metadata": {},
     "output_type": "execute_result"
    }
   ],
   "source": [
    "sr.bounds"
   ]
  },
  {
   "cell_type": "markdown",
   "metadata": {},
   "source": [
    "Shapefile of grid"
   ]
  },
  {
   "cell_type": "code",
   "execution_count": 41,
   "metadata": {
    "collapsed": true
   },
   "outputs": [],
   "source": [
    "sr.write_shapefile(os.path.join(outpath, 'grid2.shp'))"
   ]
  },
  {
   "cell_type": "code",
   "execution_count": 12,
   "metadata": {
    "collapsed": true
   },
   "outputs": [],
   "source": [
    "#ncol = 100\n",
    "#nrow = 100\n",
    "nlay = 1\n",
    "\n",
    "nper = 3\n",
    "perlen = [365.25 * 200., 365.25 * 12., 365.25 * 18.]\n",
    "nstp = [1000, 120, 180]\n",
    "save_head = [200, 60, 60]\n",
    "steady = True"
   ]
  },
  {
   "cell_type": "markdown",
   "metadata": {},
   "source": [
    "Specify the cell size along the rows (`delr`) and along the columns (`delc`) and the top and bottom of the aquifer for the `DIS` package. "
   ]
  },
  {
   "cell_type": "code",
   "execution_count": 13,
   "metadata": {
    "scrolled": true
   },
   "outputs": [
    {
     "name": "stdout",
     "output_type": "stream",
     "text": [
      "(100, 100) <class 'numpy.ndarray'>\n"
     ]
    }
   ],
   "source": [
    "lay1top = np.loadtxt('./importdata/lay1top.csv', delimiter=',', skiprows=1)\n",
    "lay1top = lay1top[:,6]\n",
    "lay1top = lay1top.reshape(100,100)\n",
    "print(lay1top.shape, type(lay1top))"
   ]
  },
  {
   "cell_type": "code",
   "execution_count": 14,
   "metadata": {
    "collapsed": true
   },
   "outputs": [],
   "source": [
    "# dis data\n",
    "delr, delc = 50.0, 50.0\n",
    "top = lay1top\n",
    "botm = -120"
   ]
  },
  {
   "cell_type": "code",
   "execution_count": 15,
   "metadata": {
    "collapsed": true
   },
   "outputs": [],
   "source": [
    "#botm\n",
    "#top"
   ]
  },
  {
   "cell_type": "markdown",
   "metadata": {},
   "source": [
    "Define the `IBOUND` array and starting heads for the `BAS` package. The corners of the model are defined to be inactive."
   ]
  },
  {
   "cell_type": "code",
   "execution_count": 16,
   "metadata": {
    "collapsed": true
   },
   "outputs": [],
   "source": [
    "# bas data\n",
    "# ibound - active except for the corners\n",
    "ibound = np.ones((nlay, nrow, ncol), dtype= np.int)\n",
    "ibound[:, 0, 0] = 0\n",
    "ibound[:, 0, -1] = 0\n",
    "ibound[:, -1, 0] = 0\n",
    "ibound[:, -1, -1] = 0\n",
    "# initial head data\n",
    "ihead = np.zeros((nlay, nrow, ncol), dtype=np.float)"
   ]
  },
  {
   "cell_type": "markdown",
   "metadata": {},
   "source": [
    "Define the layers to be confined and define the horizontal and vertical hydraulic conductivity of the aquifer for the `LPF` package."
   ]
  },
  {
   "cell_type": "code",
   "execution_count": 17,
   "metadata": {
    "collapsed": true
   },
   "outputs": [],
   "source": [
    "# lpf data\n",
    "laytyp = 0\n",
    "hk = 0.0000001\n",
    "vka = 0.00000001"
   ]
  },
  {
   "cell_type": "markdown",
   "metadata": {},
   "source": [
    "Define the boundary condition data for the model"
   ]
  },
  {
   "cell_type": "code",
   "execution_count": 18,
   "metadata": {
    "collapsed": true
   },
   "outputs": [],
   "source": [
    "# boundary condition data\n",
    "# ghb data\n",
    "colcell, rowcell = np.meshgrid(np.arange(0, ncol), np.arange(0, nrow))\n",
    "index = np.zeros((nrow, ncol), dtype=np.int)\n",
    "index[:, :10] = 1\n",
    "index[:, -10:] = 1\n",
    "index[:10, :] = 1\n",
    "index[-10:, :] = 1\n",
    "nghb = np.sum(index)\n",
    "lrchc = np.zeros((nghb, 5))\n",
    "lrchc[:, 0] = 0\n",
    "lrchc[:, 1] = rowcell[index == 1]\n",
    "lrchc[:, 2] = colcell[index == 1]\n",
    "lrchc[:, 3] = 0.\n",
    "lrchc[:, 4] = 50.0 * 50.0 / 40.0\n",
    "# create ghb dictionary\n",
    "ghb_data = {0:lrchc}\n",
    "\n",
    "# recharge data\n",
    "rch = np.zeros((nrow, ncol), dtype=np.float)\n",
    "rch[index == 0] = 0.0004\n",
    "# create recharge dictionary\n",
    "rch_data = {0: rch}\n",
    "\n",
    "# well data\n",
    "nwells = 2\n",
    "lrcq = np.zeros((nwells, 4))\n",
    "lrcq[0, :] = np.array((0, 30, 35, 0))\n",
    "lrcq[1, :] = np.array([1, 30, 35, 0])\n",
    "lrcqw = lrcq.copy()\n",
    "lrcqw[0, 3] = -250\n",
    "lrcqsw = lrcq.copy()\n",
    "lrcqsw[0, 3] = -250.\n",
    "lrcqsw[1, 3] = -25.\n",
    "# create well dictionary\n",
    "base_well_data = {0:lrcq, 1:lrcqw}\n",
    "swwells_well_data = {0:lrcq, 1:lrcqw, 2:lrcqsw}"
   ]
  },
  {
   "cell_type": "code",
   "execution_count": 19,
   "metadata": {
    "collapsed": true
   },
   "outputs": [],
   "source": [
    "# swi2 data\n",
    "nadptmx = 10\n",
    "nadptmn = 1\n",
    "nu = [0, 0.025]\n",
    "numult = 5.0\n",
    "toeslope = nu[1] / numult  #0.005\n",
    "tipslope = nu[1] / numult  #0.005\n",
    "z1 = -10.0 * np.ones((nrow, ncol))\n",
    "z1[index == 0] = -11.0\n",
    "z = np.array([[z1, z1]])\n",
    "iso = np.zeros((nlay, nrow, ncol), dtype=np.int)\n",
    "iso[0, :, :][index == 0] = 1\n",
    "iso[0, :, :][index == 1] = -2\n",
    "iso[0, 30, 35] = 2\n",
    "ssz=0.2\n",
    "# swi2 observations\n",
    "obsnam = ['layer1_']\n",
    "obslrc=[[0, 30, 35]]\n",
    "nobs = len(obsnam)\n",
    "iswiobs = 1051"
   ]
  },
  {
   "cell_type": "markdown",
   "metadata": {},
   "source": [
    "Create output control (OC) data using words "
   ]
  },
  {
   "cell_type": "code",
   "execution_count": 20,
   "metadata": {
    "collapsed": true
   },
   "outputs": [],
   "source": [
    "# oc data\n",
    "spd = {(0,199): ['print budget', 'save head'],\n",
    "       (0,200): [],\n",
    "       (0,399): ['print budget', 'save head'],\n",
    "       (0,400): [],\n",
    "       (0,599): ['print budget', 'save head'],\n",
    "       (0,600): [],\n",
    "       (0,799): ['print budget', 'save head'],\n",
    "       (0,800): [],\n",
    "       (0,999): ['print budget', 'save head'],\n",
    "       (1,0): [],\n",
    "       (1,59): ['print budget', 'save head'],\n",
    "       (1,60): [],\n",
    "       (1,119): ['print budget', 'save head'],\n",
    "       (1,120): [],\n",
    "       (2,0): [],\n",
    "       (2,59): ['print budget', 'save head'],\n",
    "       (2,60): [],\n",
    "       (2,119): ['print budget', 'save head'],\n",
    "       (2,120): [],\n",
    "       (2,179): ['print budget', 'save head']}"
   ]
  },
  {
   "cell_type": "markdown",
   "metadata": {},
   "source": [
    "Create the model with the freshwater well (Simulation 1)"
   ]
  },
  {
   "cell_type": "code",
   "execution_count": 45,
   "metadata": {},
   "outputs": [],
   "source": [
    "modelname = 'swifogland_s1'\n",
    "ml = flopy.modflow.Modflow(modelname, version='mf2005', exe_name=exe_name, model_ws=workspace)\n",
    "\n",
    "discret = flopy.modflow.ModflowDis(ml, nlay=nlay, nrow=nrow, ncol=ncol, laycbd=0,\n",
    "                                   delr=delr, delc=delc, top=lay1top, botm=botm,\n",
    "                                   nper=nper, perlen=perlen, nstp=nstp)\n",
    "bas = flopy.modflow.ModflowBas(ml, ibound=ibound, strt=ihead)\n",
    "lpf = flopy.modflow.ModflowLpf(ml, laytyp=laytyp, hk=hk, vka=vka)\n",
    "#wel = flopy.modflow.ModflowWel(ml, stress_period_data=base_well_data)\n",
    "ghb = flopy.modflow.ModflowGhb(ml, stress_period_data=ghb_data)\n",
    "rch = flopy.modflow.ModflowRch(ml, rech=rch_data)\n",
    "swi = flopy.modflow.ModflowSwi2(ml, iswizt = 55, iswiobs=iswiobs)\n",
    "#                                , nsrf=1, istrat=1, toeslope=toeslope, tipslope=tipslope, nu=nu,\n",
    "#                                zeta=z, ssz=ssz, isource=iso, nsolver=1,\n",
    "#                                nadptmx=nadptmx, nadptmn=nadptmn \n",
    "#                                nobs=nobs, iswiobs=iswiobs, obsnam=obsnam, obslrc=obslrc, iswizt=55)\n",
    "oc = flopy.modflow.ModflowOc(ml, stress_period_data=spd)\n",
    "pcg = flopy.modflow.ModflowPcg(ml, hclose=1.0e-6, rclose=3.0e-3, mxiter=100, iter1=50)"
   ]
  },
  {
   "cell_type": "markdown",
   "metadata": {},
   "source": [
    "Look at the model"
   ]
  },
  {
   "cell_type": "code",
   "execution_count": 46,
   "metadata": {},
   "outputs": [
    {
     "data": {
      "image/png": "[encoded data removed]",
      "text/plain": [
       "<matplotlib.figure.Figure at 0x7fb55565e668>"
      ]
     },
     "metadata": {},
     "output_type": "display_data"
    }
   ],
   "source": [
    "fig = plt.figure(figsize=(8, 8))\n",
    "ax = fig.add_subplot(1, 1, 1, aspect='equal')\n",
    "modelmap = flopy.plot.ModelMap(model=ml)\n",
    "quadmesh = modelmap.plot_ibound()\n",
    "linecollection = modelmap.plot_grid()"
   ]
  },
  {
   "cell_type": "markdown",
   "metadata": {},
   "source": [
    "Write the simulation 1 MODFLOW input files and run the model"
   ]
  },
  {
   "cell_type": "code",
   "execution_count": 47,
   "metadata": {
    "collapsed": true
   },
   "outputs": [],
   "source": [
    "ml.write_input()"
   ]
  },
  {
   "cell_type": "code",
   "execution_count": 48,
   "metadata": {
    "collapsed": true
   },
   "outputs": [],
   "source": [
    "import timeit"
   ]
  },
  {
   "cell_type": "code",
   "execution_count": 49,
   "metadata": {},
   "outputs": [
    {
     "name": "stdout",
     "output_type": "stream",
     "text": [
      "23.4 s ± 115 ms per loop (mean ± std. dev. of 7 runs, 1 loop each)\n"
     ]
    }
   ],
   "source": [
    "%%timeit\n",
    "ml.run_model(silent=True)"
   ]
  },
  {
   "cell_type": "markdown",
   "metadata": {},
   "source": [
    "Create the model with the saltwater well (Simulation 2)"
   ]
  },
  {
   "cell_type": "code",
   "execution_count": 25,
   "metadata": {},
   "outputs": [
    {
     "name": "stdout",
     "output_type": "stream",
     "text": [
      "ModflowSwi2: specification of nobs is deprecated.\n"
     ]
    }
   ],
   "source": [
    "modelname2 = 'swiex4_s2'\n",
    "ml2 = flopy.modflow.Modflow(modelname2, version='mf2005', exe_name=exe_name, model_ws=workspace)\n",
    "\n",
    "discret = flopy.modflow.ModflowDis(ml2, nlay=nlay, nrow=nrow, ncol=ncol, laycbd=0,\n",
    "                                   delr=delr, delc=delc, top=botm[0], botm=botm[1:],\n",
    "                                   nper=nper, perlen=perlen, nstp=nstp)\n",
    "bas = flopy.modflow.ModflowBas(ml2, ibound=ibound, strt=ihead)\n",
    "lpf = flopy.modflow.ModflowLpf(ml2, laytyp=laytyp, hk=hk, vka=vka)\n",
    "wel = flopy.modflow.ModflowWel(ml2, stress_period_data=swwells_well_data)\n",
    "ghb = flopy.modflow.ModflowGhb(ml2, stress_period_data=ghb_data)\n",
    "rch = flopy.modflow.ModflowRch(ml2, rech=rch_data)\n",
    "swi = flopy.modflow.ModflowSwi2(ml2, nsrf=1, istrat=1, \n",
    "                                toeslope=toeslope, tipslope=tipslope, nu=nu,\n",
    "                                zeta=z, ssz=ssz, isource=iso, nsolver=1,\n",
    "                                nadptmx=nadptmx, nadptmn=nadptmn,\n",
    "                                nobs=nobs, iswiobs=iswiobs, obsnam=obsnam, obslrc=obslrc, iswizt=55)\n",
    "oc = flopy.modflow.ModflowOc(ml2, stress_period_data=spd)\n",
    "pcg = flopy.modflow.ModflowPcg(ml2, hclose=1.0e-6, rclose=3.0e-3, mxiter=100, iter1=50)"
   ]
  },
  {
   "cell_type": "markdown",
   "metadata": {},
   "source": [
    "Write the simulation 2 MODFLOW input files and run the model"
   ]
  },
  {
   "cell_type": "code",
   "execution_count": 26,
   "metadata": {},
   "outputs": [
    {
     "data": {
      "text/plain": [
       "(True, [])"
      ]
     },
     "execution_count": 26,
     "metadata": {},
     "output_type": "execute_result"
    }
   ],
   "source": [
    "ml2.write_input()\n",
    "ml2.run_model(silent=True)"
   ]
  },
  {
   "cell_type": "markdown",
   "metadata": {},
   "source": [
    "Load the simulation 1 `ZETA` data and `ZETA` observations."
   ]
  },
  {
   "cell_type": "code",
   "execution_count": 50,
   "metadata": {},
   "outputs": [
    {
     "ename": "OSError",
     "evalue": "data/swifogland_s1.zobs.out not found.",
     "output_type": "error",
     "traceback": [
      "\u001b[0;31m---------------------------------------------------------------------------\u001b[0m",
      "\u001b[0;31mOSError\u001b[0m                                   Traceback (most recent call last)",
      "\u001b[0;32m<ipython-input-50-ab95977f7d83>\u001b[0m in \u001b[0;36m<module>\u001b[0;34m()\u001b[0m\n\u001b[1;32m      7\u001b[0m \u001b[0mzeta\u001b[0m \u001b[0;34m=\u001b[0m \u001b[0mnp\u001b[0m\u001b[0;34m.\u001b[0m\u001b[0marray\u001b[0m\u001b[0;34m(\u001b[0m\u001b[0mzeta\u001b[0m\u001b[0;34m)\u001b[0m\u001b[0;34m\u001b[0m\u001b[0m\n\u001b[1;32m      8\u001b[0m \u001b[0;31m# read swi obs\u001b[0m\u001b[0;34m\u001b[0m\u001b[0;34m\u001b[0m\u001b[0m\n\u001b[0;32m----> 9\u001b[0;31m \u001b[0mzobs\u001b[0m \u001b[0;34m=\u001b[0m \u001b[0mnp\u001b[0m\u001b[0;34m.\u001b[0m\u001b[0mgenfromtxt\u001b[0m\u001b[0;34m(\u001b[0m\u001b[0mos\u001b[0m\u001b[0;34m.\u001b[0m\u001b[0mpath\u001b[0m\u001b[0;34m.\u001b[0m\u001b[0mjoin\u001b[0m\u001b[0;34m(\u001b[0m\u001b[0mml\u001b[0m\u001b[0;34m.\u001b[0m\u001b[0mmodel_ws\u001b[0m\u001b[0;34m,\u001b[0m \u001b[0mmodelname\u001b[0m\u001b[0;34m+\u001b[0m\u001b[0;34m'.zobs.out'\u001b[0m\u001b[0;34m)\u001b[0m\u001b[0;34m,\u001b[0m \u001b[0mnames\u001b[0m\u001b[0;34m=\u001b[0m\u001b[0;32mTrue\u001b[0m\u001b[0;34m)\u001b[0m\u001b[0;34m\u001b[0m\u001b[0m\n\u001b[0m",
      "\u001b[0;32m~/Documents/Fogland/conda/lib/python3.6/site-packages/numpy/lib/npyio.py\u001b[0m in \u001b[0;36mgenfromtxt\u001b[0;34m(fname, dtype, comments, delimiter, skip_header, skip_footer, converters, missing_values, filling_values, usecols, names, excludelist, deletechars, replace_space, autostrip, case_sensitive, defaultfmt, unpack, usemask, loose, invalid_raise, max_rows)\u001b[0m\n\u001b[1;32m   1549\u001b[0m                 \u001b[0mfhd\u001b[0m \u001b[0;34m=\u001b[0m \u001b[0miter\u001b[0m\u001b[0;34m(\u001b[0m\u001b[0mnp\u001b[0m\u001b[0;34m.\u001b[0m\u001b[0mlib\u001b[0m\u001b[0;34m.\u001b[0m\u001b[0m_datasource\u001b[0m\u001b[0;34m.\u001b[0m\u001b[0mopen\u001b[0m\u001b[0;34m(\u001b[0m\u001b[0mfname\u001b[0m\u001b[0;34m,\u001b[0m \u001b[0;34m'rbU'\u001b[0m\u001b[0;34m)\u001b[0m\u001b[0;34m)\u001b[0m\u001b[0;34m\u001b[0m\u001b[0m\n\u001b[1;32m   1550\u001b[0m             \u001b[0;32melse\u001b[0m\u001b[0;34m:\u001b[0m\u001b[0;34m\u001b[0m\u001b[0m\n\u001b[0;32m-> 1551\u001b[0;31m                 \u001b[0mfhd\u001b[0m \u001b[0;34m=\u001b[0m \u001b[0miter\u001b[0m\u001b[0;34m(\u001b[0m\u001b[0mnp\u001b[0m\u001b[0;34m.\u001b[0m\u001b[0mlib\u001b[0m\u001b[0;34m.\u001b[0m\u001b[0m_datasource\u001b[0m\u001b[0;34m.\u001b[0m\u001b[0mopen\u001b[0m\u001b[0;34m(\u001b[0m\u001b[0mfname\u001b[0m\u001b[0;34m,\u001b[0m \u001b[0;34m'rb'\u001b[0m\u001b[0;34m)\u001b[0m\u001b[0;34m)\u001b[0m\u001b[0;34m\u001b[0m\u001b[0m\n\u001b[0m\u001b[1;32m   1552\u001b[0m             \u001b[0mown_fhd\u001b[0m \u001b[0;34m=\u001b[0m \u001b[0;32mTrue\u001b[0m\u001b[0;34m\u001b[0m\u001b[0m\n\u001b[1;32m   1553\u001b[0m         \u001b[0;32melse\u001b[0m\u001b[0;34m:\u001b[0m\u001b[0;34m\u001b[0m\u001b[0m\n",
      "\u001b[0;32m~/Documents/Fogland/conda/lib/python3.6/site-packages/numpy/lib/_datasource.py\u001b[0m in \u001b[0;36mopen\u001b[0;34m(path, mode, destpath)\u001b[0m\n\u001b[1;32m    149\u001b[0m \u001b[0;34m\u001b[0m\u001b[0m\n\u001b[1;32m    150\u001b[0m     \u001b[0mds\u001b[0m \u001b[0;34m=\u001b[0m \u001b[0mDataSource\u001b[0m\u001b[0;34m(\u001b[0m\u001b[0mdestpath\u001b[0m\u001b[0;34m)\u001b[0m\u001b[0;34m\u001b[0m\u001b[0m\n\u001b[0;32m--> 151\u001b[0;31m     \u001b[0;32mreturn\u001b[0m \u001b[0mds\u001b[0m\u001b[0;34m.\u001b[0m\u001b[0mopen\u001b[0m\u001b[0;34m(\u001b[0m\u001b[0mpath\u001b[0m\u001b[0;34m,\u001b[0m \u001b[0mmode\u001b[0m\u001b[0;34m)\u001b[0m\u001b[0;34m\u001b[0m\u001b[0m\n\u001b[0m\u001b[1;32m    152\u001b[0m \u001b[0;34m\u001b[0m\u001b[0m\n\u001b[1;32m    153\u001b[0m \u001b[0;34m\u001b[0m\u001b[0m\n",
      "\u001b[0;32m~/Documents/Fogland/conda/lib/python3.6/site-packages/numpy/lib/_datasource.py\u001b[0m in \u001b[0;36mopen\u001b[0;34m(self, path, mode)\u001b[0m\n\u001b[1;32m    499\u001b[0m             \u001b[0;32mreturn\u001b[0m \u001b[0m_file_openers\u001b[0m\u001b[0;34m[\u001b[0m\u001b[0mext\u001b[0m\u001b[0;34m]\u001b[0m\u001b[0;34m(\u001b[0m\u001b[0mfound\u001b[0m\u001b[0;34m,\u001b[0m \u001b[0mmode\u001b[0m\u001b[0;34m=\u001b[0m\u001b[0mmode\u001b[0m\u001b[0;34m)\u001b[0m\u001b[0;34m\u001b[0m\u001b[0m\n\u001b[1;32m    500\u001b[0m         \u001b[0;32melse\u001b[0m\u001b[0;34m:\u001b[0m\u001b[0;34m\u001b[0m\u001b[0m\n\u001b[0;32m--> 501\u001b[0;31m             \u001b[0;32mraise\u001b[0m \u001b[0mIOError\u001b[0m\u001b[0;34m(\u001b[0m\u001b[0;34m\"%s not found.\"\u001b[0m \u001b[0;34m%\u001b[0m \u001b[0mpath\u001b[0m\u001b[0;34m)\u001b[0m\u001b[0;34m\u001b[0m\u001b[0m\n\u001b[0m\u001b[1;32m    502\u001b[0m \u001b[0;34m\u001b[0m\u001b[0m\n\u001b[1;32m    503\u001b[0m \u001b[0;34m\u001b[0m\u001b[0m\n",
      "\u001b[0;31mOSError\u001b[0m: data/swifogland_s1.zobs.out not found."
     ]
    }
   ],
   "source": [
    "# read base model zeta\n",
    "zfile = flopy.utils.CellBudgetFile(os.path.join(ml.model_ws, modelname+'.zta'))\n",
    "kstpkper = zfile.get_kstpkper()\n",
    "zeta = []\n",
    "for kk in kstpkper:\n",
    "    zeta.append(zfile.get_data(kstpkper=kk, text='ZETASRF  1')[0])\n",
    "zeta = np.array(zeta)\n",
    "# read swi obs\n",
    "zobs = np.genfromtxt(os.path.join(ml.model_ws, modelname+'.zobs.out'), names=True)"
   ]
  },
  {
   "cell_type": "markdown",
   "metadata": {},
   "source": [
    "Load the simulation 2 `ZETA` data and `ZETA` observations."
   ]
  },
  {
   "cell_type": "code",
   "execution_count": 28,
   "metadata": {
    "collapsed": true
   },
   "outputs": [],
   "source": [
    "# read saltwater well model zeta\n",
    "zfile2 = flopy.utils.CellBudgetFile(os.path.join(ml2.model_ws, modelname2+'.zta'))\n",
    "kstpkper = zfile2.get_kstpkper()\n",
    "zeta2 = []\n",
    "for kk in kstpkper:\n",
    "    zeta2.append(zfile2.get_data(kstpkper=kk, text='ZETASRF  1')[0])\n",
    "zeta2 = np.array(zeta2)\n",
    "# read swi obs\n",
    "zobs2 = np.genfromtxt(os.path.join(ml2.model_ws, modelname2+'.zobs.out'), names=True)"
   ]
  },
  {
   "cell_type": "markdown",
   "metadata": {},
   "source": [
    "Create arrays for the x-coordinates and the output years"
   ]
  },
  {
   "cell_type": "code",
   "execution_count": 29,
   "metadata": {
    "collapsed": true
   },
   "outputs": [],
   "source": [
    "x = np.linspace(-1500, 1500, 61)\n",
    "xcell = np.linspace(-1500, 1500, 61) + delr / 2.\n",
    "xedge = np.linspace(-1525, 1525, 62)\n",
    "years = [40, 80, 120, 160, 200, 6, 12, 18, 24, 30]"
   ]
  },
  {
   "cell_type": "markdown",
   "metadata": {},
   "source": [
    "Define figure dimensions and colors used for plotting `ZETA` surfaces"
   ]
  },
  {
   "cell_type": "code",
   "execution_count": 30,
   "metadata": {
    "collapsed": true
   },
   "outputs": [],
   "source": [
    "# figure dimensions\n",
    "fwid, fhgt = 8.00, 5.50\n",
    "flft, frgt, fbot, ftop = 0.125, 0.95, 0.125, 0.925\n",
    "\n",
    "# line color definition\n",
    "icolor = 5\n",
    "colormap = plt.cm.jet  #winter\n",
    "cc = []\n",
    "cr = np.linspace(0.9, 0.0, icolor)\n",
    "for idx in cr:\n",
    "    cc.append(colormap(idx))"
   ]
  },
  {
   "cell_type": "markdown",
   "metadata": {},
   "source": [
    "Recreate **Figure 9** from the [SWI2 documentation](http://pubs.usgs.gov/tm/6a46/).  \n",
    "\n",
    "A cross section showing results along the centerline of the island through the wells is shown in figure 9. The position of the interface is shown at 40-year increments for stress period 1, during development of the freshwater lens (fig. 9A). After 200 years, the interface approaches the steady-state position. The position of the interface for simulation 1 is shown at 6-year increments in figure 9B. In simulation 1, the interface\n",
    "moves into the upper layer after approximately 14 years. The position of the interface for simulation 2 is shown at 6-year increments in figure 9C. During the first 12 years of groundwater withdrawals, the position of the interface is identical for simulations 1 and 2. After 12 years, the saltwater well begins pumping saltwater from the lower aquifer (model layer 2) and the progression of the upconing of the interface is reduced. The position of the interface in the aquifer over time is shown for simulations 1 and 2 in the cells containing the freshwater and saltwater wells (row 31, column 36) in figure 9D. Simulation results are identical during the first 12 years, because groundwater withdrawals are the same in both simulations. Addition of the saltwater well causes an initial decrease in the interface elevation and an eventual increase in the interface elevation, although the rate of upward movement of the interface is less in the simulation with both the freshwater and\n",
    "saltwater wells than the simulation with only the freshwater well."
   ]
  },
  {
   "cell_type": "code",
   "execution_count": 42,
   "metadata": {},
   "outputs": [
    {
     "data": {
      "image/png": "[encoded data removed]",
      "text/plain": [
       "<matplotlib.figure.Figure at 0x7ff5b95be8d0>"
      ]
     },
     "metadata": {},
     "output_type": "display_data"
    }
   ],
   "source": [
    "plt.rcParams.update({'legend.fontsize': 6, 'legend.frameon' : False})\n",
    "fig = plt.figure(figsize=(fwid, fhgt), facecolor='w')\n",
    "fig.subplots_adjust(wspace=0.25, hspace=0.25, left=flft, right=frgt, bottom=fbot, top=ftop)\n",
    "# first plot\n",
    "ax = fig.add_subplot(2, 2, 1)\n",
    "# axes limits\n",
    "ax.set_xlim(-1500, 1500)\n",
    "ax.set_ylim(-50, -10)\n",
    "for idx in range(5):\n",
    "    # layer 1\n",
    "    ax.plot(xcell, zeta[idx, 0, 30, :], drawstyle='steps-mid', \n",
    "            linewidth=0.5, color=cc[idx], label='{:2d} years'.format(years[idx]))\n",
    "    # layer 2\n",
    "    ax.plot(xcell, zeta[idx, 1, 30, :], drawstyle='steps-mid',\n",
    "            linewidth=0.5, color=cc[idx], label='_None')\n",
    "ax.plot([-1500, 1500], [-30, -30], color='k', linewidth=1.0)\n",
    "# legend\n",
    "plt.legend(loc='lower left')\n",
    "# axes labels and text\n",
    "ax.set_xlabel('Horizontal distance, in meters')\n",
    "ax.set_ylabel('Elevation, in meters')\n",
    "ax.text(0.025, .55, 'Layer 1', transform=ax.transAxes, va='center', ha='left', size='7')\n",
    "ax.text(0.025, .45, 'Layer 2', transform=ax.transAxes, va='center', ha='left', size='7')\n",
    "ax.text(0.975, .1, 'Recharge conditions', transform=ax.transAxes, va='center', ha='right', size='8')\n",
    "\n",
    "# second plot\n",
    "ax = fig.add_subplot(2, 2, 2)\n",
    "# axes limits\n",
    "ax.set_xlim(-1500, 1500)\n",
    "ax.set_ylim(-50, -10)\n",
    "for idx in range(5, len(years)):\n",
    "    # layer 1\n",
    "    ax.plot(xcell, zeta[idx, 0, 30, :], drawstyle='steps-mid', \n",
    "            linewidth=0.5, color=cc[idx-5], label='{:2d} years'.format(years[idx]))\n",
    "    # layer 2\n",
    "    ax.plot(xcell, zeta[idx, 1, 30, :], drawstyle='steps-mid',\n",
    "            linewidth=0.5, color=cc[idx-5], label='_None')\n",
    "ax.plot([-1500, 1500], [-30, -30], color='k', linewidth=1.0)\n",
    "# legend\n",
    "plt.legend(loc='lower left')\n",
    "# axes labels and text\n",
    "ax.set_xlabel('Horizontal distance, in meters')\n",
    "ax.set_ylabel('Elevation, in meters')\n",
    "ax.text(0.025, .55, 'Layer 1', transform=ax.transAxes, va='center', ha='left', size='7')\n",
    "ax.text(0.025, .45, 'Layer 2', transform=ax.transAxes, va='center', ha='left', size='7')\n",
    "ax.text(0.975, .1, 'Freshwater well withdrawal', transform=ax.transAxes, va='center', ha='right', size='8')\n",
    "\n",
    "# third plot\n",
    "ax = fig.add_subplot(2, 2, 3)\n",
    "# axes limits\n",
    "ax.set_xlim(-1500, 1500)\n",
    "ax.set_ylim(-50, -10)\n",
    "for idx in range(5, len(years)):\n",
    "    # layer 1\n",
    "    ax.plot(xcell, zeta2[idx, 0, 30, :], drawstyle='steps-mid', \n",
    "            linewidth=0.5, color=cc[idx-5], label='{:2d} years'.format(years[idx]))\n",
    "    # layer 2\n",
    "    ax.plot(xcell, zeta2[idx, 1, 30, :], drawstyle='steps-mid',\n",
    "            linewidth=0.5, color=cc[idx-5], label='_None')\n",
    "ax.plot([-1500, 1500], [-30, -30], color='k', linewidth=1.0)\n",
    "# legend\n",
    "plt.legend(loc='lower left')\n",
    "# axes labels and text\n",
    "ax.set_xlabel('Horizontal distance, in meters')\n",
    "ax.set_ylabel('Elevation, in meters')\n",
    "ax.text(0.025, .55, 'Layer 1', transform=ax.transAxes, va='center', ha='left', size='7')\n",
    "ax.text(0.025, .45, 'Layer 2', transform=ax.transAxes, va='center', ha='left', size='7')\n",
    "ax.text(0.975, .1, 'Freshwater and saltwater\\nwell withdrawals', transform=ax.transAxes,\n",
    "        va='center', ha='right', size='8')\n",
    "\n",
    "# fourth plot\n",
    "ax = fig.add_subplot(2, 2, 4)\n",
    "# axes limits\n",
    "ax.set_xlim(0, 30)\n",
    "ax.set_ylim(-50, -10)\n",
    "t = zobs['TOTIM'][999:] / 365 - 200.\n",
    "tz2 = zobs['layer1_001'][999:]\n",
    "tz3 = zobs2['layer1_001'][999:]\n",
    "for i in range(len(t)):\n",
    "    if zobs['layer2_001'][i+999] < -30. - 0.1:\n",
    "        tz2[i] = zobs['layer2_001'][i+999]\n",
    "    if zobs2['layer2_001'][i+999] < 20. - 0.1:\n",
    "        tz3[i] = zobs2['layer2_001'][i+999]\n",
    "ax.plot(t, tz2, linestyle='solid', color='r', linewidth=0.75, label='Freshwater well')\n",
    "ax.plot(t, tz3, linestyle='dotted', color='r', linewidth=0.75, label='Freshwater and saltwater well')\n",
    "ax.plot([0, 30], [-30, -30], 'k', linewidth=1.0, label='_None')\n",
    "# legend\n",
    "leg = plt.legend(loc='lower right', numpoints=1)\n",
    "# axes labels and text\n",
    "ax.set_xlabel('Time, in years')\n",
    "ax.set_ylabel('Elevation, in meters')\n",
    "ax.text(0.025, .55, 'Layer 1', transform=ax.transAxes, va='center', ha='left', size='7')\n",
    "ax.text(0.025, .45, 'Layer 2', transform=ax.transAxes, va='center', ha='left', size='7');\n"
   ]
  },
  {
   "cell_type": "markdown",
   "metadata": {},
   "source": [
    "Use `ModelCrossSection` plotting class and `plot_fill_between()` method to fill between zeta surfaces."
   ]
  },
  {
   "cell_type": "code",
   "execution_count": 41,
   "metadata": {},
   "outputs": [
    {
     "name": "stderr",
     "output_type": "stream",
     "text": [
      "/home/sbhgeo/Documents/Fogland/conda/lib/python3.6/site-packages/flopy/plot/crosssection.py:399: MaskedArrayFutureWarning: setting an item on a masked array which has a shared mask will not copy the mask and also change the original mask array in the future.\n",
      "Check the NumPy 1.11 release notes for more information.\n",
      "  v[idx] = y2[idx]\n"
     ]
    },
    {
     "data": {
      "image/png": "[encoded data removed]",
      "text/plain": [
       "<matplotlib.figure.Figure at 0x7ff58f209400>"
      ]
     },
     "metadata": {},
     "output_type": "display_data"
    }
   ],
   "source": [
    "fig = plt.figure(figsize=(fwid, fhgt/2))\n",
    "fig.subplots_adjust(wspace=0.25, hspace=0.25, left=flft, right=frgt, bottom=fbot, top=ftop)\n",
    "\n",
    "colors = ['#40d3f7', '#F76541']\n",
    "\n",
    "ax = fig.add_subplot(1, 2, 1)\n",
    "modelxsect = flopy.plot.ModelCrossSection(model=ml, line={'Row': 30}, \n",
    "                                          extent=(0, 3050, -50, -10))\n",
    "modelxsect.plot_fill_between(zeta[4, :, :, :], colors=colors, ax=ax,\n",
    "                              edgecolors='none')\n",
    "linecollection = modelxsect.plot_grid(ax=ax)\n",
    "ax.set_title('Recharge year {}'.format(years[4]));\n",
    "\n",
    "ax = fig.add_subplot(1, 2, 2)\n",
    "ax.set_xlim(0, 3050)\n",
    "ax.set_ylim(-50, -10)\n",
    "modelxsect.plot_fill_between(zeta[-1, :, :, :], colors=colors, ax=ax)\n",
    "linecollection = modelxsect.plot_grid(ax=ax)\n",
    "ax.set_title('Scenario year {}'.format(years[-1]));"
   ]
  },
  {
   "cell_type": "code",
   "execution_count": null,
   "metadata": {
    "collapsed": true
   },
   "outputs": [],
   "source": []
  }
 ],
 "metadata": {
  "anaconda-cloud": {},
  "celltoolbar": "Raw Cell Format",
  "kernelspec": {
   "display_name": "Python [default]",
   "language": "python",
   "name": "python3"
  },
  "language_info": {
   "codemirror_mode": {
    "name": "ipython",
    "version": 3
   },
   "file_extension": ".py",
   "mimetype": "text/x-python",
   "name": "python",
   "nbconvert_exporter": "python",
   "pygments_lexer": "ipython3",
   "version": "3.6.2"
  }
 },
 "nbformat": 4,
 "nbformat_minor": 1
}
