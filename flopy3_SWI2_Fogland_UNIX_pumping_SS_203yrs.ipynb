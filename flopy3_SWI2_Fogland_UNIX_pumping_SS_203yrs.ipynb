{
 "cells": [
  {
   "cell_type": "markdown",
   "metadata": {},
   "source": [
    "## Fogland Point, RI \n",
    "### MODFLOW, ~~SWI2~~, Flopy\n",
    "### This notebook has been tested in an ubuntu-xenial based linux distro\n",
    "\n",
    "-Spencer Harris  \n",
    "-spharris@sas.upenn.edu"
   ]
  },
  {
   "cell_type": "markdown",
   "metadata": {},
   "source": [
    "This model simulates transient movement of the freshwater-seawater interface beneath Fogland Point, a peninsula in the Narragansett Bay, Rhode Island. in response to recharge and groundwater withdrawals. One XX-ft thick aquifer that extends below sea level. The aquifer is unconfined, storage changes are not considered (all MODFLOW stress periods are steady-state).\n",
    "\n",
    "The domain is discretized into 100 columns, 100 rows, and 2 layers, with respective cell dimensions of 25 ft (`DELR`), 25 ft (`DELC`), and XX. A total of 230 years is simulated using three stress periods with lengths of 200, 12, and 18 years, with constant time steps of 0.2, 0.1, and 0.1 years, respectively. \n",
    "\n",
    "The horizontal and vertical hydraulic conductivity of the fractured rock aquifer is 10$^{-7}$ ft/d and 10$^{-8}$ ft/d**?**, respectively. The effective porosity is 0.0015. The model is extended offshore along all sides and the ocean boundary is represented as a general head boundary condition (GHB). A freshwater head of (Bay depth\\* -0.025) ft is specified for the Bay in all general head boundaries. The GHB conductance that controls outflow from the aquifer into the ocean is 15.6 ft$^{2}$/d and corresponds to a leakance of 0.025 d$^{-1}$ (or a resistance of 40 days).**may change?**\n",
    "\n",
    "The groundwater is divided into a freshwater zone and a seawater zone, separated by an active ZETA surface between the zones (`NSRF=1`) that approximates the 50-percent seawater salinity contour. Fluid density is represented using the stratified density option (`ISTRAT=1`). The dimensionless density difference ($\\nu$) between freshwater and saltwater is 0.025. The tip and toe tracking parameters are a `TOESLOPE` and `TIPSLOPE` of 0.1, a default `ALPHA` of 0.1, and a default `BETA` of 0.1. Initially, the interface between freshwater and saltwater is 1 m below MSL (0ft) on the island and at the top of the upper aquifer offshore. The SWI2 `ISOURCE` parameter is set to -2 in cells having GHBs so that water that infiltrates into the aquifer from the GHB cells is saltwater (zone 2), whereas water that flows out of the model at the GHB cells is identical to water at the top of the aquifer. ~~`ISOURCE` in layer X, row XX, column XX is set to 2 so that a saltwater well may be simulated in the third stress period of simulation 2.~~ In all other cells, the SWI2 `ISOURCE` parameter is set to 0, indicating boundary conditions have water that is identical to water at the top of the aquifer and can be either freshwater or saltwater, depending on the elevation of the active `ZETA` surface in the cell.\n",
    "\n",
    "A constant recharge rate of 0.00479 feet per day (ft/d) is used in all three stress periods. The development of the freshwater lens is simulated for 200 years\n",
    "\n",
    "-------------------------------------------------current stage-------------------------------------------------\n",
    "\n",
    "\n",
    ", after which a pumping well having a withdrawal rate of XXX ft$^3$/d is started in layer X, row XX, column XX. For the first simulation (simulation 1), the well pumps for XX years, after which the interface almost reaches the top of the upper aquifer layer. In the second simulation (simulation 2), an additional well withdrawing\n",
    "saltwater at a rate of 25 m$^3$/d is simulated below the freshwater well in layer 2 , row 31, column 36, 12 years after the freshwater groundwater withdrawal begins in the well in layer 1. The saltwater well is intended to prevent the interface from\n",
    "upconing into the upper aquifer (model layer).\n",
    "\n",
    "### Based off the Flopy notebook of SWI2 Example 4. Upconing Below a Pumping Well in a Two-Aquifer Island System in the [SWI2 documentation] (http://pubs.usgs.gov/tm/6a46/) \n"
   ]
  },
  {
   "cell_type": "markdown",
   "metadata": {},
   "source": [
    "Import `numpy` and `matplotlib`, set all figures to be inline, import `flopy.modflow` and `flopy.utils`."
   ]
  },
  {
   "cell_type": "code",
   "execution_count": 2,
   "metadata": {},
   "outputs": [
    {
     "name": "stdout",
     "output_type": "stream",
     "text": [
      "3.6.2 |Continuum Analytics, Inc.| (default, Jul 20 2017, 13:51:32) \n",
      "[GCC 4.4.7 20120313 (Red Hat 4.4.7-1)]\n",
      "numpy version: 1.13.1\n",
      "matplotlib version: 2.0.2\n",
      "flopy version: 3.2.6\n",
      "operating system: Linux\n"
     ]
    }
   ],
   "source": [
    "%matplotlib inline\n",
    "%config InlineBackend.figure_format = 'retina'\n",
    "import sys\n",
    "import os\n",
    "import platform\n",
    "import shutil\n",
    "import numpy as np\n",
    "import matplotlib as mpl\n",
    "import matplotlib.pyplot as plt\n",
    "\n",
    "\n",
    "# run installed version of flopy or add local path\n",
    "try:\n",
    "    import flopy\n",
    "except:\n",
    "    fpth = os.path.abspath(os.path.join('..', '..'))\n",
    "    sys.path.append(fpth)\n",
    "    import flopy\n",
    "\n",
    "\n",
    "from flopy.utils.reference import SpatialReference\n",
    "import flopy.utils.binaryfile as bf\n",
    "#from flopy.utils.postprocessing import get_transmissivities, get_water_table, get_gradients, get_saturated_thickness\n",
    "\n",
    "fm = flopy.modflow\n",
    "\n",
    "print(sys.version)\n",
    "print('numpy version: {}'.format(np.__version__))\n",
    "print('matplotlib version: {}'.format(mpl.__version__))\n",
    "print('flopy version: {}'.format(flopy.__version__))\n",
    "print('operating system: {}'.format(platform.system()))"
   ]
  },
  {
   "cell_type": "markdown",
   "metadata": {},
   "source": [
    "Define model name of your model and the location of MODFLOW executable. All MODFLOW files and output will be stored in the subdirectory defined by the workspace. Create a model named `ml` and specify that this is a MODFLOW-2005 model."
   ]
  },
  {
   "cell_type": "markdown",
   "metadata": {},
   "source": [
    "#### Little extra work to make sure we've tracked down the executable"
   ]
  },
  {
   "cell_type": "code",
   "execution_count": 3,
   "metadata": {
    "scrolled": true
   },
   "outputs": [
    {
     "name": "stdout",
     "output_type": "stream",
     "text": [
      "../../bin/mf2005.nix\n",
      "/home/sbhgeo/Documents/Fogland/bin/mf2005.nix\n",
      "if this =>  \" True \"  prints true, that means executable is in the correct spot\n"
     ]
    }
   ],
   "source": [
    "if platform.system() == 'Linux':\n",
    "    exe_name = os.path.join(\"..\", \"..\", \"bin\", \"mf2005.nix\") # adds path to mf2005.nix, which will be our executeable, to mfexe\n",
    "    abspath = os.path.abspath(exe_name) # assigns absolute path of mfexe to abspath, double checking\n",
    "    print(exe_name) #printing the variables\n",
    "    print(abspath)\n",
    "    print('if this =>  \\\"', os.path.isfile(exe_name),'\\\"  prints true, that means executable is in the correct spot')"
   ]
  },
  {
   "cell_type": "code",
   "execution_count": 4,
   "metadata": {
    "collapsed": true
   },
   "outputs": [],
   "source": [
    "#Set name of MODFLOW exe\n",
    "#  assumes executable is in users path statement\n",
    "\n",
    "if platform.system() == 'Linux':\n",
    "    exe_name = abspath\n",
    "\n",
    "if platform.system() == 'Windows':\n",
    "    exe_name = 'mf2005.exe'\n",
    "\n",
    "workspace = os.path.join('data')\n",
    "#make sure workspace directory exists\n",
    "if not os.path.exists(workspace):\n",
    "    os.makedirs(workspace)\n",
    "    \n",
    "outpath = 'data'\n",
    "if os.path.isdir(outpath):\n",
    "    shutil.rmtree(outpath)\n",
    "os.mkdir(outpath)"
   ]
  },
  {
   "cell_type": "markdown",
   "metadata": {},
   "source": [
    "Define the number of layers, rows and columns. The heads are computed quasi-steady state (hence a steady MODFLOW run) while the interface will move. There are three stress periods with a length of 200, 12, and 18 years and 1,000, 120, and 180 steps. "
   ]
  },
  {
   "cell_type": "code",
   "execution_count": 5,
   "metadata": {},
   "outputs": [
    {
     "name": "stdout",
     "output_type": "stream",
     "text": [
      "(403877.0, 172913.0, 406377.0, 175413.0)\n",
      "xul:403877; yul:175413; rotation:0; proj4_str:+proj=tmerc +lat_0=41.08333333333334 +lon_0=-71.5 +k=0.99999375 +x_0=99999.99998983997 +y_0=0 +ellps=GRS80 +towgs84=0,0,0,0,0,0,0 +to_meter=0.3048006096012192 +no_defs ; units:feet; lenuni:1; length_multiplier:1.0\n"
     ]
    }
   ],
   "source": [
    "\n",
    "nrow, ncol = 100, 100\n",
    "xll, yll = 403877, 172913 # origin of the model (lower left corner)\n",
    "#xul, yul = 406377, 175413 # origin of model (upper left corner)\n",
    "dxdy = 25 # grid spacing (in model units)\n",
    "rot = 0 # rotation (positive counterclockwise)\n",
    "\n",
    "# epsg code specifying coordinate reference system\n",
    "# (https://www.epsg-registry.org/)\n",
    "# in this case, UTM zone 16 N, NAD83\n",
    "# http://spatialreference.org/ref/epsg/nad83-utm-zone-16n/\n",
    "model_epsg = 3654\n",
    "\n",
    "# alternatively, a proj4 string can be supplied\n",
    "model_proj4 = 'http://spatialreference.org/ref/epsg/nad83-utm-zone-16n/proj4/'\n",
    "\n",
    "# row and column spacings\n",
    "# (note that delc is column spacings along a row; delr the row spacings along a column)\n",
    "delc = np.ones(nrow, dtype=float) * dxdy\n",
    "delr = np.ones(ncol, dtype=float) * dxdy\n",
    "\n",
    "\n",
    "sr = SpatialReference(delr=delr, delc=delc, xll=xll, yll=yll, rotation=rot, epsg=model_epsg, units = 'feet', lenuni = 1)\n",
    "#sr = SpatialReference(delr=delr, delc=delc, xul=xul, yul=yul, rotation=rot, epsg=model_epsg, units = 'feet', lenuni = 1)\n",
    "\n",
    "print(sr.bounds)\n",
    "print(sr)"
   ]
  },
  {
   "cell_type": "code",
   "execution_count": 6,
   "metadata": {},
   "outputs": [
    {
     "name": "stdout",
     "output_type": "stream",
     "text": [
      "DELR = 25.0\n",
      "DELC = 25.0\n"
     ]
    }
   ],
   "source": [
    "print('DELR =', delr[0])\n",
    "print('DELC =', delc[0])"
   ]
  },
  {
   "cell_type": "code",
   "execution_count": 7,
   "metadata": {},
   "outputs": [
    {
     "data": {
      "text/plain": [
       "xul:403877; yul:175413; rotation:0; proj4_str:+proj=tmerc +lat_0=41.08333333333334 +lon_0=-71.5 +k=0.99999375 +x_0=99999.99998983997 +y_0=0 +ellps=GRS80 +towgs84=0,0,0,0,0,0,0 +to_meter=0.3048006096012192 +no_defs ; units:feet; lenuni:1; length_multiplier:1.0"
      ]
     },
     "execution_count": 7,
     "metadata": {},
     "output_type": "execute_result"
    }
   ],
   "source": [
    "sr"
   ]
  },
  {
   "cell_type": "markdown",
   "metadata": {},
   "source": [
    "Grid bounds"
   ]
  },
  {
   "cell_type": "code",
   "execution_count": 8,
   "metadata": {},
   "outputs": [
    {
     "data": {
      "text/plain": [
       "(403877.0, 172913.0, 406377.0, 175413.0)"
      ]
     },
     "execution_count": 8,
     "metadata": {},
     "output_type": "execute_result"
    }
   ],
   "source": [
    "sr.bounds"
   ]
  },
  {
   "cell_type": "markdown",
   "metadata": {},
   "source": [
    "----------------\n",
    "Define the `DIS` package"
   ]
  },
  {
   "cell_type": "code",
   "execution_count": 104,
   "metadata": {},
   "outputs": [],
   "source": [
    "# nlay = 2\n",
    "# nper = 3\n",
    "# perlen = [365.25 * 200., 365.25 * 12., 365.25 * 18.]\n",
    "# nstp = [1000, 120, 180]\n",
    "# save_head = [200, 60, 60] # what is this for?\n",
    "# steady = True\n",
    "\n",
    "nlay = 3\n",
    "nper = 6\n",
    "perlen = [365.25 * 200., 92, 273, 92, 273, 92]\n",
    "nstp = [1000, 92, 273, 92, 273, 92] # timesteps of 73.05 days; 0.2 yrs\n",
    "#time steps of 1 day for sp2 through sp6\n",
    "save_head = [50] # what is this for?\n",
    "steady = [True, False, False, False, False, False]"
   ]
  },
  {
   "cell_type": "code",
   "execution_count": null,
   "metadata": {},
   "outputs": [],
   "source": []
  },
  {
   "cell_type": "markdown",
   "metadata": {},
   "source": [
    "Import Elevation CSV, (created in QGIS) for top of layer 1 with sea level as 0 feet"
   ]
  },
  {
   "cell_type": "code",
   "execution_count": 105,
   "metadata": {
    "scrolled": true
   },
   "outputs": [
    {
     "name": "stdout",
     "output_type": "stream",
     "text": [
      "(100, 100) <class 'numpy.ndarray'>\n"
     ]
    }
   ],
   "source": [
    "lay1top = np.loadtxt('./importdata/lay1top.csv', delimiter=',', skiprows=1)\n",
    "lay1top = lay1top[:,6]\n",
    "lay1top = lay1top.reshape(100,100)\n",
    "\n",
    "lay1topfud = np.flipud(lay1top) \n",
    "lay1topflr = np.fliplr(lay1top)\n",
    "lay1topreversed = np.fliplr(lay1topfud)\n",
    "#new line flipping array because CSV was made with grid origin in upper left instead of lowerleft\n",
    "\n",
    "print(lay1topfud.shape, type(lay1topfud))"
   ]
  },
  {
   "cell_type": "code",
   "execution_count": 106,
   "metadata": {
    "collapsed": true
   },
   "outputs": [],
   "source": [
    "# dis data\n",
    "top = lay1topfud\n",
    "botm = np.array([-43., -90., -200.])"
   ]
  },
  {
   "cell_type": "markdown",
   "metadata": {},
   "source": [
    "Define the `IBOUND` array and starting heads for the `BAS` package. The corners of the model are defined to be inactive."
   ]
  },
  {
   "cell_type": "code",
   "execution_count": 107,
   "metadata": {},
   "outputs": [
    {
     "data": {
      "text/plain": [
       "(3, 100, 100)"
      ]
     },
     "execution_count": 107,
     "metadata": {},
     "output_type": "execute_result"
    }
   ],
   "source": [
    "# bas data\n",
    "# ibound - active except for the corners\n",
    "ibound = np.ones((nlay, nrow, ncol), dtype= np.int)\n",
    "ibound[:, 0, 0] = 0\n",
    "ibound[:, 0, -1] = 0\n",
    "ibound[:, -1, 0] = 0\n",
    "ibound[:, -1, -1] = 0\n",
    "# initial head data\n",
    "ihead = np.zeros((nlay, nrow, ncol), dtype=np.float)\n",
    "ihead.shape"
   ]
  },
  {
   "cell_type": "markdown",
   "metadata": {},
   "source": [
    "Define the layers to be confined and define the horizontal and vertical hydraulic conductivity of the aquifer for the `LPF` package."
   ]
  },
  {
   "cell_type": "code",
   "execution_count": 200,
   "metadata": {
    "collapsed": true
   },
   "outputs": [],
   "source": [
    "# lpf data\n",
    "#laytyp = np.array([1,0])\n",
    "#laytyp = np.array([0,0])\n",
    "laytyp = np.array([1,1,1]) #lay1, 2, 3;unconfined, unconfined, unconfined\n",
    "\n",
    "sy = 0.0001 # From Carleton 1999, Numerical model pg.27 of wrir 98-4126A\n",
    "ss = 0.0001 #S=Sy for unconfined aquifers\n",
    "# sy is only read in for transient runs, when change in storage is calculated\n",
    "\n",
    "hk = 1.975 #calculated from pump test at well 17 (1.975 ft/day)\n",
    "vka = 0.1975 #calculated from pump test at well 17 (0.1975 ft/day)\n",
    "\n",
    "#hk = 0.395 #factor of 5 less than calculated from pump test at well 17 (1.975 ft/day)\n",
    "#vka = 0.0395 #factor of 5 less than calculated from pump test at well 17 (0.1975 ft/day)\n",
    "\n",
    "#hk = 0.1975 #factor of 10 less than calculated from pump test at well 17\n",
    "#vka = 0.01975 #factor of 10 less calculated from pump test at well 17\n"
   ]
  },
  {
   "cell_type": "markdown",
   "metadata": {},
   "source": [
    "Define the boundary condition data for the model"
   ]
  },
  {
   "cell_type": "markdown",
   "metadata": {},
   "source": [
    "Pulling in data in for GHB "
   ]
  },
  {
   "cell_type": "code",
   "execution_count": 201,
   "metadata": {},
   "outputs": [
    {
     "name": "stdout",
     "output_type": "stream",
     "text": [
      "(100, 100) <class 'numpy.ndarray'>\n",
      "(100, 100) <class 'numpy.ndarray'>\n"
     ]
    }
   ],
   "source": [
    "seawater_GHB = np.loadtxt('./importdata/bay_heads_GHB_ft.csv', delimiter=',', skiprows=1)\n",
    "index = seawater_GHB[:,5]\n",
    "index = index.reshape(100,100)\n",
    "\n",
    "index = np.flipud(index) \n",
    "#new line flipping array because CSV was made with grid origin in upper left instead of lowerleft\n",
    "\n",
    "print(index.shape, type(index))\n",
    "\n",
    "seawater_heads = seawater_GHB[:,4]\n",
    "seawater_heads= seawater_heads.reshape(100,100)\n",
    "print(seawater_heads.shape, type(seawater_heads))"
   ]
  },
  {
   "cell_type": "code",
   "execution_count": 202,
   "metadata": {
    "collapsed": true
   },
   "outputs": [],
   "source": [
    "# boundary condition data\n",
    "# ghb data\n",
    "colcell, rowcell = np.meshgrid(np.arange(0, ncol), np.arange(0, nrow))\n",
    "# making an grid of where GHB is active, 1 = active, 0 = inactive\n",
    "\n",
    "nghb = int(np.sum(index))\n",
    "lrchc = np.zeros((nghb, 5))\n",
    "lrchc[:, 0] = 0\n",
    "lrchc[:, 1] = rowcell[index == 1]\n",
    "lrchc[:, 2] = colcell[index == 1]\n",
    "lrchc[:, 3] = seawater_heads[index == 1]\n",
    "lrchc[:, 4] = dxdy * dxdy / 217.86 #resistance time of 218 days = conductance of 2.87 ft2/day\n",
    "# create ghb dictionary\n",
    "ghb_data = {0:lrchc, 1:lrchc, 2:lrchc, 3:lrchc, 4:lrchc, 5:lrchc}\n",
    "\n",
    "# recharge data\n",
    "rch = np.zeros((nrow, ncol), dtype=np.float)\n",
    "rch[index == 0] = 0.00479 #estimated as 1/2 of all precip (annual averaged) \n",
    "# need to recalculate recharge.....\n",
    "norch = np.zeros((nrow, ncol), dtype=np.float)\n",
    "# create recharge dictionary\n",
    "rch_data = {0: rch, 1: norch, 2: rch, 3: norch, 4: rch, 5: norch}\n",
    "\n",
    "# well data\n",
    "\n",
    "nwells = 16\n",
    "lrcq = np.zeros((nwells, 4))\n",
    "lrcq[0, :] = np.array((0, 60, 32, 0)) #12 shallow well\n",
    "lrcq[1, :] = np.array((0, 58, 37, 0)) #15 shallow well\n",
    "lrcq[2, :] = np.array((1, 58, 42, 0)) #1 medium well\n",
    "lrcq[3, :] = np.array((1, 56, 42, 0)) #21 medium well\n",
    "lrcq[4, :] = np.array((1, 53, 35, 0)) #24 medium well\n",
    "lrcq[5, :] = np.array((1, 51, 37, 0)) #36 medium well\n",
    "lrcq[6, :] = np.array((1, 48, 47, 0)) #33 medium well\n",
    "lrcq[7, :] = np.array((1, 44, 35, 0)) #56 medium well\n",
    "lrcq[8, :] = np.array((1, 43, 37, 0)) #55 medium well\n",
    "lrcq[9, :] = np.array((0, 42, 39, 0)) #55a shallow well\n",
    "lrcq[10, :] = np.array((1, 42, 48, 0)) #65 medium well\n",
    "lrcq[11, :] = np.array((1, 39, 38, 0)) #64 medium well\n",
    "lrcq[12, :] = np.array((2, 37, 42, 0)) #77 deep well\n",
    "lrcq[13, :] = np.array((0, 36, 37, 0)) #78 shallow well\n",
    "lrcq[14, :] = np.array((1, 30, 46, 0)) #5 medium well\n",
    "lrcq[15, :] = np.array((1, 26, 40, 0)) #17 medium well\n",
    "\n",
    "\n",
    "\n",
    "\n",
    "lrcqw = lrcq.copy()\n",
    "lrcqw[:, 3] = -1.83 # 100 gal/day; 13.37 ft3/day for 50 days = 1.83 ft3/day mean annual widthdrawl\n",
    "lrcqw[7, 3] = 0 #no pumping well 56\n",
    "lrcqw[6, 3] = 0 #no pumping well 33\n",
    "lrcqw[12, 3] = -3.66 # well 77; 200 gal/day; 26.73 ft3/day for 50 days = 3.66 ft3/day mean annual widthdrawl\n",
    "lrcqw[11, 3] = -0.366 # well 77; 20 gal/day; 2.67 ft3/day for 50 days = 0.366 ft3/day mean annual widthdrawl\n",
    "\n",
    "lrcq_off = lrcq.copy()\n",
    "\n",
    "################################################leaving off here###\n",
    "#lrcqw[:, 3] = -13.37 # 100 gal/day; 13.37 ft3/day freshwater wells during peak season\n",
    "\n",
    "base_well_data = {0:lrcq_off, 1:lrcqw, 2:lrcq_off, 3:lrcqw, 4:lrcq_off, 5:lrcqw}"
   ]
  },
  {
   "cell_type": "code",
   "execution_count": 203,
   "metadata": {},
   "outputs": [
    {
     "data": {
      "text/plain": [
       "{0: array([[  0.        ,   0.        ,   0.        ,   0.37101302,\n",
       "           2.86881484],\n",
       "        [  0.        ,   0.        ,   1.        ,   0.37284209,\n",
       "           2.86881484],\n",
       "        [  0.        ,   0.        ,   2.        ,   0.37518328,\n",
       "           2.86881484],\n",
       "        ..., \n",
       "        [  0.        ,  99.        ,  97.        ,   0.33998986,\n",
       "           2.86881484],\n",
       "        [  0.        ,  99.        ,  98.        ,   0.34061565,\n",
       "           2.86881484],\n",
       "        [  0.        ,  99.        ,  99.        ,   0.34099513,\n",
       "           2.86881484]]),\n",
       " 1: array([[  0.        ,   0.        ,   0.        ,   0.37101302,\n",
       "           2.86881484],\n",
       "        [  0.        ,   0.        ,   1.        ,   0.37284209,\n",
       "           2.86881484],\n",
       "        [  0.        ,   0.        ,   2.        ,   0.37518328,\n",
       "           2.86881484],\n",
       "        ..., \n",
       "        [  0.        ,  99.        ,  97.        ,   0.33998986,\n",
       "           2.86881484],\n",
       "        [  0.        ,  99.        ,  98.        ,   0.34061565,\n",
       "           2.86881484],\n",
       "        [  0.        ,  99.        ,  99.        ,   0.34099513,\n",
       "           2.86881484]]),\n",
       " 2: array([[  0.        ,   0.        ,   0.        ,   0.37101302,\n",
       "           2.86881484],\n",
       "        [  0.        ,   0.        ,   1.        ,   0.37284209,\n",
       "           2.86881484],\n",
       "        [  0.        ,   0.        ,   2.        ,   0.37518328,\n",
       "           2.86881484],\n",
       "        ..., \n",
       "        [  0.        ,  99.        ,  97.        ,   0.33998986,\n",
       "           2.86881484],\n",
       "        [  0.        ,  99.        ,  98.        ,   0.34061565,\n",
       "           2.86881484],\n",
       "        [  0.        ,  99.        ,  99.        ,   0.34099513,\n",
       "           2.86881484]]),\n",
       " 3: array([[  0.        ,   0.        ,   0.        ,   0.37101302,\n",
       "           2.86881484],\n",
       "        [  0.        ,   0.        ,   1.        ,   0.37284209,\n",
       "           2.86881484],\n",
       "        [  0.        ,   0.        ,   2.        ,   0.37518328,\n",
       "           2.86881484],\n",
       "        ..., \n",
       "        [  0.        ,  99.        ,  97.        ,   0.33998986,\n",
       "           2.86881484],\n",
       "        [  0.        ,  99.        ,  98.        ,   0.34061565,\n",
       "           2.86881484],\n",
       "        [  0.        ,  99.        ,  99.        ,   0.34099513,\n",
       "           2.86881484]]),\n",
       " 4: array([[  0.        ,   0.        ,   0.        ,   0.37101302,\n",
       "           2.86881484],\n",
       "        [  0.        ,   0.        ,   1.        ,   0.37284209,\n",
       "           2.86881484],\n",
       "        [  0.        ,   0.        ,   2.        ,   0.37518328,\n",
       "           2.86881484],\n",
       "        ..., \n",
       "        [  0.        ,  99.        ,  97.        ,   0.33998986,\n",
       "           2.86881484],\n",
       "        [  0.        ,  99.        ,  98.        ,   0.34061565,\n",
       "           2.86881484],\n",
       "        [  0.        ,  99.        ,  99.        ,   0.34099513,\n",
       "           2.86881484]]),\n",
       " 5: array([[  0.        ,   0.        ,   0.        ,   0.37101302,\n",
       "           2.86881484],\n",
       "        [  0.        ,   0.        ,   1.        ,   0.37284209,\n",
       "           2.86881484],\n",
       "        [  0.        ,   0.        ,   2.        ,   0.37518328,\n",
       "           2.86881484],\n",
       "        ..., \n",
       "        [  0.        ,  99.        ,  97.        ,   0.33998986,\n",
       "           2.86881484],\n",
       "        [  0.        ,  99.        ,  98.        ,   0.34061565,\n",
       "           2.86881484],\n",
       "        [  0.        ,  99.        ,  99.        ,   0.34099513,\n",
       "           2.86881484]])}"
      ]
     },
     "execution_count": 203,
     "metadata": {},
     "output_type": "execute_result"
    }
   ],
   "source": [
    "# base_well_data\n",
    "#rch_data\n",
    "ghb_data"
   ]
  },
  {
   "cell_type": "code",
   "execution_count": 204,
   "metadata": {
    "collapsed": true
   },
   "outputs": [],
   "source": [
    "# swi2 data\n",
    "nadptmx = 10\n",
    "nadptmn = 1\n",
    "nu = [0, 0.025] #approximates 50% line\n",
    "numult = 0.250\n",
    "toeslope = nu[1] / numult  #0.1\n",
    "tipslope = nu[1] / numult  #0.1\n",
    "z1 = 0.0 * np.ones((nrow, ncol))\n",
    "z1[index == 0] = -1 #not estimated via ghyben-herzberg\n",
    "z = np.array([[z1,z1,z1]])\n",
    "iso = np.zeros((nlay, nrow, ncol), dtype=np.int) #Sources and sinks have \n",
    "# the same fluid density as the active zone at the top of the aquifer\n",
    "iso[0, :, :][index == 0] = 1 # Sources and sinks have the same fluid density \n",
    "#as the zone ISOURCE. If such a zone is not present in the cell,\n",
    "#sources and sinks have the same fluid density as the active zone at the top of the aquifer.\n",
    "\n",
    "iso[0, :, :][index == 1] = -2 # Sources have same fluid density as\n",
    "#the zone with a number equal to the absolute value of ISOURCE. Sinks have the same fluid density as\n",
    "# the active zone at the top of the aquifer.\n",
    "\n",
    "ssz=0.0014 \n",
    "#ssz=0.0014 # borrowed from Carleton, Welty, and Buxton 1999\n",
    "# swi2 observations\n",
    "#obsnam = ['layer1_', 'layer2_']\n",
    "#obslrc=[[0, 30, 35],[1,30,35], ]\n",
    "#nobs = len(obsnam)\n",
    "#iswiobs = 1051"
   ]
  },
  {
   "cell_type": "code",
   "execution_count": 205,
   "metadata": {},
   "outputs": [
    {
     "data": {
      "text/plain": [
       "(1, 3, 100, 100)"
      ]
     },
     "execution_count": 205,
     "metadata": {},
     "output_type": "execute_result"
    }
   ],
   "source": [
    "iso.shape\n",
    "z.shape\n",
    "#type(z)"
   ]
  },
  {
   "cell_type": "markdown",
   "metadata": {},
   "source": [
    "Create output control (OC) data using words "
   ]
  },
  {
   "cell_type": "code",
   "execution_count": 206,
   "metadata": {
    "collapsed": true
   },
   "outputs": [],
   "source": [
    "# oc data\n",
    "# spd = {(0,199): ['print budget', 'save head'],\n",
    "#        (0,200): [],\n",
    "#        (0,399): ['print budget', 'save head'],\n",
    "#        (0,400): [],\n",
    "#        (0,599): ['print budget', 'save head'],\n",
    "#        (0,600): [],\n",
    "#        (0,799): ['print budget', 'save head'],\n",
    "#        (0,800): [],\n",
    "#        (0,999): ['print budget', 'save head'],\n",
    "#        (1,0): [],\n",
    "#        (1,59): ['print budget', 'save head'],\n",
    "#        (1,60): [],\n",
    "#        (1,119): ['print budget', 'save head'],\n",
    "#        (1,120): [],\n",
    "#        (2,0): [],\n",
    "#        (2,59): ['print budget', 'save head'],\n",
    "#        (2,60): [],\n",
    "#        (2,119): ['print budget', 'save head'],\n",
    "#        (2,120): [],\n",
    "#        (2,179): ['print budget', 'save head']}\n",
    "\n",
    "spd = {(0,99): ['print budget', 'save head'],\n",
    "       (0,100): [],\n",
    "       (0,199): ['print budget', 'save head'],\n",
    "       (0,200): [],\n",
    "       (0,299): ['print budget', 'save head'],\n",
    "       (0,300): [],\n",
    "       (0,399): ['print budget', 'save head'],\n",
    "       (0,400): [],\n",
    "       (0,499): ['print budget', 'save head'],\n",
    "       (0,500): [],\n",
    "       (0,599): ['print budget', 'save head'],\n",
    "       (0,600): [],\n",
    "       (0,699): ['print budget', 'save head'],\n",
    "       (0,700): [],\n",
    "       (0,799): ['print budget', 'save head'],\n",
    "       (0,800): [],\n",
    "       (0,899): ['print budget', 'save head'],\n",
    "       (0,900): [],\n",
    "       (0,999): ['print budget', 'save head'],\n",
    "       (1,0): [],\n",
    "       (1,91): ['print budget', 'save head'],\n",
    "       (1,92): [],\n",
    "       (2,0): [],\n",
    "       (2,272): ['print budget', 'save head'],\n",
    "       (2,273): [],\n",
    "       (3,0): [],\n",
    "       (3,91): ['print budget', 'save head'],\n",
    "       (3,92): [],\n",
    "       (4,0): [],\n",
    "       (4,272): ['print budget', 'save head'],\n",
    "       (2,273): [],\n",
    "       (5,0): [],\n",
    "       (5,91): ['print budget', 'save head']}"
   ]
  },
  {
   "cell_type": "code",
   "execution_count": 207,
   "metadata": {
    "collapsed": true
   },
   "outputs": [],
   "source": [
    "sr = SpatialReference(delr=delr, delc=delc, xll=xll, yll=yll, rotation=rot, epsg=model_epsg, units = 'feet', lenuni = 1)"
   ]
  },
  {
   "cell_type": "markdown",
   "metadata": {},
   "source": [
    "Create the model with the freshwater well (Simulation 1)"
   ]
  },
  {
   "cell_type": "code",
   "execution_count": 208,
   "metadata": {},
   "outputs": [],
   "source": [
    "modelname = 'swifogland_s1'\n",
    "ml = flopy.modflow.Modflow(modelname, version='mf2005', exe_name=exe_name, model_ws=workspace)\n",
    "\n",
    "\n",
    "\n",
    "discret = flopy.modflow.ModflowDis(ml, nlay=nlay, nrow=nrow, ncol=ncol, laycbd=0,\n",
    "                                   delr=delr, delc=delc, top=lay1topfud, botm=botm,\n",
    "                                   nper=nper, perlen=perlen, nstp=nstp, lenuni = 1, xul = 2500, yul = 2500,\n",
    "                                  steady=steady)\n",
    "\n",
    "\n",
    "bas = flopy.modflow.ModflowBas(ml, ibound=ibound, strt=ihead)\n",
    "lpf = flopy.modflow.ModflowLpf(ml, laytyp=laytyp, hk=hk, vka=vka, sy=sy, ss=ss)\n",
    "wel = flopy.modflow.ModflowWel(ml, stress_period_data=base_well_data)\n",
    "ghb = flopy.modflow.ModflowGhb(ml, stress_period_data=ghb_data)\n",
    "rch = flopy.modflow.ModflowRch(ml, rech=rch_data)\n",
    "swi = flopy.modflow.ModflowSwi2(ml, nsrf=1, istrat=1, toeslope=toeslope, tipslope=tipslope, nu=nu, \n",
    "                                alpha = 0.1, zeta=z, ssz=ssz, isource=iso, nsolver=2, nadptmx=nadptmx, nadptmn=nadptmn,\n",
    "                                iswizt=55) \n",
    "oc = flopy.modflow.ModflowOc(ml, stress_period_data=spd)\n",
    "pcg = flopy.modflow.ModflowPcg(ml, hclose=1.0e-6, rclose=3.0e-3, mxiter=100, iter1=50)"
   ]
  },
  {
   "cell_type": "markdown",
   "metadata": {},
   "source": [
    "Look at the model"
   ]
  },
  {
   "cell_type": "code",
   "execution_count": 209,
   "metadata": {},
   "outputs": [
    {
     "data": {
      "image/png": "[encoded data removed]",
      "text/plain": [
       "<matplotlib.figure.Figure at 0x7f3095db16a0>"
      ]
     },
     "metadata": {
      "image/png": {
       "height": 467,
       "width": 496
      }
     },
     "output_type": "display_data"
    }
   ],
   "source": [
    "fig = plt.figure(figsize=(8, 8))\n",
    "ax = fig.add_subplot(1, 1, 1, aspect='equal')\n",
    "modelmap = flopy.plot.ModelMap(sr=sr, model=ml)\n",
    "quadmesh = modelmap.plot_ibound()\n",
    "linecollection = modelmap.plot_grid()"
   ]
  },
  {
   "cell_type": "markdown",
   "metadata": {},
   "source": [
    "Write the simulation 1 MODFLOW input files and run the model"
   ]
  },
  {
   "cell_type": "code",
   "execution_count": 210,
   "metadata": {
    "collapsed": true
   },
   "outputs": [],
   "source": [
    "ml.sr = SpatialReference(delr=delr, delc=delc, xll=xll, yll=yll, rotation=rot, epsg=model_epsg, units = 'feet', lenuni = 1)\n"
   ]
  },
  {
   "cell_type": "code",
   "execution_count": 211,
   "metadata": {
    "collapsed": true
   },
   "outputs": [],
   "source": [
    "ml.write_input()"
   ]
  },
  {
   "cell_type": "code",
   "execution_count": 212,
   "metadata": {},
   "outputs": [
    {
     "data": {
      "text/plain": [
       "xul:403877; yul:175413; rotation:0; proj4_str:+proj=tmerc +lat_0=41.08333333333334 +lon_0=-71.5 +k=0.99999375 +x_0=99999.99998983997 +y_0=0 +ellps=GRS80 +towgs84=0,0,0,0,0,0,0 +to_meter=0.3048006096012192 +no_defs ; units:feet; lenuni:1; length_multiplier:1.0"
      ]
     },
     "execution_count": 212,
     "metadata": {},
     "output_type": "execute_result"
    }
   ],
   "source": [
    "ml.sr"
   ]
  },
  {
   "cell_type": "code",
   "execution_count": 213,
   "metadata": {},
   "outputs": [
    {
     "data": {
      "text/plain": [
       "(403877.0, 172913.0, 406377.0, 175413.0)"
      ]
     },
     "execution_count": 213,
     "metadata": {},
     "output_type": "execute_result"
    }
   ],
   "source": [
    "ml.sr.bounds"
   ]
  },
  {
   "cell_type": "code",
   "execution_count": 214,
   "metadata": {
    "collapsed": true
   },
   "outputs": [],
   "source": [
    "import timeit"
   ]
  },
  {
   "cell_type": "code",
   "execution_count": 215,
   "metadata": {},
   "outputs": [
    {
     "name": "stdout",
     "output_type": "stream",
     "text": [
      "(False, [])\n"
     ]
    }
   ],
   "source": [
    "start_time = timeit.default_timer()\n",
    "print(ml.run_model(silent=True))\n",
    "elapsed = timeit.default_timer() - start_time"
   ]
  },
  {
   "cell_type": "code",
   "execution_count": 216,
   "metadata": {
    "scrolled": false
   },
   "outputs": [
    {
     "name": "stdout",
     "output_type": "stream",
     "text": [
      "16.815333468999597\n"
     ]
    }
   ],
   "source": [
    "print(elapsed)"
   ]
  },
  {
   "cell_type": "markdown",
   "metadata": {},
   "source": [
    "Load the simulation 1 `ZETA` data and `ZETA` observations."
   ]
  },
  {
   "cell_type": "code",
   "execution_count": 217,
   "metadata": {},
   "outputs": [
    {
     "ename": "IndexError",
     "evalue": "index 0 is out of bounds for axis 0 with size 0",
     "output_type": "error",
     "traceback": [
      "\u001b[0;31m---------------------------------------------------------------------------\u001b[0m",
      "\u001b[0;31mIndexError\u001b[0m                                Traceback (most recent call last)",
      "\u001b[0;32m<ipython-input-217-2205ddc1f774>\u001b[0m in \u001b[0;36m<module>\u001b[0;34m()\u001b[0m\n\u001b[1;32m      1\u001b[0m \u001b[0;31m# read base model zeta\u001b[0m\u001b[0;34m\u001b[0m\u001b[0;34m\u001b[0m\u001b[0m\n\u001b[0;32m----> 2\u001b[0;31m \u001b[0mzfile\u001b[0m \u001b[0;34m=\u001b[0m \u001b[0mflopy\u001b[0m\u001b[0;34m.\u001b[0m\u001b[0mutils\u001b[0m\u001b[0;34m.\u001b[0m\u001b[0mCellBudgetFile\u001b[0m\u001b[0;34m(\u001b[0m\u001b[0mos\u001b[0m\u001b[0;34m.\u001b[0m\u001b[0mpath\u001b[0m\u001b[0;34m.\u001b[0m\u001b[0mjoin\u001b[0m\u001b[0;34m(\u001b[0m\u001b[0mml\u001b[0m\u001b[0;34m.\u001b[0m\u001b[0mmodel_ws\u001b[0m\u001b[0;34m,\u001b[0m \u001b[0mmodelname\u001b[0m\u001b[0;34m+\u001b[0m\u001b[0;34m'.zta'\u001b[0m\u001b[0;34m)\u001b[0m\u001b[0;34m)\u001b[0m\u001b[0;34m\u001b[0m\u001b[0m\n\u001b[0m\u001b[1;32m      3\u001b[0m \u001b[0mkstpkper\u001b[0m \u001b[0;34m=\u001b[0m \u001b[0mzfile\u001b[0m\u001b[0;34m.\u001b[0m\u001b[0mget_kstpkper\u001b[0m\u001b[0;34m(\u001b[0m\u001b[0;34m)\u001b[0m\u001b[0;34m\u001b[0m\u001b[0m\n\u001b[1;32m      4\u001b[0m \u001b[0mzeta\u001b[0m \u001b[0;34m=\u001b[0m \u001b[0;34m[\u001b[0m\u001b[0;34m]\u001b[0m\u001b[0;34m\u001b[0m\u001b[0m\n\u001b[1;32m      5\u001b[0m \u001b[0;32mfor\u001b[0m \u001b[0mkk\u001b[0m \u001b[0;32min\u001b[0m \u001b[0mkstpkper\u001b[0m\u001b[0;34m:\u001b[0m\u001b[0;34m\u001b[0m\u001b[0m\n",
      "\u001b[0;32m~/Documents/Fogland/conda/lib/python3.6/site-packages/flopy/utils/binaryfile.py\u001b[0m in \u001b[0;36m__init__\u001b[0;34m(self, filename, precision, verbose, **kwargs)\u001b[0m\n\u001b[1;32m    572\u001b[0m \u001b[0;34m\u001b[0m\u001b[0m\n\u001b[1;32m    573\u001b[0m         \u001b[0;31m# read through the file and build the pointer index\u001b[0m\u001b[0;34m\u001b[0m\u001b[0;34m\u001b[0m\u001b[0m\n\u001b[0;32m--> 574\u001b[0;31m         \u001b[0mself\u001b[0m\u001b[0;34m.\u001b[0m\u001b[0m_build_index\u001b[0m\u001b[0;34m(\u001b[0m\u001b[0;34m)\u001b[0m\u001b[0;34m\u001b[0m\u001b[0m\n\u001b[0m\u001b[1;32m    575\u001b[0m \u001b[0;34m\u001b[0m\u001b[0m\n\u001b[1;32m    576\u001b[0m         \u001b[0;31m# allocate the value array\u001b[0m\u001b[0;34m\u001b[0m\u001b[0;34m\u001b[0m\u001b[0m\n",
      "\u001b[0;32m~/Documents/Fogland/conda/lib/python3.6/site-packages/flopy/utils/binaryfile.py\u001b[0m in \u001b[0;36m_build_index\u001b[0;34m(self)\u001b[0m\n\u001b[1;32m    605\u001b[0m         \u001b[0mto\u001b[0m \u001b[0mthe\u001b[0m \u001b[0mposition\u001b[0m \u001b[0;32min\u001b[0m \u001b[0mthe\u001b[0m \u001b[0mbinary\u001b[0m \u001b[0mfile\u001b[0m\u001b[0;34m.\u001b[0m\u001b[0;34m\u001b[0m\u001b[0m\n\u001b[1;32m    606\u001b[0m         \"\"\"\n\u001b[0;32m--> 607\u001b[0;31m         \u001b[0mheader\u001b[0m \u001b[0;34m=\u001b[0m \u001b[0mself\u001b[0m\u001b[0;34m.\u001b[0m\u001b[0m_get_header\u001b[0m\u001b[0;34m(\u001b[0m\u001b[0;34m)\u001b[0m\u001b[0;34m\u001b[0m\u001b[0m\n\u001b[0m\u001b[1;32m    608\u001b[0m         \u001b[0mself\u001b[0m\u001b[0;34m.\u001b[0m\u001b[0mnrow\u001b[0m \u001b[0;34m=\u001b[0m \u001b[0mheader\u001b[0m\u001b[0;34m[\u001b[0m\u001b[0;34m\"nrow\"\u001b[0m\u001b[0;34m]\u001b[0m\u001b[0;34m\u001b[0m\u001b[0m\n\u001b[1;32m    609\u001b[0m         \u001b[0mself\u001b[0m\u001b[0;34m.\u001b[0m\u001b[0mncol\u001b[0m \u001b[0;34m=\u001b[0m \u001b[0mheader\u001b[0m\u001b[0;34m[\u001b[0m\u001b[0;34m\"ncol\"\u001b[0m\u001b[0;34m]\u001b[0m\u001b[0;34m\u001b[0m\u001b[0m\n",
      "\u001b[0;32m~/Documents/Fogland/conda/lib/python3.6/site-packages/flopy/utils/binaryfile.py\u001b[0m in \u001b[0;36m_get_header\u001b[0;34m(self)\u001b[0m\n\u001b[1;32m    767\u001b[0m                                dtype=self.header2_dtype)\n\u001b[1;32m    768\u001b[0m         \u001b[0mfullheader\u001b[0m \u001b[0;34m=\u001b[0m \u001b[0mjoin_struct_arrays\u001b[0m\u001b[0;34m(\u001b[0m\u001b[0;34m[\u001b[0m\u001b[0mheader1\u001b[0m\u001b[0;34m,\u001b[0m \u001b[0mheader2\u001b[0m\u001b[0;34m]\u001b[0m\u001b[0;34m)\u001b[0m\u001b[0;34m\u001b[0m\u001b[0m\n\u001b[0;32m--> 769\u001b[0;31m         \u001b[0;32mreturn\u001b[0m \u001b[0mfullheader\u001b[0m\u001b[0;34m[\u001b[0m\u001b[0;36m0\u001b[0m\u001b[0;34m]\u001b[0m\u001b[0;34m\u001b[0m\u001b[0m\n\u001b[0m\u001b[1;32m    770\u001b[0m \u001b[0;34m\u001b[0m\u001b[0m\n\u001b[1;32m    771\u001b[0m     \u001b[0;32mdef\u001b[0m \u001b[0m_find_text\u001b[0m\u001b[0;34m(\u001b[0m\u001b[0mself\u001b[0m\u001b[0;34m,\u001b[0m \u001b[0mtext\u001b[0m\u001b[0;34m)\u001b[0m\u001b[0;34m:\u001b[0m\u001b[0;34m\u001b[0m\u001b[0m\n",
      "\u001b[0;31mIndexError\u001b[0m: index 0 is out of bounds for axis 0 with size 0"
     ]
    }
   ],
   "source": [
    "# read base model zeta\n",
    "zfile = flopy.utils.CellBudgetFile(os.path.join(ml.model_ws, modelname+'.zta'))\n",
    "kstpkper = zfile.get_kstpkper()\n",
    "zeta = []\n",
    "for kk in kstpkper:\n",
    "    zeta.append(zfile.get_data(kstpkper=kk, text='ZETASRF  1')[0])\n",
    "zeta = np.array(zeta)\n",
    "# read swi obs\n",
    "#zobs = np.genfromtxt(os.path.join(ml.model_ws, modelname+'.zobs.out'), names=True)"
   ]
  },
  {
   "cell_type": "code",
   "execution_count": null,
   "metadata": {},
   "outputs": [],
   "source": [
    "zeta.shape"
   ]
  },
  {
   "cell_type": "markdown",
   "metadata": {},
   "source": [
    "Create arrays for the x-coordinates and the output years"
   ]
  },
  {
   "cell_type": "code",
   "execution_count": null,
   "metadata": {
    "collapsed": true
   },
   "outputs": [],
   "source": [
    "x = np.linspace(-1250, 1250, 100)\n",
    "xcell = np.linspace(-1250, 1250, 100) + delr / 2.\n",
    "xedge = np.linspace(-1225, 1225, 101)\n",
    "years = [20, 40, 60, 80, 100, 120, 140, 160, 180, 200, 0.25, 1, 1.25, 2, 2.25]"
   ]
  },
  {
   "cell_type": "markdown",
   "metadata": {},
   "source": [
    "Define figure dimensions and colors used for plotting `ZETA` surfaces"
   ]
  },
  {
   "cell_type": "code",
   "execution_count": null,
   "metadata": {
    "collapsed": true
   },
   "outputs": [],
   "source": [
    "# figure dimensions\n",
    "fwid, fhgt = 8.00, 5.50\n",
    "flft, frgt, fbot, ftop = 0.125, 0.95, 0.125, 0.925\n",
    "\n",
    "# line color definition\n",
    "icolor = 15\n",
    "colormap = plt.cm.jet  #winter\n",
    "cc = []\n",
    "cr = np.linspace(0.9, 0.0, icolor)\n",
    "for idx in cr:\n",
    "    cc.append(colormap(idx))"
   ]
  },
  {
   "cell_type": "code",
   "execution_count": null,
   "metadata": {},
   "outputs": [],
   "source": [
    "icolor\n",
    "cr"
   ]
  },
  {
   "cell_type": "code",
   "execution_count": null,
   "metadata": {},
   "outputs": [],
   "source": [
    "fig = plt.figure(figsize=(12, 3))\n",
    "ax = fig.add_subplot(1, 1, 1)\n",
    "\n",
    "# Next we create an instance of the ModelCrossSection class\n",
    "modelxsect = flopy.plot.ModelCrossSection(model=ml, line={'Column': 5})\n",
    "\n",
    "# Then we can use the plot_grid() method to draw the grid\n",
    "# The return value for this function is a matplotlib LineCollection object,\n",
    "# which could be manipulated (or used) later if necessary.\n",
    "linecollection = modelxsect.plot_grid()\n",
    "t = ax.set_title('Column 6 Cross-Section - Model Grid')\n",
    "ax.set_ylim(-220,10)"
   ]
  },
  {
   "cell_type": "code",
   "execution_count": null,
   "metadata": {},
   "outputs": [],
   "source": [
    "fig = plt.figure(figsize=(12, 3))\n",
    "ax = fig.add_subplot(1, 1, 1)\n",
    "\n",
    "# Next we create an instance of the ModelCrossSection class\n",
    "modelxsect = flopy.plot.ModelCrossSection(model=ml, line={'Row': 50})\n",
    "\n",
    "# Then we can use the plot_grid() method to draw the grid\n",
    "# The return value for this function is a matplotlib LineCollection object,\n",
    "# which could be manipulated (or used) later if necessary.\n",
    "linecollection = modelxsect.plot_grid()\n",
    "t = ax.set_title('Column 6 Cross-Section - Model Grid')\n",
    "ax.set_ylim(-220,10)"
   ]
  },
  {
   "cell_type": "code",
   "execution_count": null,
   "metadata": {},
   "outputs": [],
   "source": [
    "fname = os.path.join('./data/swifogland_s1.hds')\n",
    "hdobj = flopy.utils.HeadFile(fname)\n",
    "head = hdobj.get_data()\n",
    "levels = np.arange(-5,10,.5)\n",
    "\n",
    "fig = plt.figure(figsize=(20, 20))\n",
    "\n",
    "ax = fig.add_subplot(2, 1, 1, aspect='equal')\n",
    "ax.set_title('Fogland Point, Hydraulic heads at the end of 202.25 years'\n",
    "             '\\nRecharge conditions of 200 years of 0.00479 feet/day followed by scenario 3 pumping')\n",
    "modelmap = flopy.plot.ModelMap(model=ml)\n",
    "quadmesh = modelmap.plot_ibound()\n",
    "quadmesh = modelmap.plot_array(head, masked_values=[999., -9.99989990e+02], alpha=0.5,)\n",
    "modelmap.plot_bc(\"GHB\")\n",
    "linecollection = modelmap.plot_grid(linewidth=0.5)\n",
    "cb = fig.colorbar(quadmesh, ax = ax)\n",
    "cb.set_label('Hydraulic head, feet above MSL')\n",
    "modelmap.plot_bc(\"WEL\", plotAll=True)\n",
    "ax.plot([403877, 406377], [174163, 174163], color='k', linewidth=1.0)\n",
    "ax.text(0.6, .52, 'row 50, ZETA Surface cross section', transform=ax.transAxes, va='top', ha='left', size='11')\n",
    "\n",
    "ax.set_xlabel('feet')\n",
    "ax.set_ylabel('feet')\n",
    "\n",
    "\n",
    "# ax = fig.add_subplot(2, 1, 2, aspect='equal')\n",
    "# ax.set_title('contour_array()')\n",
    "# modelmap = flopy.plot.ModelMap(model=ml)\n",
    "# quadmesh = modelmap.plot_ibound()\n",
    "# #modelmap.plot_bc(\"WEL\")\n",
    "# contour_set = modelmap.contour_array(head, masked_values=[999., -9.99989990e+02], levels=levels)\n",
    "# linecollection = modelmap.plot_grid()\n",
    "# cb = fig.colorbar(quadmesh, ax = ax)\n"
   ]
  },
  {
   "cell_type": "code",
   "execution_count": null,
   "metadata": {
    "collapsed": true
   },
   "outputs": [],
   "source": [
    "#levels\n",
    "#head"
   ]
  },
  {
   "cell_type": "markdown",
   "metadata": {},
   "source": [
    "Recreate **Figure 9** from the [SWI2 documentation](http://pubs.usgs.gov/tm/6a46/).  \n",
    "\n",
    "A cross section showing results along the centerline of the island through the wells is shown in figure 9. The position of the interface is shown at 40-year increments for stress period 1, during development of the freshwater lens (fig. 9A). After 200 years, the interface approaches the steady-state position. The position of the interface for simulation 1 is shown at 6-year increments in figure 9B. In simulation 1, the interface\n",
    "moves into the upper layer after approximately 14 years. The position of the interface for simulation 2 is shown at 6-year increments in figure 9C. During the first 12 years of groundwater withdrawals, the position of the interface is identical for simulations 1 and 2. After 12 years, the saltwater well begins pumping saltwater from the lower aquifer (model layer 2) and the progression of the upconing of the interface is reduced. The position of the interface in the aquifer over time is shown for simulations 1 and 2 in the cells containing the freshwater and saltwater wells (row 31, column 36) in figure 9D. Simulation results are identical during the first 12 years, because groundwater withdrawals are the same in both simulations. Addition of the saltwater well causes an initial decrease in the interface elevation and an eventual increase in the interface elevation, although the rate of upward movement of the interface is less in the simulation with both the freshwater and\n",
    "saltwater wells than the simulation with only the freshwater well."
   ]
  },
  {
   "cell_type": "code",
   "execution_count": null,
   "metadata": {
    "scrolled": false
   },
   "outputs": [],
   "source": [
    "plt.rcParams.update({'legend.fontsize': 8, 'legend.frameon' : False})\n",
    "#fig = plt.figure(figsize=(fwid, fhgt), facecolor='w')\n",
    "fig = plt.figure(figsize=(10, 15), facecolor='w')\n",
    "fig.subplots_adjust(wspace=0.25, hspace=0.25, left=flft, right=frgt, bottom=fbot, top=ftop)\n",
    "# first plot\n",
    "ax = fig.add_subplot(1,1,1)\n",
    "# axes limits\n",
    "#ax.set_xlim(-1500, 1500)\n",
    "ax.set_ylim(-220, 10)\n",
    "for idx in range(15):\n",
    "    # layer 1\n",
    "    ax.plot(xcell, zeta[idx, 0, 50, :], drawstyle='steps-mid', \n",
    "            linewidth=0.5, color=cc[idx], label='{:2f} years'.format(years[idx]))\n",
    "    # layer 2\n",
    "    ax.plot(xcell, zeta[idx, 1, 50, :], drawstyle='steps-mid',\n",
    "            linewidth=0.5, color=cc[idx], label='_None')\n",
    "    # layer 3\n",
    "    ax.plot(xcell, zeta[idx, 2, 50, :], drawstyle='steps-mid',\n",
    "            linewidth=0.5, color=cc[idx], label='_None')\n",
    "\n",
    "ax.plot([-1500, 1500], [-43, -43], color='k', linewidth=1.0)\n",
    "ax.plot([-1500, 1500], [-90, -90], color='k', linewidth=1.0)\n",
    "\n",
    "# legend\n",
    "plt.legend(loc='lower left')\n",
    "# axes labels and text\n",
    "ax.set_xlabel('Horizontal distance, in feet')\n",
    "ax.set_ylabel('Elevation, in feet')\n",
    "ax.text(0.025, .85, 'Layer 1', transform=ax.transAxes, va='top', ha='left', size='7')\n",
    "ax.text(0.025, .68, 'Layer 2', transform=ax.transAxes, va='top', ha='left', size='7')\n",
    "ax.text(0.025, .5, 'Layer 3', transform=ax.transAxes, va='top', ha='left', size='7')\n",
    "\n",
    "\n",
    "ax.text(0.975, .1, 'Recharge conditions', transform=ax.transAxes, va='center', ha='right', size='8')\n",
    "ax.set_title('Fogland Point, row 50, ZETA Surface, 50% seawater salinity at the end of 202.25 years'\n",
    "             '\\nRecharge conditions of 200 years of 0.00479 feet/day followed by scenario 3 pumping')"
   ]
  },
  {
   "cell_type": "code",
   "execution_count": null,
   "metadata": {},
   "outputs": [],
   "source": [
    "plt.rcParams.update({'legend.fontsize': 6, 'legend.frameon' : False})\n",
    "#fig = plt.figure(figsize=(fwid, fhgt), facecolor='w')\n",
    "fig = plt.figure(figsize=(20, 10), facecolor='w')\n",
    "fig.subplots_adjust(wspace=0.25, hspace=0.25, left=flft, right=frgt, bottom=fbot, top=ftop)\n",
    "fig\n",
    "# first plot\n",
    "ax = fig.add_subplot(2, 2, 1)\n",
    "# axes limits\n",
    "#ax.set_xlim(-1500, 1500)\n",
    "#ax.set_ylim(-50, -10)\n",
    "for idx in range(4):\n",
    "    # layer 1\n",
    "    ax.plot(xcell, zeta[idx, 0, 50, :], drawstyle='steps-mid', \n",
    "            linewidth=0.5, color=cc[idx], label='{:2d} years'.format(years[idx]))\n",
    "    # layer 2\n",
    "    ax.plot(xcell, zeta[idx, 1, 50, :], drawstyle='steps-mid',\n",
    "            linewidth=0.5, color=cc[idx], label='_None')\n",
    "ax.plot([-1500, 1500], [-43, -43], color='k', linewidth=1.0)\n",
    "# legend\n",
    "plt.legend(loc='lower left')\n",
    "# axes labels and text\n",
    "ax.set_xlabel('Horizontal distance, in meters')\n",
    "ax.set_ylabel('Elevation, in meters')\n",
    "ax.text(0.025, .75, 'Layer 1', transform=ax.transAxes, va='center', ha='left', size='7')\n",
    "ax.text(0.025, .45, 'Layer 2', transform=ax.transAxes, va='center', ha='left', size='7')\n",
    "ax.text(0.975, .1, 'Recharge conditions', transform=ax.transAxes, va='center', ha='right', size='8')\n",
    "\n",
    "# second plot\n",
    "ax = fig.add_subplot(2, 2, 2)\n",
    "# axes limits\n",
    "#ax.set_xlim(-1500, 1500)\n",
    "#ax.set_ylim(-50, -10)\n",
    "for idx in range(5, len(years)):\n",
    "    # layer 1\n",
    "    ax.plot(xcell, zeta[idx, 0, 50, :], drawstyle='steps-mid', \n",
    "            linewidth=0.5, color=cc[idx-5], label='{:2d} years'.format(years[idx]))\n",
    "    # layer 2\n",
    "    ax.plot(xcell, zeta[idx, 1, 50, :], drawstyle='steps-mid',\n",
    "            linewidth=0.5, color=cc[idx-5], label='_None')\n",
    "ax.plot([-1500, 1500], [-43, -43], color='k', linewidth=1.0)\n",
    "# legend\n",
    "plt.legend(loc='lower left')\n",
    "# axes labels and text\n",
    "ax.set_xlabel('Horizontal distance, in meters')\n",
    "ax.set_ylabel('Elevation, in meters')\n",
    "ax.text(0.025, .75, 'Layer 1', transform=ax.transAxes, va='center', ha='left', size='7')\n",
    "ax.text(0.025, .45, 'Layer 2', transform=ax.transAxes, va='center', ha='left', size='7')\n",
    "ax.text(0.975, .1, 'Freshwater well withdrawal', transform=ax.transAxes, va='center', ha='right', size='8')"
   ]
  },
  {
   "cell_type": "markdown",
   "metadata": {},
   "source": [
    "Use `ModelCrossSection` plotting class and `plot_fill_between()` method to fill between zeta surfaces."
   ]
  },
  {
   "cell_type": "code",
   "execution_count": null,
   "metadata": {},
   "outputs": [],
   "source": [
    "fig = plt.figure(figsize=(fwid, fhgt/2))\n",
    "fig.subplots_adjust(wspace=0.25, hspace=0.25, left=flft, right=frgt, bottom=fbot, top=ftop)\n",
    "\n",
    "colors = ['#40d3f7', '#F76541']\n",
    "\n",
    "ax = fig.add_subplot(1, 2, 1)\n",
    "modelxsect = flopy.plot.ModelCrossSection(model=ml, line={'Row': 50})\n",
    "#, \n",
    "#                                          extent=(0, 3050, -50, -10))\n",
    "modelxsect.plot_fill_between(zeta[10, :, :, :], colors=colors, ax=ax,\n",
    "                              edgecolors='none')\n",
    "linecollection = modelxsect.plot_grid(ax=ax)\n",
    "ax.set_title('Recharge year {}'.format(years[9]));\n",
    "\n",
    "ax = fig.add_subplot(1, 2, 2)\n",
    "#ax.set_xlim(0, 3050)\n",
    "#ax.set_ylim(-50, -10)\n",
    "modelxsect.plot_fill_between(zeta[-1, :, :, :], colors=colors, ax=ax)\n",
    "linecollection = modelxsect.plot_grid(ax=ax)\n",
    "ax.set_title('Scenario year {}'.format(years[-1]));"
   ]
  },
  {
   "cell_type": "code",
   "execution_count": null,
   "metadata": {},
   "outputs": [],
   "source": [
    "#print(head)\n",
    "np.max(head)"
   ]
  },
  {
   "cell_type": "code",
   "execution_count": null,
   "metadata": {},
   "outputs": [],
   "source": [
    "zeta.shape"
   ]
  },
  {
   "cell_type": "code",
   "execution_count": 218,
   "metadata": {},
   "outputs": [
    {
     "data": {
      "text/plain": [
       "'/home/sbhgeo/Documents/Fogland/Notebooks/FoglandPumping'"
      ]
     },
     "execution_count": 218,
     "metadata": {},
     "output_type": "execute_result"
    }
   ],
   "source": [
    "%pwd"
   ]
  },
  {
   "cell_type": "code",
   "execution_count": null,
   "metadata": {
    "collapsed": true
   },
   "outputs": [],
   "source": []
  },
  {
   "cell_type": "code",
   "execution_count": null,
   "metadata": {
    "collapsed": true
   },
   "outputs": [],
   "source": []
  }
 ],
 "metadata": {
  "anaconda-cloud": {},
  "celltoolbar": "Raw Cell Format",
  "kernelspec": {
   "display_name": "Python [default]",
   "language": "python",
   "name": "python3"
  },
  "language_info": {
   "codemirror_mode": {
    "name": "ipython",
    "version": 3
   },
   "file_extension": ".py",
   "mimetype": "text/x-python",
   "name": "python",
   "nbconvert_exporter": "python",
   "pygments_lexer": "ipython3",
   "version": "3.6.2"
  }
 },
 "nbformat": 4,
 "nbformat_minor": 1
}
