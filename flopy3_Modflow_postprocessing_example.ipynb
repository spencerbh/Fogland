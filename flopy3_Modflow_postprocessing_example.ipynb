{
 "cells": [
  {
   "cell_type": "markdown",
   "metadata": {},
   "source": [
    "## This example shows some utilties for post-processing head results from MODFLOW"
   ]
  },
  {
   "cell_type": "code",
   "execution_count": 11,
   "metadata": {},
   "outputs": [],
   "source": [
    "import os\n",
    "import sys\n",
    "import numpy as np\n",
    "import matplotlib.pyplot as plt\n",
    "\n",
    "# run installed version of flopy or add local path\n",
    "try:\n",
    "    import flopy\n",
    "except:\n",
    "    fpth = os.path.abspath(os.path.join('..', '..'))\n",
    "    sys.path.append(fpth)\n",
    "    import flopy\n",
    "    \n",
    "from flopy.utils.postprocessing import get_transmissivities, get_water_table, get_gradients, get_saturated_thickness\n",
    "import flopy.utils.binaryfile as bf\n",
    "\n",
    "%matplotlib inline\n",
    "fm = flopy.modflow"
   ]
  },
  {
   "cell_type": "code",
   "execution_count": 12,
   "metadata": {},
   "outputs": [
    {
     "data": {
      "text/plain": [
       "'/home/zonas/Documents/Projects/foglandpoint/FloPy/Notebooks/Fogland'"
      ]
     },
     "execution_count": 12,
     "metadata": {},
     "output_type": "execute_result"
    }
   ],
   "source": [
    "%pwd"
   ]
  },
  {
   "cell_type": "code",
   "execution_count": 13,
   "metadata": {
    "collapsed": true
   },
   "outputs": [],
   "source": [
    "mfnam = 'swifogland_s1.nam'\n",
    "model_ws = './data/'\n",
    "heads_file = 'swifogland_s1.hds'"
   ]
  },
  {
   "cell_type": "markdown",
   "metadata": {},
   "source": [
    "### Load example model and head results"
   ]
  },
  {
   "cell_type": "code",
   "execution_count": 14,
   "metadata": {},
   "outputs": [
    {
     "name": "stderr",
     "output_type": "stream",
     "text": [
      "/home/zonas/anaconda3/lib/python3.6/site-packages/numpy/core/records.py:507: FutureWarning: Numpy has detected that you may be viewing or writing to an array returned by selecting multiple fields in a structured array. \n",
      "\n",
      "This code may break in numpy 1.13 because this will return a view instead of a copy -- see release notes for details.\n",
      "  return obj.view(dtype=(self.dtype.type, obj.dtype))\n"
     ]
    }
   ],
   "source": [
    "m = fm.Modflow.load(mfnam, model_ws=model_ws)"
   ]
  },
  {
   "cell_type": "code",
   "execution_count": 20,
   "metadata": {},
   "outputs": [
    {
     "data": {
      "text/plain": [
       "(2, 100, 100)"
      ]
     },
     "execution_count": 20,
     "metadata": {},
     "output_type": "execute_result"
    }
   ],
   "source": [
    "hdsobj = bf.HeadFile(model_ws+heads_file)\n",
    "hds = hdsobj.get_data()\n",
    "hds.shape"
   ]
  },
  {
   "cell_type": "markdown",
   "metadata": {},
   "source": [
    "### Plot heads in each layer; export the heads and head contours for viewing in a GIS\n",
    "for more information about GIS export, type `help(export_array)`, for example"
   ]
  },
  {
   "cell_type": "code",
   "execution_count": 21,
   "metadata": {
    "scrolled": false
   },
   "outputs": [
    {
     "name": "stdout",
     "output_type": "stream",
     "text": [
      "GeoTIFF export requires the rasterio package.\n",
      "wrote data/heads1.shp\n",
      "GeoTIFF export requires the rasterio package.\n",
      "wrote data/heads2.shp\n"
     ]
    },
    {
     "data": {
      "text/plain": [
       "<matplotlib.colorbar.Colorbar at 0x7f2079645630>"
      ]
     },
     "execution_count": 21,
     "metadata": {},
     "output_type": "execute_result"
    },
    {
     "data": {
      "image/png": "[encoded data removed]",
      "text/plain": [
       "<matplotlib.figure.Figure at 0x7f2079406f28>"
      ]
     },
     "metadata": {},
     "output_type": "display_data"
    }
   ],
   "source": [
    "fig, axes = plt.subplots(2, 3, figsize=(11, 8.5))\n",
    "axes = axes.flat\n",
    "for i, hdslayer in enumerate(hds):\n",
    "    im = axes[i].imshow(hdslayer, vmin=hds.min(), vmax=hds.max())\n",
    "    axes[i].set_title('Layer {}'.format(i+1))\n",
    "    ctr = axes[i].contour(hdslayer, colors='k', linewidths=0.5)\n",
    "    \n",
    "    # export head rasters \n",
    "    # (GeoTiff export requires the rasterio package; for ascii grids, just change the extention to *.asc)\n",
    "    m.sr.export_array('data/heads{}.tif'.format(i+1), hdslayer)\n",
    "    \n",
    "    # export head contours to a shapefile\n",
    "    m.sr.export_array_contours('data/heads{}.shp'.format(i+1), hdslayer)\n",
    "    \n",
    "fig.delaxes(axes[-1])\n",
    "fig.subplots_adjust(right=0.8)\n",
    "cbar_ax = fig.add_axes([0.85, 0.15, 0.03, 0.7])\n",
    "fig.colorbar(im, cax=cbar_ax, label='Head')"
   ]
  },
  {
   "cell_type": "markdown",
   "metadata": {},
   "source": [
    "### Compare rotated arc-ascii and GeoTiff output"
   ]
  },
  {
   "cell_type": "code",
   "execution_count": 17,
   "metadata": {},
   "outputs": [
    {
     "name": "stdout",
     "output_type": "stream",
     "text": [
      "wrote data/heads5_rot.asc\n",
      "GeoTIFF export requires the rasterio package.\n"
     ]
    },
    {
     "data": {
      "text/plain": [
       "(137, 137)"
      ]
     },
     "execution_count": 17,
     "metadata": {},
     "output_type": "execute_result"
    },
    {
     "data": {
      "image/png": "[encoded data removed]",
      "text/plain": [
       "<matplotlib.figure.Figure at 0x7f20816c1630>"
      ]
     },
     "metadata": {},
     "output_type": "display_data"
    }
   ],
   "source": [
    "m.sr.rotation = 30.\n",
    "nodata = 0.\n",
    "m.sr.export_array('data/heads5_rot.asc', hdslayer, nodata=nodata)\n",
    "m.sr.export_array('data/heads5_rot.tif', hdslayer, nodata=nodata)\n",
    "\n",
    "results = np.loadtxt('data/heads5_rot.asc'.format(i+1), skiprows=6)\n",
    "results[results == nodata] = np.nan\n",
    "plt.imshow(results)\n",
    "plt.colorbar()\n",
    "results.shape"
   ]
  },
  {
   "cell_type": "code",
   "execution_count": 18,
   "metadata": {},
   "outputs": [
    {
     "name": "stdout",
     "output_type": "stream",
     "text": [
      "install rasterio to create GeoTiff output\n"
     ]
    }
   ],
   "source": [
    "try:\n",
    "    import rasterio\n",
    "except:\n",
    "    rasterio = None\n",
    "    print('install rasterio to create GeoTiff output')\n",
    "if rasterio is not None:\n",
    "    with rasterio.open('data/heads5_rot.tif'.format(i+1)) as src:\n",
    "        print(src.meta)\n",
    "        plt.imshow(src.read(1))"
   ]
  },
  {
   "cell_type": "markdown",
   "metadata": {},
   "source": [
    "### Get the vertical head gradients between layers"
   ]
  },
  {
   "cell_type": "code",
   "execution_count": 19,
   "metadata": {},
   "outputs": [
    {
     "name": "stderr",
     "output_type": "stream",
     "text": [
      "/home/zonas/anaconda3/lib/python3.6/site-packages/flopy/utils/postprocessing.py:223: RuntimeWarning: invalid value encountered in true_divide\n",
      "  grad.append(dh/dz)\n"
     ]
    },
    {
     "ename": "TypeError",
     "evalue": "Invalid dimensions for image data",
     "output_type": "error",
     "traceback": [
      "\u001b[0;31m---------------------------------------------------------------------------\u001b[0m",
      "\u001b[0;31mTypeError\u001b[0m                                 Traceback (most recent call last)",
      "\u001b[0;32m<ipython-input-19-ebeab5b2fd79>\u001b[0m in \u001b[0;36m<module>\u001b[0;34m()\u001b[0m\n\u001b[1;32m      5\u001b[0m \u001b[0;34m\u001b[0m\u001b[0m\n\u001b[1;32m      6\u001b[0m \u001b[0;32mfor\u001b[0m \u001b[0mi\u001b[0m\u001b[0;34m,\u001b[0m \u001b[0mvertical_gradient\u001b[0m \u001b[0;32min\u001b[0m \u001b[0menumerate\u001b[0m\u001b[0;34m(\u001b[0m\u001b[0mgrad\u001b[0m\u001b[0;34m)\u001b[0m\u001b[0;34m:\u001b[0m\u001b[0;34m\u001b[0m\u001b[0m\n\u001b[0;32m----> 7\u001b[0;31m     \u001b[0mim\u001b[0m \u001b[0;34m=\u001b[0m \u001b[0maxes\u001b[0m\u001b[0;34m[\u001b[0m\u001b[0mi\u001b[0m\u001b[0;34m]\u001b[0m\u001b[0;34m.\u001b[0m\u001b[0mimshow\u001b[0m\u001b[0;34m(\u001b[0m\u001b[0mvertical_gradient\u001b[0m\u001b[0;34m,\u001b[0m \u001b[0mvmin\u001b[0m\u001b[0;34m=\u001b[0m\u001b[0mgrad\u001b[0m\u001b[0;34m.\u001b[0m\u001b[0mmin\u001b[0m\u001b[0;34m(\u001b[0m\u001b[0;34m)\u001b[0m\u001b[0;34m,\u001b[0m \u001b[0mvmax\u001b[0m\u001b[0;34m=\u001b[0m\u001b[0mgrad\u001b[0m\u001b[0;34m.\u001b[0m\u001b[0mmax\u001b[0m\u001b[0;34m(\u001b[0m\u001b[0;34m)\u001b[0m\u001b[0;34m)\u001b[0m\u001b[0;34m\u001b[0m\u001b[0m\n\u001b[0m\u001b[1;32m      8\u001b[0m     \u001b[0maxes\u001b[0m\u001b[0;34m[\u001b[0m\u001b[0mi\u001b[0m\u001b[0;34m]\u001b[0m\u001b[0;34m.\u001b[0m\u001b[0mset_title\u001b[0m\u001b[0;34m(\u001b[0m\u001b[0;34m'Vertical gradient\\nbetween Layers {} and {}'\u001b[0m\u001b[0;34m.\u001b[0m\u001b[0mformat\u001b[0m\u001b[0;34m(\u001b[0m\u001b[0mi\u001b[0m\u001b[0;34m+\u001b[0m\u001b[0;36m1\u001b[0m\u001b[0;34m,\u001b[0m \u001b[0mi\u001b[0m\u001b[0;34m+\u001b[0m\u001b[0;36m2\u001b[0m\u001b[0;34m)\u001b[0m\u001b[0;34m)\u001b[0m\u001b[0;34m\u001b[0m\u001b[0m\n\u001b[1;32m      9\u001b[0m     ctr = axes[i].contour(vertical_gradient, levels=[-.1, -.05, 0., .05, .1],\n",
      "\u001b[0;32m~/anaconda3/lib/python3.6/site-packages/matplotlib/__init__.py\u001b[0m in \u001b[0;36minner\u001b[0;34m(ax, *args, **kwargs)\u001b[0m\n\u001b[1;32m   1708\u001b[0m                     warnings.warn(msg % (label_namer, func.__name__),\n\u001b[1;32m   1709\u001b[0m                                   RuntimeWarning, stacklevel=2)\n\u001b[0;32m-> 1710\u001b[0;31m             \u001b[0;32mreturn\u001b[0m \u001b[0mfunc\u001b[0m\u001b[0;34m(\u001b[0m\u001b[0max\u001b[0m\u001b[0;34m,\u001b[0m \u001b[0;34m*\u001b[0m\u001b[0margs\u001b[0m\u001b[0;34m,\u001b[0m \u001b[0;34m**\u001b[0m\u001b[0mkwargs\u001b[0m\u001b[0;34m)\u001b[0m\u001b[0;34m\u001b[0m\u001b[0m\n\u001b[0m\u001b[1;32m   1711\u001b[0m         \u001b[0mpre_doc\u001b[0m \u001b[0;34m=\u001b[0m \u001b[0minner\u001b[0m\u001b[0;34m.\u001b[0m\u001b[0m__doc__\u001b[0m\u001b[0;34m\u001b[0m\u001b[0m\n\u001b[1;32m   1712\u001b[0m         \u001b[0;32mif\u001b[0m \u001b[0mpre_doc\u001b[0m \u001b[0;32mis\u001b[0m \u001b[0;32mNone\u001b[0m\u001b[0;34m:\u001b[0m\u001b[0;34m\u001b[0m\u001b[0m\n",
      "\u001b[0;32m~/anaconda3/lib/python3.6/site-packages/matplotlib/axes/_axes.py\u001b[0m in \u001b[0;36mimshow\u001b[0;34m(self, X, cmap, norm, aspect, interpolation, alpha, vmin, vmax, origin, extent, shape, filternorm, filterrad, imlim, resample, url, **kwargs)\u001b[0m\n\u001b[1;32m   5192\u001b[0m                               resample=resample, **kwargs)\n\u001b[1;32m   5193\u001b[0m \u001b[0;34m\u001b[0m\u001b[0m\n\u001b[0;32m-> 5194\u001b[0;31m         \u001b[0mim\u001b[0m\u001b[0;34m.\u001b[0m\u001b[0mset_data\u001b[0m\u001b[0;34m(\u001b[0m\u001b[0mX\u001b[0m\u001b[0;34m)\u001b[0m\u001b[0;34m\u001b[0m\u001b[0m\n\u001b[0m\u001b[1;32m   5195\u001b[0m         \u001b[0mim\u001b[0m\u001b[0;34m.\u001b[0m\u001b[0mset_alpha\u001b[0m\u001b[0;34m(\u001b[0m\u001b[0malpha\u001b[0m\u001b[0;34m)\u001b[0m\u001b[0;34m\u001b[0m\u001b[0m\n\u001b[1;32m   5196\u001b[0m         \u001b[0;32mif\u001b[0m \u001b[0mim\u001b[0m\u001b[0;34m.\u001b[0m\u001b[0mget_clip_path\u001b[0m\u001b[0;34m(\u001b[0m\u001b[0;34m)\u001b[0m \u001b[0;32mis\u001b[0m \u001b[0;32mNone\u001b[0m\u001b[0;34m:\u001b[0m\u001b[0;34m\u001b[0m\u001b[0m\n",
      "\u001b[0;32m~/anaconda3/lib/python3.6/site-packages/matplotlib/image.py\u001b[0m in \u001b[0;36mset_data\u001b[0;34m(self, A)\u001b[0m\n\u001b[1;32m    602\u001b[0m         if not (self._A.ndim == 2\n\u001b[1;32m    603\u001b[0m                 or self._A.ndim == 3 and self._A.shape[-1] in [3, 4]):\n\u001b[0;32m--> 604\u001b[0;31m             \u001b[0;32mraise\u001b[0m \u001b[0mTypeError\u001b[0m\u001b[0;34m(\u001b[0m\u001b[0;34m\"Invalid dimensions for image data\"\u001b[0m\u001b[0;34m)\u001b[0m\u001b[0;34m\u001b[0m\u001b[0m\n\u001b[0m\u001b[1;32m    605\u001b[0m \u001b[0;34m\u001b[0m\u001b[0m\n\u001b[1;32m    606\u001b[0m         \u001b[0mself\u001b[0m\u001b[0;34m.\u001b[0m\u001b[0m_imcache\u001b[0m \u001b[0;34m=\u001b[0m \u001b[0;32mNone\u001b[0m\u001b[0;34m\u001b[0m\u001b[0m\n",
      "\u001b[0;31mTypeError\u001b[0m: Invalid dimensions for image data"
     ]
    },
    {
     "data": {
      "image/png": "[encoded data removed]",
      "text/plain": [
       "<matplotlib.figure.Figure at 0x7f2079696048>"
      ]
     },
     "metadata": {},
     "output_type": "display_data"
    }
   ],
   "source": [
    "grad = get_gradients(hds, m, nodata=-999)\n",
    "\n",
    "fig, axes = plt.subplots(2, 3, figsize=(11, 8.5))\n",
    "axes = axes.flat\n",
    "\n",
    "for i, vertical_gradient in enumerate(grad):\n",
    "    im = axes[i].imshow(vertical_gradient, vmin=grad.min(), vmax=grad.max())\n",
    "    axes[i].set_title('Vertical gradient\\nbetween Layers {} and {}'.format(i+1, i+2))\n",
    "    ctr = axes[i].contour(vertical_gradient, levels=[-.1, -.05, 0., .05, .1],\n",
    "                          colors='k', linewidths=0.5)\n",
    "    plt.clabel(ctr, fontsize=8, inline=1)\n",
    "    \n",
    "fig.delaxes(axes[-2])\n",
    "fig.delaxes(axes[-1])\n",
    "fig.subplots_adjust(right=0.8)\n",
    "cbar_ax = fig.add_axes([0.85, 0.15, 0.03, 0.7])\n",
    "fig.colorbar(im, cax=cbar_ax, label='positive downward')\n"
   ]
  },
  {
   "cell_type": "markdown",
   "metadata": {},
   "source": [
    "### Get the saturated thickness of a layer\n",
    "`get_saturated_thickness()` returns an nlay, nrow, ncol array of saturated thicknesses."
   ]
  },
  {
   "cell_type": "code",
   "execution_count": 9,
   "metadata": {},
   "outputs": [
    {
     "data": {
      "text/plain": [
       "<matplotlib.text.Text at 0x112722080>"
      ]
     },
     "execution_count": 9,
     "metadata": {},
     "output_type": "execute_result"
    },
    {
     "data": {
      "image/png": "[encoded data removed]",
      "text/plain": [
       "<matplotlib.figure.Figure at 0x115c1d470>"
      ]
     },
     "metadata": {},
     "output_type": "display_data"
    }
   ],
   "source": [
    "st = get_saturated_thickness(hds, m, nodata=-9999)\n",
    "\n",
    "plt.imshow(st[0])\n",
    "plt.colorbar(label='Saturated thickness')\n",
    "plt.title('Layer 1')"
   ]
  },
  {
   "cell_type": "markdown",
   "metadata": {},
   "source": [
    "### Get the water table\n",
    "`get_water_table()` returns an nrow, ncol array of the water table elevation.  \n",
    "This method can be useful when HDRY is turned on and the water table is in multiple layers."
   ]
  },
  {
   "cell_type": "code",
   "execution_count": 10,
   "metadata": {},
   "outputs": [
    {
     "data": {
      "text/plain": [
       "<matplotlib.colorbar.Colorbar at 0x1160efc18>"
      ]
     },
     "execution_count": 10,
     "metadata": {},
     "output_type": "execute_result"
    },
    {
     "data": {
      "image/png": "[encoded data removed]",
      "text/plain": [
       "<matplotlib.figure.Figure at 0x115be59b0>"
      ]
     },
     "metadata": {},
     "output_type": "display_data"
    }
   ],
   "source": [
    "wt = get_water_table(heads=hds, nodata=-9999)\n",
    "\n",
    "plt.imshow(wt)\n",
    "plt.colorbar(label='Elevation')"
   ]
  },
  {
   "cell_type": "markdown",
   "metadata": {},
   "source": [
    "### Get layer transmissivities at arbitrary locations, accounting for the position of the water table\n",
    "* for this method, the heads input is an nlay x nobs array of head results, which could be constructed using the Hydmod package with an observation in each layer at each observation location, for example . \n",
    "* x, y values in real-world coordinates can be used in lieu of row, column, provided a correct `SpatialReference` object is attached to the flopy model object . \n",
    "* open interval tops and bottoms can be supplied at each location for computing transmissivity-weighted average heads \n",
    "* this method can also be used for apportioning boundary fluxes for an inset from a 2-D regional model  \n",
    "* see `**flopy3_get_transmissivities_example.ipynb**` for more details on how this method works"
   ]
  },
  {
   "cell_type": "code",
   "execution_count": 11,
   "metadata": {},
   "outputs": [
    {
     "data": {
      "text/plain": [
       "array([[  3.42867432e+03,   2.91529083e+03],\n",
       "       [  2.50000000e+03,   2.50000000e+03],\n",
       "       [  1.99999996e-01,   1.99999996e-01],\n",
       "       [  2.00000000e+04,   2.00000000e+04],\n",
       "       [  2.00000000e+04,   2.00000000e+04]])"
      ]
     },
     "execution_count": 11,
     "metadata": {},
     "output_type": "execute_result"
    }
   ],
   "source": [
    "r=[20, 5] \n",
    "c=[5, 20]\n",
    "headresults = hds[:, r, c]\n",
    "get_transmissivities(headresults, m, r=r, c=c)"
   ]
  },
  {
   "cell_type": "code",
   "execution_count": 12,
   "metadata": {},
   "outputs": [
    {
     "data": {
      "text/plain": [
       "array([[  3.42867432e+03,   2.50000000e+03],\n",
       "       [  2.50000000e+03,   2.50000000e+03],\n",
       "       [  9.99999978e-02,   1.99999996e-01],\n",
       "       [  0.00000000e+00,   1.00000000e+04],\n",
       "       [  0.00000000e+00,   0.00000000e+00]])"
      ]
     },
     "execution_count": 12,
     "metadata": {},
     "output_type": "execute_result"
    }
   ],
   "source": [
    "r=[20, 5] \n",
    "c=[5, 20]\n",
    "sctop = [340, 320] # top of open interval at each location\n",
    "scbot = [210, 150] # top of bottom interval at each location\n",
    "headresults = hds[:, r, c]\n",
    "tr = get_transmissivities(headresults, m, r=r, c=c, \n",
    "                          sctop=sctop, scbot=scbot)\n",
    "tr"
   ]
  },
  {
   "cell_type": "markdown",
   "metadata": {},
   "source": [
    "#### convert to transmissivity fractions"
   ]
  },
  {
   "cell_type": "code",
   "execution_count": 13,
   "metadata": {},
   "outputs": [
    {
     "data": {
      "text/plain": [
       "array([[  5.78310817e-01,   1.66664444e-01],\n",
       "       [  4.21672316e-01,   1.66664444e-01],\n",
       "       [  1.68668923e-05,   1.33331553e-05],\n",
       "       [  0.00000000e+00,   6.66657778e-01],\n",
       "       [  0.00000000e+00,   0.00000000e+00]])"
      ]
     },
     "execution_count": 13,
     "metadata": {},
     "output_type": "execute_result"
    }
   ],
   "source": [
    "trfrac = tr/tr.sum(axis=0)\n",
    "trfrac"
   ]
  },
  {
   "cell_type": "markdown",
   "metadata": {},
   "source": [
    "#### Layer 3 contributes almost no transmissivity because of its K-value"
   ]
  },
  {
   "cell_type": "code",
   "execution_count": 14,
   "metadata": {},
   "outputs": [
    {
     "data": {
      "text/plain": [
       "array([[  5.00000000e+01,   5.00000000e+01],\n",
       "       [  5.00000000e+01,   5.00000000e+01],\n",
       "       [  9.99999978e-03,   9.99999978e-03],\n",
       "       [  2.00000000e+02,   2.00000000e+02],\n",
       "       [  2.00000000e+02,   2.00000000e+02]], dtype=float32)"
      ]
     },
     "execution_count": 14,
     "metadata": {},
     "output_type": "execute_result"
    }
   ],
   "source": [
    "m.lpf.hk.array[:, r, c]"
   ]
  },
  {
   "cell_type": "code",
   "execution_count": 15,
   "metadata": {},
   "outputs": [
    {
     "data": {
      "text/plain": [
       "array([[ 130.,  130.],\n",
       "       [  50.,   50.],\n",
       "       [  20.,   20.],\n",
       "       [ 100.,  100.],\n",
       "       [ 100.,  100.]], dtype=float32)"
      ]
     },
     "execution_count": 15,
     "metadata": {},
     "output_type": "execute_result"
    }
   ],
   "source": [
    "m.dis.thickness.array[:, r, c]"
   ]
  }
 ],
 "metadata": {
  "anaconda-cloud": {},
  "kernelspec": {
   "display_name": "Python 3",
   "language": "python",
   "name": "python3"
  },
  "language_info": {
   "codemirror_mode": {
    "name": "ipython",
    "version": 3
   },
   "file_extension": ".py",
   "mimetype": "text/x-python",
   "name": "python",
   "nbconvert_exporter": "python",
   "pygments_lexer": "ipython3",
   "version": "3.6.3"
  }
 },
 "nbformat": 4,
 "nbformat_minor": 2
}
